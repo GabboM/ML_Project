{
  "nbformat": 4,
  "nbformat_minor": 0,
  "metadata": {
    "kernelspec": {
      "name": "python3",
      "display_name": "Python 3"
    },
    "language_info": {
      "codemirror_mode": {
        "name": "ipython",
        "version": 3
      },
      "file_extension": ".py",
      "mimetype": "text/x-python",
      "name": "python",
      "nbconvert_exporter": "python",
      "pygments_lexer": "ipython3",
      "version": "3.7.4"
    },
    "latex_envs": {
      "LaTeX_envs_menu_present": true,
      "autoclose": false,
      "autocomplete": true,
      "bibliofile": "biblio.bib",
      "cite_by": "apalike",
      "current_citInitial": 1,
      "eqLabelWithNumbers": true,
      "eqNumInitial": 1,
      "hotkeys": {
        "equation": "Ctrl-E",
        "itemize": "Ctrl-I"
      },
      "labels_anchors": false,
      "latex_user_defs": false,
      "report_style_numbering": false,
      "user_envs_cfg": false
    },
    "varInspector": {
      "cols": {
        "lenName": 16,
        "lenType": 16,
        "lenVar": 40
      },
      "kernels_config": {
        "python": {
          "delete_cmd_postfix": "",
          "delete_cmd_prefix": "del ",
          "library": "var_list.py",
          "varRefreshCmd": "print(var_dic_list())"
        },
        "r": {
          "delete_cmd_postfix": ") ",
          "delete_cmd_prefix": "rm(",
          "library": "var_list.r",
          "varRefreshCmd": "cat(var_dic_list()) "
        }
      },
      "types_to_exclude": [
        "module",
        "function",
        "builtin_function_or_method",
        "instance",
        "_Feature"
      ],
      "window_display": false
    },
    "colab": {
      "name": "Classification_with_KNN_Matrix_distance.ipynb",
      "provenance": [],
      "collapsed_sections": [
        "QUJxptrHYvoI",
        "EacKUDQ0YvpA",
        "7wWLbLF_Yvpv",
        "P5Nu0YFSYvqD",
        "K5RZmkuFYvqN",
        "opQauLFVYvqY"
      ],
      "machine_shape": "hm"
    }
  },
  "cells": [
    {
      "cell_type": "code",
      "metadata": {
        "id": "Itb9VYEJYvmJ",
        "colab_type": "code",
        "colab": {}
      },
      "source": [
        "import pandas as pd\n",
        "import numpy as np\n",
        "import matplotlib.pyplot as plt\n",
        "#import seaborn as sns\n",
        "import re\n",
        "from sklearn.preprocessing import StandardScaler\n",
        "from sklearn.preprocessing import MinMaxScaler\n",
        "from sklearn.model_selection import train_test_split\n",
        "from sklearn.preprocessing import OrdinalEncoder\n",
        "from sklearn.neighbors import KNeighborsClassifier\n",
        "from sklearn import linear_model\n",
        "from sklearn.metrics import accuracy_score\n",
        "from sklearn.ensemble import RandomForestClassifier\n",
        "from sklearn.metrics import accuracy_score\n",
        "from sklearn.ensemble import GradientBoostingClassifier\n",
        "from sklearn.model_selection import GridSearchCV"
      ],
      "execution_count": 0,
      "outputs": []
    },
    {
      "cell_type": "code",
      "metadata": {
        "id": "c-zgj06mY-3W",
        "colab_type": "code",
        "outputId": "e6e59a86-e883-478e-aa00-40adf471f4d3",
        "colab": {
          "base_uri": "https://localhost:8080/",
          "height": 122
        }
      },
      "source": [
        "import os.path\n",
        "from google.colab import drive\n",
        "\n",
        "# mount Google Drive to /content/drive/My Drive/\n",
        "if os.path.isdir(\"/content/drive/My Drive\"):\n",
        "  print(\"Google Drive already mounted\")\n",
        "else:\n",
        "  drive.mount('/content/drive')"
      ],
      "execution_count": 2,
      "outputs": [
        {
          "output_type": "stream",
          "text": [
            "Go to this URL in a browser: https://accounts.google.com/o/oauth2/auth?client_id=947318989803-6bn6qk8qdgf4n4g3pfee6491hc0brc4i.apps.googleusercontent.com&redirect_uri=urn%3aietf%3awg%3aoauth%3a2.0%3aoob&response_type=code&scope=email%20https%3a%2f%2fwww.googleapis.com%2fauth%2fdocs.test%20https%3a%2f%2fwww.googleapis.com%2fauth%2fdrive%20https%3a%2f%2fwww.googleapis.com%2fauth%2fdrive.photos.readonly%20https%3a%2f%2fwww.googleapis.com%2fauth%2fpeopleapi.readonly\n",
            "\n",
            "Enter your authorization code:\n",
            "··········\n",
            "Mounted at /content/drive\n"
          ],
          "name": "stdout"
        }
      ]
    },
    {
      "cell_type": "markdown",
      "metadata": {
        "id": "zXJFwMRRYvmb",
        "colab_type": "text"
      },
      "source": [
        "Considering the possible effects connected to LC50. We need to filter on **Mortality Group**"
      ]
    },
    {
      "cell_type": "markdown",
      "metadata": {
        "id": "pOu8N6dUYvmg",
        "colab_type": "text"
      },
      "source": [
        "## Preprocessing on base_db"
      ]
    },
    {
      "cell_type": "code",
      "metadata": {
        "id": "Xsq7Q6kmYvmi",
        "colab_type": "code",
        "outputId": "9dbad032-00a6-4767-e9d4-0b302aec01ad",
        "colab": {
          "base_uri": "https://localhost:8080/",
          "height": 445
        }
      },
      "source": [
        "base_db = pd.read_csv(\"/content/drive/My Drive/Colab Notebooks/data/ML_Project/base_db_smiles_knn.csv\")\n",
        "base_db.head()"
      ],
      "execution_count": 3,
      "outputs": [
        {
          "output_type": "execute_result",
          "data": {
            "text/html": [
              "<div>\n",
              "<style scoped>\n",
              "    .dataframe tbody tr th:only-of-type {\n",
              "        vertical-align: middle;\n",
              "    }\n",
              "\n",
              "    .dataframe tbody tr th {\n",
              "        vertical-align: top;\n",
              "    }\n",
              "\n",
              "    .dataframe thead th {\n",
              "        text-align: right;\n",
              "    }\n",
              "</style>\n",
              "<table border=\"1\" class=\"dataframe\">\n",
              "  <thead>\n",
              "    <tr style=\"text-align: right;\">\n",
              "      <th></th>\n",
              "      <th>test_cas</th>\n",
              "      <th>exposure_type</th>\n",
              "      <th>obs_duration_mean</th>\n",
              "      <th>conc1_type</th>\n",
              "      <th>conc1_mean</th>\n",
              "      <th>class</th>\n",
              "      <th>tax_order</th>\n",
              "      <th>family</th>\n",
              "      <th>genus</th>\n",
              "      <th>species</th>\n",
              "      <th>organism_lifestage</th>\n",
              "      <th>organism_characteristics</th>\n",
              "      <th>ecotox_group</th>\n",
              "      <th>smiles</th>\n",
              "      <th>atom_number</th>\n",
              "      <th>alone_atom_number</th>\n",
              "      <th>tripleBond</th>\n",
              "      <th>doubleBond</th>\n",
              "      <th>bonds_number</th>\n",
              "      <th>ring_numer</th>\n",
              "      <th>Mol</th>\n",
              "      <th>MorganDensity</th>\n",
              "      <th>LogP</th>\n",
              "    </tr>\n",
              "  </thead>\n",
              "  <tbody>\n",
              "    <tr>\n",
              "      <th>0</th>\n",
              "      <td>10108-64-2</td>\n",
              "      <td>S</td>\n",
              "      <td>48.0</td>\n",
              "      <td>T</td>\n",
              "      <td>46.900</td>\n",
              "      <td>Actinopterygii</td>\n",
              "      <td>Cypriniformes</td>\n",
              "      <td>Cyprinidae</td>\n",
              "      <td>Carassius</td>\n",
              "      <td>auratus</td>\n",
              "      <td>NR</td>\n",
              "      <td>1.93 (0.82-4.15) G</td>\n",
              "      <td>Fish,Standard Test Species,U.S. Exotic/Nuisanc...</td>\n",
              "      <td>[Cl-].[Cl-].[Cd++]</td>\n",
              "      <td>3</td>\n",
              "      <td>3</td>\n",
              "      <td>0</td>\n",
              "      <td>0</td>\n",
              "      <td>0.0</td>\n",
              "      <td>0.0</td>\n",
              "      <td>183.318</td>\n",
              "      <td>0.666667</td>\n",
              "      <td>-5.9945</td>\n",
              "    </tr>\n",
              "    <tr>\n",
              "      <th>1</th>\n",
              "      <td>10108-64-2</td>\n",
              "      <td>S</td>\n",
              "      <td>24.0</td>\n",
              "      <td>T</td>\n",
              "      <td>200.000</td>\n",
              "      <td>Actinopterygii</td>\n",
              "      <td>Cyprinodontiformes</td>\n",
              "      <td>Cyprinodontidae</td>\n",
              "      <td>Fundulus</td>\n",
              "      <td>heteroclitus</td>\n",
              "      <td>NR</td>\n",
              "      <td>49.6 MM, 1.0 G</td>\n",
              "      <td>Fish,Standard Test Species</td>\n",
              "      <td>[Cl-].[Cl-].[Cd++]</td>\n",
              "      <td>3</td>\n",
              "      <td>3</td>\n",
              "      <td>0</td>\n",
              "      <td>0</td>\n",
              "      <td>0.0</td>\n",
              "      <td>0.0</td>\n",
              "      <td>183.318</td>\n",
              "      <td>0.666667</td>\n",
              "      <td>-5.9945</td>\n",
              "    </tr>\n",
              "    <tr>\n",
              "      <th>2</th>\n",
              "      <td>10108-64-2</td>\n",
              "      <td>F</td>\n",
              "      <td>96.0</td>\n",
              "      <td>T</td>\n",
              "      <td>0.001</td>\n",
              "      <td>Actinopterygii</td>\n",
              "      <td>Salmoniformes</td>\n",
              "      <td>Salmonidae</td>\n",
              "      <td>Oncorhynchus</td>\n",
              "      <td>mykiss</td>\n",
              "      <td>PA</td>\n",
              "      <td>6.96 G, 8.6 CM</td>\n",
              "      <td>Fish,Standard Test Species,U.S. Exotic/Nuisanc...</td>\n",
              "      <td>[Cl-].[Cl-].[Cd++]</td>\n",
              "      <td>3</td>\n",
              "      <td>3</td>\n",
              "      <td>0</td>\n",
              "      <td>0</td>\n",
              "      <td>0.0</td>\n",
              "      <td>0.0</td>\n",
              "      <td>183.318</td>\n",
              "      <td>0.666667</td>\n",
              "      <td>-5.9945</td>\n",
              "    </tr>\n",
              "    <tr>\n",
              "      <th>3</th>\n",
              "      <td>10108-64-2</td>\n",
              "      <td>S</td>\n",
              "      <td>96.0</td>\n",
              "      <td>T</td>\n",
              "      <td>15.900</td>\n",
              "      <td>Actinopterygii</td>\n",
              "      <td>Cyprinodontiformes</td>\n",
              "      <td>Cyprinodontidae</td>\n",
              "      <td>Cyprinodon</td>\n",
              "      <td>variegatus</td>\n",
              "      <td>NR</td>\n",
              "      <td>25.8 MM, 0.70 G</td>\n",
              "      <td>Fish,Standard Test Species</td>\n",
              "      <td>[Cl-].[Cl-].[Cd++]</td>\n",
              "      <td>3</td>\n",
              "      <td>3</td>\n",
              "      <td>0</td>\n",
              "      <td>0</td>\n",
              "      <td>0.0</td>\n",
              "      <td>0.0</td>\n",
              "      <td>183.318</td>\n",
              "      <td>0.666667</td>\n",
              "      <td>-5.9945</td>\n",
              "    </tr>\n",
              "    <tr>\n",
              "      <th>4</th>\n",
              "      <td>10108-64-2</td>\n",
              "      <td>F</td>\n",
              "      <td>694.0</td>\n",
              "      <td>T</td>\n",
              "      <td>0.030</td>\n",
              "      <td>Actinopterygii</td>\n",
              "      <td>Salmoniformes</td>\n",
              "      <td>Salmonidae</td>\n",
              "      <td>Oncorhynchus</td>\n",
              "      <td>mykiss</td>\n",
              "      <td>JV</td>\n",
              "      <td>0.193 G</td>\n",
              "      <td>Fish,Standard Test Species,U.S. Exotic/Nuisanc...</td>\n",
              "      <td>[Cl-].[Cl-].[Cd++]</td>\n",
              "      <td>3</td>\n",
              "      <td>3</td>\n",
              "      <td>0</td>\n",
              "      <td>0</td>\n",
              "      <td>0.0</td>\n",
              "      <td>0.0</td>\n",
              "      <td>183.318</td>\n",
              "      <td>0.666667</td>\n",
              "      <td>-5.9945</td>\n",
              "    </tr>\n",
              "  </tbody>\n",
              "</table>\n",
              "</div>"
            ],
            "text/plain": [
              "     test_cas exposure_type  obs_duration_mean  ...      Mol  MorganDensity    LogP\n",
              "0  10108-64-2             S               48.0  ...  183.318       0.666667 -5.9945\n",
              "1  10108-64-2             S               24.0  ...  183.318       0.666667 -5.9945\n",
              "2  10108-64-2             F               96.0  ...  183.318       0.666667 -5.9945\n",
              "3  10108-64-2             S               96.0  ...  183.318       0.666667 -5.9945\n",
              "4  10108-64-2             F              694.0  ...  183.318       0.666667 -5.9945\n",
              "\n",
              "[5 rows x 23 columns]"
            ]
          },
          "metadata": {
            "tags": []
          },
          "execution_count": 3
        }
      ]
    },
    {
      "cell_type": "code",
      "metadata": {
        "id": "LspwbFiybwsY",
        "colab_type": "code",
        "colab": {}
      },
      "source": [
        "base_db = base_db[base_db.obs_duration_mean.isin([96])]"
      ],
      "execution_count": 0,
      "outputs": []
    },
    {
      "cell_type": "code",
      "metadata": {
        "id": "vRvdpOEIYvmo",
        "colab_type": "code",
        "colab": {}
      },
      "source": [
        "to_drop = base_db[base_db.bonds_number.isnull()].index"
      ],
      "execution_count": 0,
      "outputs": []
    },
    {
      "cell_type": "code",
      "metadata": {
        "id": "NaY2mC7rYvmu",
        "colab_type": "code",
        "colab": {}
      },
      "source": [
        "base_db = base_db.drop(to_drop,axis=0)"
      ],
      "execution_count": 0,
      "outputs": []
    },
    {
      "cell_type": "code",
      "metadata": {
        "id": "MlkaDmScb_qy",
        "colab_type": "code",
        "outputId": "c4e05fac-d1dc-4e39-9b33-94272b478bba",
        "colab": {
          "base_uri": "https://localhost:8080/",
          "height": 34
        }
      },
      "source": [
        "base_db.index.size"
      ],
      "execution_count": 7,
      "outputs": [
        {
          "output_type": "execute_result",
          "data": {
            "text/plain": [
              "22305"
            ]
          },
          "metadata": {
            "tags": []
          },
          "execution_count": 7
        }
      ]
    },
    {
      "cell_type": "code",
      "metadata": {
        "id": "1GTX-xVTYvm2",
        "colab_type": "code",
        "outputId": "5492fb58-474e-45f0-e9e5-55a42d28929e",
        "colab": {
          "base_uri": "https://localhost:8080/",
          "height": 136
        }
      },
      "source": [
        "base_db.columns"
      ],
      "execution_count": 8,
      "outputs": [
        {
          "output_type": "execute_result",
          "data": {
            "text/plain": [
              "Index(['test_cas', 'exposure_type', 'obs_duration_mean', 'conc1_type',\n",
              "       'conc1_mean', 'class', 'tax_order', 'family', 'genus', 'species',\n",
              "       'organism_lifestage', 'organism_characteristics', 'ecotox_group',\n",
              "       'smiles', 'atom_number', 'alone_atom_number', 'tripleBond',\n",
              "       'doubleBond', 'bonds_number', 'ring_numer', 'Mol', 'MorganDensity',\n",
              "       'LogP'],\n",
              "      dtype='object')"
            ]
          },
          "metadata": {
            "tags": []
          },
          "execution_count": 8
        }
      ]
    },
    {
      "cell_type": "code",
      "metadata": {
        "id": "fK5CrxMfYvm9",
        "colab_type": "code",
        "colab": {}
      },
      "source": [
        "use_db = base_db.copy()\n",
        "use_db = use_db[['test_cas', 'exposure_type', 'obs_duration_mean', 'conc1_type',\n",
        "       'conc1_mean', 'class', 'tax_order', 'family', 'genus', 'species','atom_number', 'alone_atom_number', 'tripleBond',\n",
        "       'doubleBond', 'bonds_number', 'ring_numer',\n",
        "       'Mol', 'MorganDensity', 'LogP']]"
      ],
      "execution_count": 0,
      "outputs": []
    },
    {
      "cell_type": "code",
      "metadata": {
        "id": "hH8ZVEr9YvnA",
        "colab_type": "code",
        "outputId": "c599bc61-bf59-4ed8-dcf4-6d862bb75eda",
        "colab": {
          "base_uri": "https://localhost:8080/",
          "height": 34
        }
      },
      "source": [
        "use_db.index.size"
      ],
      "execution_count": 10,
      "outputs": [
        {
          "output_type": "execute_result",
          "data": {
            "text/plain": [
              "22305"
            ]
          },
          "metadata": {
            "tags": []
          },
          "execution_count": 10
        }
      ]
    },
    {
      "cell_type": "markdown",
      "metadata": {
        "id": "bvSLIAICaUfg",
        "colab_type": "text"
      },
      "source": [
        "# Repeated experiments"
      ]
    },
    {
      "cell_type": "code",
      "metadata": {
        "id": "OXz1gpp-aUKN",
        "colab_type": "code",
        "outputId": "2fcd582e-4371-4f98-aa01-30086d1da04a",
        "colab": {
          "base_uri": "https://localhost:8080/",
          "height": 34
        }
      },
      "source": [
        "use_db = use_db.groupby(by=[\"test_cas\", \"exposure_type\", \"obs_duration_mean\", \"conc1_type\", \"species\", \"genus\", \"family\", \"tax_order\", \"class\"]).agg(\"median\").reset_index()\n",
        "use_db.index.size"
      ],
      "execution_count": 11,
      "outputs": [
        {
          "output_type": "execute_result",
          "data": {
            "text/plain": [
              "10338"
            ]
          },
          "metadata": {
            "tags": []
          },
          "execution_count": 11
        }
      ]
    },
    {
      "cell_type": "markdown",
      "metadata": {
        "id": "Zk3dAdiPYvnQ",
        "colab_type": "text"
      },
      "source": [
        "## Atom Number"
      ]
    },
    {
      "cell_type": "code",
      "metadata": {
        "id": "ZW3kXb_wYvnR",
        "colab_type": "code",
        "outputId": "31818a75-600d-46ec-def6-db2264d3ec77",
        "colab": {
          "base_uri": "https://localhost:8080/",
          "height": 295
        }
      },
      "source": [
        "# plotted as before\n",
        "use_db.atom_number.hist(bins=100)\n",
        "plt.title(\"atom_number\")\n",
        "plt.xlabel(\"Value\")\n",
        "plt.ylabel(\"Counts\");"
      ],
      "execution_count": 12,
      "outputs": [
        {
          "output_type": "display_data",
          "data": {
            "image/png": "[encoded data removed]",
            "text/plain": [
              "<Figure size 432x288 with 1 Axes>"
            ]
          },
          "metadata": {
            "tags": []
          }
        }
      ]
    },
    {
      "cell_type": "markdown",
      "metadata": {
        "id": "SHkWDr_WYvnU",
        "colab_type": "text"
      },
      "source": [
        "We decided to scale by both a logarithmic transformations ans a MinMax scale"
      ]
    },
    {
      "cell_type": "code",
      "metadata": {
        "id": "7vbegOKfYvnU",
        "colab_type": "code",
        "colab": {}
      },
      "source": [
        "# logarithmic transformations\n",
        "use_db.atom_number = use_db.atom_number.apply(lambda x: np.log1p(x))\n",
        "# MinMax scale\n",
        "minmax = MinMaxScaler()\n",
        "minmax.fit(use_db[[\"atom_number\"]])\n",
        "use_db[[\"atom_number\"]] = minmax.transform(use_db[[\"atom_number\"]])"
      ],
      "execution_count": 0,
      "outputs": []
    },
    {
      "cell_type": "code",
      "metadata": {
        "id": "FHV1UQQxYvnW",
        "colab_type": "code",
        "outputId": "90dfcd0a-ff4c-4eea-d5c4-cfeaa2f4df1c",
        "colab": {
          "base_uri": "https://localhost:8080/",
          "height": 295
        }
      },
      "source": [
        "# plotted as before\n",
        "use_db.atom_number.hist(bins=30)\n",
        "plt.title(\"atom_number\")\n",
        "plt.xlabel(\"Value\")\n",
        "plt.ylabel(\"Counts\");"
      ],
      "execution_count": 14,
      "outputs": [
        {
          "output_type": "display_data",
          "data": {
            "image/png": "[encoded data removed]",
            "text/plain": [
              "<Figure size 432x288 with 1 Axes>"
            ]
          },
          "metadata": {
            "tags": []
          }
        }
      ]
    },
    {
      "cell_type": "markdown",
      "metadata": {
        "id": "IWvh6MkKYvnZ",
        "colab_type": "text"
      },
      "source": [
        "## alone_Atom Number"
      ]
    },
    {
      "cell_type": "code",
      "metadata": {
        "id": "nb2dDkQXYvna",
        "colab_type": "code",
        "outputId": "5e9cad10-0490-40e5-f304-1b2c03f6b75b",
        "colab": {
          "base_uri": "https://localhost:8080/",
          "height": 295
        }
      },
      "source": [
        "# plotted as before\n",
        "use_db.alone_atom_number.hist(bins=100)\n",
        "plt.title(\"alone_atom_number\")\n",
        "plt.xlabel(\"Value\")\n",
        "plt.ylabel(\"Counts\");"
      ],
      "execution_count": 15,
      "outputs": [
        {
          "output_type": "display_data",
          "data": {
            "image/png": "[encoded data removed]",
            "text/plain": [
              "<Figure size 432x288 with 1 Axes>"
            ]
          },
          "metadata": {
            "tags": []
          }
        }
      ]
    },
    {
      "cell_type": "markdown",
      "metadata": {
        "id": "G4rN0tQlYvnd",
        "colab_type": "text"
      },
      "source": [
        "## Bonds Number"
      ]
    },
    {
      "cell_type": "code",
      "metadata": {
        "id": "os44h-6rYvne",
        "colab_type": "code",
        "outputId": "2bc71790-b720-4576-b971-3e2c5b4b9702",
        "colab": {
          "base_uri": "https://localhost:8080/",
          "height": 295
        }
      },
      "source": [
        "# plotted as before\n",
        "use_db.bonds_number.hist(bins=100)\n",
        "plt.yscale(\"log\")\n",
        "plt.title(\"bonds_number\")\n",
        "plt.xlabel(\"Value\")\n",
        "plt.ylabel(\"Counts\");"
      ],
      "execution_count": 16,
      "outputs": [
        {
          "output_type": "display_data",
          "data": {
            "image/png": "[encoded data removed]",
            "text/plain": [
              "<Figure size 432x288 with 1 Axes>"
            ]
          },
          "metadata": {
            "tags": []
          }
        }
      ]
    },
    {
      "cell_type": "markdown",
      "metadata": {
        "id": "hLDrbOyNYvng",
        "colab_type": "text"
      },
      "source": [
        "We decided to scale by both a logarithmic transformations ans a MinMax scale"
      ]
    },
    {
      "cell_type": "code",
      "metadata": {
        "id": "aQmBJXYoYvnh",
        "colab_type": "code",
        "colab": {}
      },
      "source": [
        "# logarithmic transformations\n",
        "use_db.bonds_number = use_db.bonds_number.apply(lambda x: np.log1p(x))\n",
        "# MinMax scale\n",
        "minmax = MinMaxScaler()\n",
        "minmax.fit(use_db[[\"bonds_number\"]])\n",
        "use_db[[\"bonds_number\"]] = minmax.transform(use_db[[\"bonds_number\"]])"
      ],
      "execution_count": 0,
      "outputs": []
    },
    {
      "cell_type": "code",
      "metadata": {
        "id": "855PKxbvYvnj",
        "colab_type": "code",
        "outputId": "053889d0-42af-4dd3-ded1-93c24b63ff9d",
        "colab": {
          "base_uri": "https://localhost:8080/",
          "height": 295
        }
      },
      "source": [
        "use_db.bonds_number.hist(bins=100)\n",
        "plt.title(\"bonds_number\")\n",
        "plt.xlabel(\"Value\")\n",
        "plt.ylabel(\"Counts\");"
      ],
      "execution_count": 18,
      "outputs": [
        {
          "output_type": "display_data",
          "data": {
            "image/png": "[encoded data removed]",
            "text/plain": [
              "<Figure size 432x288 with 1 Axes>"
            ]
          },
          "metadata": {
            "tags": []
          }
        }
      ]
    },
    {
      "cell_type": "markdown",
      "metadata": {
        "id": "hWNBBG0jYvno",
        "colab_type": "text"
      },
      "source": [
        "## tripleBond"
      ]
    },
    {
      "cell_type": "code",
      "metadata": {
        "id": "VrIxm6JaYvnp",
        "colab_type": "code",
        "outputId": "4a8876dd-9bb9-4fb1-c8d8-0a29c9e99f50",
        "colab": {
          "base_uri": "https://localhost:8080/",
          "height": 295
        }
      },
      "source": [
        "# plotted as before\n",
        "use_db.tripleBond.hist(bins=100)\n",
        "plt.title(\"tripleBond\")\n",
        "plt.xlabel(\"Value\")\n",
        "plt.ylabel(\"Counts\");"
      ],
      "execution_count": 19,
      "outputs": [
        {
          "output_type": "display_data",
          "data": {
            "image/png": "[encoded data removed]",
            "text/plain": [
              "<Figure size 432x288 with 1 Axes>"
            ]
          },
          "metadata": {
            "tags": []
          }
        }
      ]
    },
    {
      "cell_type": "markdown",
      "metadata": {
        "id": "lLjOGO5SYvnw",
        "colab_type": "text"
      },
      "source": [
        "## doubleBond"
      ]
    },
    {
      "cell_type": "code",
      "metadata": {
        "id": "FQfwYTOVYvnx",
        "colab_type": "code",
        "outputId": "32c77082-e752-411e-887a-176e5bc12610",
        "colab": {
          "base_uri": "https://localhost:8080/",
          "height": 295
        }
      },
      "source": [
        "# plotted as before\n",
        "use_db.doubleBond.hist(bins=100)\n",
        "plt.title(\"doubleBond\")\n",
        "plt.xlabel(\"Value\")\n",
        "plt.ylabel(\"Counts\");"
      ],
      "execution_count": 20,
      "outputs": [
        {
          "output_type": "display_data",
          "data": {
            "image/png": "[encoded data removed]",
            "text/plain": [
              "<Figure size 432x288 with 1 Axes>"
            ]
          },
          "metadata": {
            "tags": []
          }
        }
      ]
    },
    {
      "cell_type": "markdown",
      "metadata": {
        "id": "WF7XrZ_mYvn0",
        "colab_type": "text"
      },
      "source": [
        "## Rings number"
      ]
    },
    {
      "cell_type": "code",
      "metadata": {
        "id": "VO5JWSGiYvn0",
        "colab_type": "code",
        "outputId": "52dbc35d-d38c-4a8b-cb19-ae82817a2ccb",
        "colab": {
          "base_uri": "https://localhost:8080/",
          "height": 295
        }
      },
      "source": [
        "# plotted as before\n",
        "use_db.ring_numer.hist(bins=100)\n",
        "#plt.yscale(\"log\")\n",
        "plt.title(\"ring_numer\")\n",
        "plt.xlabel(\"Value\")\n",
        "plt.ylabel(\"Counts\");"
      ],
      "execution_count": 21,
      "outputs": [
        {
          "output_type": "display_data",
          "data": {
            "image/png": "[encoded data removed]",
            "text/plain": [
              "<Figure size 432x288 with 1 Axes>"
            ]
          },
          "metadata": {
            "tags": []
          }
        }
      ]
    },
    {
      "cell_type": "markdown",
      "metadata": {
        "id": "cofw6KqQYvn2",
        "colab_type": "text"
      },
      "source": [
        "We assume this as a categrical features and we don't change it"
      ]
    },
    {
      "cell_type": "markdown",
      "metadata": {
        "id": "2ZFtySWRYvn3",
        "colab_type": "text"
      },
      "source": [
        "## Mol"
      ]
    },
    {
      "cell_type": "code",
      "metadata": {
        "id": "nGAj9SzOYvn3",
        "colab_type": "code",
        "outputId": "cceca493-a7d6-4b1c-83dd-30dba2a90363",
        "colab": {
          "base_uri": "https://localhost:8080/",
          "height": 295
        }
      },
      "source": [
        "# plotted as before\n",
        "use_db.Mol.hist(bins=100)\n",
        "plt.yscale(\"log\")\n",
        "plt.title(\"Mol\")\n",
        "plt.xlabel(\"Value\")\n",
        "plt.ylabel(\"Counts\");"
      ],
      "execution_count": 22,
      "outputs": [
        {
          "output_type": "display_data",
          "data": {
            "image/png": "[encoded data removed]",
            "text/plain": [
              "<Figure size 432x288 with 1 Axes>"
            ]
          },
          "metadata": {
            "tags": []
          }
        }
      ]
    },
    {
      "cell_type": "markdown",
      "metadata": {
        "id": "q2_Iw3XgYvn5",
        "colab_type": "text"
      },
      "source": [
        "We only this to scale the range of this variable"
      ]
    },
    {
      "cell_type": "code",
      "metadata": {
        "id": "IHjBhc1rYvn6",
        "colab_type": "code",
        "colab": {}
      },
      "source": [
        "# MinMax scale\n",
        "minmax = MinMaxScaler()\n",
        "minmax.fit(use_db[[\"Mol\"]])\n",
        "use_db[[\"Mol\"]] = minmax.transform(use_db[[\"Mol\"]])"
      ],
      "execution_count": 0,
      "outputs": []
    },
    {
      "cell_type": "code",
      "metadata": {
        "id": "3dkpq68GYvn9",
        "colab_type": "code",
        "outputId": "8a5fd95e-bc73-4efb-ffc0-c6b959d0ea0f",
        "colab": {
          "base_uri": "https://localhost:8080/",
          "height": 295
        }
      },
      "source": [
        "# plotted as before\n",
        "use_db.Mol.hist(bins=100)\n",
        "plt.title(\"Mol\")\n",
        "plt.xlabel(\"Value\")\n",
        "plt.ylabel(\"Counts\");"
      ],
      "execution_count": 24,
      "outputs": [
        {
          "output_type": "display_data",
          "data": {
            "image/png": "[encoded data removed]",
            "text/plain": [
              "<Figure size 432x288 with 1 Axes>"
            ]
          },
          "metadata": {
            "tags": []
          }
        }
      ]
    },
    {
      "cell_type": "markdown",
      "metadata": {
        "id": "mzse3nlBYvn_",
        "colab_type": "text"
      },
      "source": [
        "## Morgan Density"
      ]
    },
    {
      "cell_type": "code",
      "metadata": {
        "id": "ZhzFaQyPYvoB",
        "colab_type": "code",
        "outputId": "b72143fc-8012-4b0e-a1df-23cb7abc709f",
        "colab": {
          "base_uri": "https://localhost:8080/",
          "height": 295
        }
      },
      "source": [
        "# plotted as before\n",
        "use_db.MorganDensity.hist(bins=100)\n",
        "#plt.yscale(\"log\")\n",
        "plt.title(\"MorganDensity\")\n",
        "plt.xlabel(\"Value\")\n",
        "plt.ylabel(\"Counts\");"
      ],
      "execution_count": 25,
      "outputs": [
        {
          "output_type": "display_data",
          "data": {
            "image/png": "[encoded data removed]",
            "text/plain": [
              "<Figure size 432x288 with 1 Axes>"
            ]
          },
          "metadata": {
            "tags": []
          }
        }
      ]
    },
    {
      "cell_type": "markdown",
      "metadata": {
        "id": "1SQvrQXKYvoD",
        "colab_type": "text"
      },
      "source": [
        "We keeo this untouch"
      ]
    },
    {
      "cell_type": "markdown",
      "metadata": {
        "id": "ukuBMNUDYvoE",
        "colab_type": "text"
      },
      "source": [
        "## LogP"
      ]
    },
    {
      "cell_type": "code",
      "metadata": {
        "id": "wPagt1gPYvoF",
        "colab_type": "code",
        "outputId": "c990fa6d-ff1f-4b47-c601-243183e8f84e",
        "colab": {
          "base_uri": "https://localhost:8080/",
          "height": 295
        }
      },
      "source": [
        "# plotted as before\n",
        "use_db.LogP.hist(bins=100)\n",
        "plt.title(\"LogP\")\n",
        "plt.xlabel(\"Value\")\n",
        "plt.ylabel(\"Counts\");"
      ],
      "execution_count": 26,
      "outputs": [
        {
          "output_type": "display_data",
          "data": {
            "image/png": "[encoded data removed]",
            "text/plain": [
              "<Figure size 432x288 with 1 Axes>"
            ]
          },
          "metadata": {
            "tags": []
          }
        }
      ]
    },
    {
      "cell_type": "markdown",
      "metadata": {
        "id": "aGItj4l-YvoH",
        "colab_type": "text"
      },
      "source": [
        ""
      ]
    },
    {
      "cell_type": "markdown",
      "metadata": {
        "id": "QUJxptrHYvoI",
        "colab_type": "text"
      },
      "source": [
        "### categorical features  \n",
        "We will need to encode exposure_type, conc1_type, class, tax_order, family_genus, species. Not done now because we will encoding depending on the case"
      ]
    },
    {
      "cell_type": "markdown",
      "metadata": {
        "id": "PhKh42M1YvoI",
        "colab_type": "text"
      },
      "source": [
        "### Simple classification with Smile Features\n",
        "Considering a threshold of 1mg/L of mortality"
      ]
    },
    {
      "cell_type": "code",
      "metadata": {
        "id": "tqgiTnDLYvoJ",
        "colab_type": "code",
        "colab": {}
      },
      "source": [
        "X = use_db.copy()\n",
        "X = X[[\n",
        " 'exposure_type',\n",
        "#  'obs_duration_mean',\n",
        " 'conc1_type',\n",
        " 'species',\n",
        " 'atom_number', \n",
        "    'alone_atom_number', \n",
        "    'tripleBond',\n",
        "       'doubleBond',\n",
        " 'bonds_number',\n",
        "  'ring_numer',\n",
        "  'Mol', \n",
        "  'MorganDensity', 'LogP']]"
      ],
      "execution_count": 0,
      "outputs": []
    },
    {
      "cell_type": "code",
      "metadata": {
        "id": "jSwA91UAYvoM",
        "colab_type": "code",
        "outputId": "7351216f-36f0-496e-e819-074903e3a47c",
        "colab": {
          "base_uri": "https://localhost:8080/",
          "height": 34
        }
      },
      "source": [
        "X['exposure_type'].unique()"
      ],
      "execution_count": 28,
      "outputs": [
        {
          "output_type": "execute_result",
          "data": {
            "text/plain": [
              "array(['F', 'S', 'R', 'AQUA', 'P', 'IP', 'E', 'FD', 'O'], dtype=object)"
            ]
          },
          "metadata": {
            "tags": []
          },
          "execution_count": 28
        }
      ]
    },
    {
      "cell_type": "code",
      "metadata": {
        "id": "XvZ0iFIGYvoN",
        "colab_type": "code",
        "outputId": "82da3900-309a-4d12-de0e-89c3667390f1",
        "colab": {
          "base_uri": "https://localhost:8080/",
          "height": 34
        }
      },
      "source": [
        "X['conc1_type'].unique()"
      ],
      "execution_count": 29,
      "outputs": [
        {
          "output_type": "execute_result",
          "data": {
            "text/plain": [
              "array(['F', 'A', 'T', 'D', 'L', 'U'], dtype=object)"
            ]
          },
          "metadata": {
            "tags": []
          },
          "execution_count": 29
        }
      ]
    },
    {
      "cell_type": "code",
      "metadata": {
        "scrolled": true,
        "id": "gyKuqaC4YvoQ",
        "colab_type": "code",
        "outputId": "d82ccede-6281-4677-aa7a-07036fcf77de",
        "colab": {
          "base_uri": "https://localhost:8080/",
          "height": 34
        }
      },
      "source": [
        "len(X['species'].unique())"
      ],
      "execution_count": 30,
      "outputs": [
        {
          "output_type": "execute_result",
          "data": {
            "text/plain": [
              "411"
            ]
          },
          "metadata": {
            "tags": []
          },
          "execution_count": 30
        }
      ]
    },
    {
      "cell_type": "markdown",
      "metadata": {
        "id": "KGv8CANPYvoR",
        "colab_type": "text"
      },
      "source": [
        "For this  vaiables we decided to transform than by an OrdinalEncoder, in order to have all numnerical variables"
      ]
    },
    {
      "cell_type": "code",
      "metadata": {
        "id": "uU4VdHDnYvoS",
        "colab_type": "code",
        "colab": {}
      },
      "source": [
        "enc = OrdinalEncoder(dtype=int)\n",
        "enc.fit(X[[\"exposure_type\", \"conc1_type\",\"species\"]])\n",
        "X[[\"exposure_type\", \"conc1_type\",\"species\"]] = enc.transform(X[[\"exposure_type\", \"conc1_type\",\"species\"]]) + 1"
      ],
      "execution_count": 0,
      "outputs": []
    },
    {
      "cell_type": "code",
      "metadata": {
        "id": "Z-pqviGOYvoT",
        "colab_type": "code",
        "outputId": "2e970480-4959-4783-b134-5c42b261a363",
        "colab": {
          "base_uri": "https://localhost:8080/",
          "height": 204
        }
      },
      "source": [
        "X.head()"
      ],
      "execution_count": 32,
      "outputs": [
        {
          "output_type": "execute_result",
          "data": {
            "text/html": [
              "<div>\n",
              "<style scoped>\n",
              "    .dataframe tbody tr th:only-of-type {\n",
              "        vertical-align: middle;\n",
              "    }\n",
              "\n",
              "    .dataframe tbody tr th {\n",
              "        vertical-align: top;\n",
              "    }\n",
              "\n",
              "    .dataframe thead th {\n",
              "        text-align: right;\n",
              "    }\n",
              "</style>\n",
              "<table border=\"1\" class=\"dataframe\">\n",
              "  <thead>\n",
              "    <tr style=\"text-align: right;\">\n",
              "      <th></th>\n",
              "      <th>exposure_type</th>\n",
              "      <th>conc1_type</th>\n",
              "      <th>species</th>\n",
              "      <th>atom_number</th>\n",
              "      <th>alone_atom_number</th>\n",
              "      <th>tripleBond</th>\n",
              "      <th>doubleBond</th>\n",
              "      <th>bonds_number</th>\n",
              "      <th>ring_numer</th>\n",
              "      <th>Mol</th>\n",
              "      <th>MorganDensity</th>\n",
              "      <th>LogP</th>\n",
              "    </tr>\n",
              "  </thead>\n",
              "  <tbody>\n",
              "    <tr>\n",
              "      <th>0</th>\n",
              "      <td>3</td>\n",
              "      <td>3</td>\n",
              "      <td>327</td>\n",
              "      <td>0.317908</td>\n",
              "      <td>2</td>\n",
              "      <td>0</td>\n",
              "      <td>1</td>\n",
              "      <td>0.488106</td>\n",
              "      <td>1.0</td>\n",
              "      <td>0.086004</td>\n",
              "      <td>1.3</td>\n",
              "      <td>2.2482</td>\n",
              "    </tr>\n",
              "    <tr>\n",
              "      <th>1</th>\n",
              "      <td>3</td>\n",
              "      <td>1</td>\n",
              "      <td>314</td>\n",
              "      <td>0.317908</td>\n",
              "      <td>2</td>\n",
              "      <td>0</td>\n",
              "      <td>1</td>\n",
              "      <td>0.488106</td>\n",
              "      <td>1.0</td>\n",
              "      <td>0.074755</td>\n",
              "      <td>1.3</td>\n",
              "      <td>1.1770</td>\n",
              "    </tr>\n",
              "    <tr>\n",
              "      <th>2</th>\n",
              "      <td>9</td>\n",
              "      <td>1</td>\n",
              "      <td>219</td>\n",
              "      <td>0.317908</td>\n",
              "      <td>2</td>\n",
              "      <td>0</td>\n",
              "      <td>1</td>\n",
              "      <td>0.488106</td>\n",
              "      <td>1.0</td>\n",
              "      <td>0.074755</td>\n",
              "      <td>1.3</td>\n",
              "      <td>1.1770</td>\n",
              "    </tr>\n",
              "    <tr>\n",
              "      <th>3</th>\n",
              "      <td>9</td>\n",
              "      <td>1</td>\n",
              "      <td>265</td>\n",
              "      <td>0.317908</td>\n",
              "      <td>2</td>\n",
              "      <td>0</td>\n",
              "      <td>1</td>\n",
              "      <td>0.488106</td>\n",
              "      <td>1.0</td>\n",
              "      <td>0.074755</td>\n",
              "      <td>1.3</td>\n",
              "      <td>1.1770</td>\n",
              "    </tr>\n",
              "    <tr>\n",
              "      <th>4</th>\n",
              "      <td>9</td>\n",
              "      <td>1</td>\n",
              "      <td>314</td>\n",
              "      <td>0.317908</td>\n",
              "      <td>2</td>\n",
              "      <td>0</td>\n",
              "      <td>1</td>\n",
              "      <td>0.488106</td>\n",
              "      <td>1.0</td>\n",
              "      <td>0.074755</td>\n",
              "      <td>1.3</td>\n",
              "      <td>1.1770</td>\n",
              "    </tr>\n",
              "  </tbody>\n",
              "</table>\n",
              "</div>"
            ],
            "text/plain": [
              "   exposure_type  conc1_type  species  ...       Mol  MorganDensity    LogP\n",
              "0              3           3      327  ...  0.086004            1.3  2.2482\n",
              "1              3           1      314  ...  0.074755            1.3  1.1770\n",
              "2              9           1      219  ...  0.074755            1.3  1.1770\n",
              "3              9           1      265  ...  0.074755            1.3  1.1770\n",
              "4              9           1      314  ...  0.074755            1.3  1.1770\n",
              "\n",
              "[5 rows x 12 columns]"
            ]
          },
          "metadata": {
            "tags": []
          },
          "execution_count": 32
        }
      ]
    },
    {
      "cell_type": "markdown",
      "metadata": {
        "id": "Do7vjkJ5YvoW",
        "colab_type": "text"
      },
      "source": [
        "We also devide the label, in order to have a binary classification"
      ]
    },
    {
      "cell_type": "code",
      "metadata": {
        "id": "y-yYcPvKYvoX",
        "colab_type": "code",
        "colab": {}
      },
      "source": [
        "y = use_db[\"conc1_mean\"].copy().values\n",
        "y = np.where(y > 1, 1, 0)"
      ],
      "execution_count": 0,
      "outputs": []
    },
    {
      "cell_type": "code",
      "metadata": {
        "id": "MtPM1bDIdEGI",
        "colab_type": "code",
        "outputId": "01f2a7ca-91c7-401e-8cd7-8dbc13155588",
        "colab": {
          "base_uri": "https://localhost:8080/",
          "height": 34
        }
      },
      "source": [
        "len(X)"
      ],
      "execution_count": 34,
      "outputs": [
        {
          "output_type": "execute_result",
          "data": {
            "text/plain": [
              "10338"
            ]
          },
          "metadata": {
            "tags": []
          },
          "execution_count": 34
        }
      ]
    },
    {
      "cell_type": "code",
      "metadata": {
        "id": "orkDIEtlYvoY",
        "colab_type": "code",
        "outputId": "01aaafa6-d930-4ca8-d47b-eb87c45f696a",
        "colab": {
          "base_uri": "https://localhost:8080/",
          "height": 34
        }
      },
      "source": [
        "print(len(y[y==0]), len(y[y==1]))"
      ],
      "execution_count": 35,
      "outputs": [
        {
          "output_type": "stream",
          "text": [
            "3996 6342\n"
          ],
          "name": "stdout"
        }
      ]
    },
    {
      "cell_type": "code",
      "metadata": {
        "id": "viBnVgnEYvoa",
        "colab_type": "code",
        "colab": {}
      },
      "source": [
        "X_train, X_test, y_train, y_test = train_test_split(X, y, test_size=0.33, random_state=42)"
      ],
      "execution_count": 0,
      "outputs": []
    },
    {
      "cell_type": "markdown",
      "metadata": {
        "id": "0xCICjY3Yvoc",
        "colab_type": "text"
      },
      "source": [
        "## KNN"
      ]
    },
    {
      "cell_type": "markdown",
      "metadata": {
        "id": "KwfKTpI7Yvod",
        "colab_type": "text"
      },
      "source": [
        "We first implement a classification by a K Neighbors Classifier"
      ]
    },
    {
      "cell_type": "code",
      "metadata": {
        "id": "i913risRYvoe",
        "colab_type": "code",
        "colab": {}
      },
      "source": [
        "neigh = KNeighborsClassifier()\n",
        "neigh.fit(X_train, y_train.ravel())\n",
        "y_pred = neigh.predict(X_test)"
      ],
      "execution_count": 0,
      "outputs": []
    },
    {
      "cell_type": "code",
      "metadata": {
        "id": "M2lfLDtbYvoh",
        "colab_type": "code",
        "outputId": "113439ba-e6e6-4763-f9f8-d758cbb08250",
        "colab": {
          "base_uri": "https://localhost:8080/",
          "height": 34
        }
      },
      "source": [
        "accuracy_score(y_test, y_pred)"
      ],
      "execution_count": 0,
      "outputs": [
        {
          "output_type": "execute_result",
          "data": {
            "text/plain": [
              "0.7171746776084408"
            ]
          },
          "metadata": {
            "tags": []
          },
          "execution_count": 62
        }
      ]
    },
    {
      "cell_type": "markdown",
      "metadata": {
        "id": "jySnKruVYvoj",
        "colab_type": "text"
      },
      "source": [
        "0.84 is the accuracy on tis first model"
      ]
    },
    {
      "cell_type": "markdown",
      "metadata": {
        "id": "xa10EIdbYvom",
        "colab_type": "text"
      },
      "source": [
        "## Random Forest"
      ]
    },
    {
      "cell_type": "code",
      "metadata": {
        "id": "8Az25Sh3Yvom",
        "colab_type": "code",
        "colab": {}
      },
      "source": [
        "forest = RandomForestClassifier(n_estimators = 100)\n",
        "forest.fit(X_train, y_train.ravel())\n",
        "y_pred = forest.predict(X_test)"
      ],
      "execution_count": 0,
      "outputs": []
    },
    {
      "cell_type": "code",
      "metadata": {
        "id": "Df0fBxkZYvoo",
        "colab_type": "code",
        "outputId": "ce164834-1795-42f8-9f4e-f6fee67a9d66",
        "colab": {
          "base_uri": "https://localhost:8080/",
          "height": 34
        }
      },
      "source": [
        "accuracy_score(y_test, y_pred)"
      ],
      "execution_count": 0,
      "outputs": [
        {
          "output_type": "execute_result",
          "data": {
            "text/plain": [
              "0.854630715123095"
            ]
          },
          "metadata": {
            "tags": []
          },
          "execution_count": 64
        }
      ]
    },
    {
      "cell_type": "markdown",
      "metadata": {
        "id": "ePyRZTeWYvoq",
        "colab_type": "text"
      },
      "source": [
        "This is the second model we have implemented, with an accurancy of the 0.91. which for the moment is not bad"
      ]
    },
    {
      "cell_type": "markdown",
      "metadata": {
        "id": "5__9X2ErYvot",
        "colab_type": "text"
      },
      "source": [
        "## Gradient Boosting"
      ]
    },
    {
      "cell_type": "code",
      "metadata": {
        "id": "FAxJNZ9uYvov",
        "colab_type": "code",
        "colab": {}
      },
      "source": [
        "grboost = GradientBoostingClassifier()\n",
        "grboost.fit(X_train, y_train.ravel())\n",
        "y_pred = grboost.predict(X_test)"
      ],
      "execution_count": 0,
      "outputs": []
    },
    {
      "cell_type": "code",
      "metadata": {
        "id": "cF8q-dWFYvo2",
        "colab_type": "code",
        "outputId": "9798472f-7a00-4a9f-d02d-90c2460c14fc",
        "colab": {
          "base_uri": "https://localhost:8080/",
          "height": 34
        }
      },
      "source": [
        "accuracy_score(y_test, y_pred)"
      ],
      "execution_count": 0,
      "outputs": [
        {
          "output_type": "execute_result",
          "data": {
            "text/plain": [
              "0.8215123094958968"
            ]
          },
          "metadata": {
            "tags": []
          },
          "execution_count": 66
        }
      ]
    },
    {
      "cell_type": "code",
      "metadata": {
        "id": "uNuWqG9FYvo6",
        "colab_type": "code",
        "colab": {}
      },
      "source": [
        "# grid = GridSearchCV(forest, param_grid={\"n_estimators\": list(range(1, 500))}, scoring=\"accuracy\", cv=5)\n",
        "# grid.fit(X_train, y_train.ravel())"
      ],
      "execution_count": 0,
      "outputs": []
    },
    {
      "cell_type": "markdown",
      "metadata": {
        "id": "EacKUDQ0YvpA",
        "colab_type": "text"
      },
      "source": [
        "## bozza, NON RUNNARE!!!"
      ]
    },
    {
      "cell_type": "code",
      "metadata": {
        "id": "cQ4GJe4UYvpC",
        "colab_type": "code",
        "colab": {}
      },
      "source": [
        "df = pd.DataFrame(columns = X.columns, index=['KNN','Random Forest','Gradient Boosting'])"
      ],
      "execution_count": 0,
      "outputs": []
    },
    {
      "cell_type": "code",
      "metadata": {
        "id": "gjlcuoOHYvpG",
        "colab_type": "code",
        "outputId": "919577c9-9720-420d-93b9-643c0cc66c97",
        "colab": {}
      },
      "source": [
        "for i in X.columns:\n",
        "    new_train = X_train.copy()\n",
        "    new_test = X_test.copy()\n",
        "    del new_train[i]\n",
        "    del new_test[i]\n",
        "    l=[]\n",
        "    neigh = KNeighborsClassifier()\n",
        "    neigh.fit(new_train, y_train.ravel())\n",
        "    y_pred = neigh.predict(new_test)\n",
        "    l.append(accuracy_score(y_test, y_pred))\n",
        "    \n",
        "    forest = RandomForestClassifier(n_estimators = 100)\n",
        "    forest.fit(new_train, y_train.ravel())\n",
        "    y_pred = forest.predict(new_test)\n",
        "    l.append(accuracy_score(y_test, y_pred))\n",
        "    \n",
        "    grboost = GradientBoostingClassifier()\n",
        "    grboost.fit(new_train, y_train.ravel())\n",
        "    y_pred = grboost.predict(new_test)\n",
        "    l.append(accuracy_score(y_test, y_pred))\n",
        "    \n",
        "    df[i] = l"
      ],
      "execution_count": 0,
      "outputs": [
        {
          "output_type": "error",
          "ename": "KeyboardInterrupt",
          "evalue": "",
          "traceback": [
            "\u001b[1;31m---------------------------------------------------------------------------\u001b[0m",
            "\u001b[1;31mKeyboardInterrupt\u001b[0m                         Traceback (most recent call last)",
            "\u001b[1;32m<ipython-input-45-fab417e93a48>\u001b[0m in \u001b[0;36m<module>\u001b[1;34m\u001b[0m\n\u001b[0;32m     11\u001b[0m \u001b[1;33m\u001b[0m\u001b[0m\n\u001b[0;32m     12\u001b[0m     \u001b[0mforest\u001b[0m \u001b[1;33m=\u001b[0m \u001b[0mRandomForestClassifier\u001b[0m\u001b[1;33m(\u001b[0m\u001b[0mn_estimators\u001b[0m \u001b[1;33m=\u001b[0m \u001b[1;36m100\u001b[0m\u001b[1;33m)\u001b[0m\u001b[1;33m\u001b[0m\u001b[1;33m\u001b[0m\u001b[0m\n\u001b[1;32m---> 13\u001b[1;33m     \u001b[0mforest\u001b[0m\u001b[1;33m.\u001b[0m\u001b[0mfit\u001b[0m\u001b[1;33m(\u001b[0m\u001b[0mnew_train\u001b[0m\u001b[1;33m,\u001b[0m \u001b[0my_train\u001b[0m\u001b[1;33m.\u001b[0m\u001b[0mravel\u001b[0m\u001b[1;33m(\u001b[0m\u001b[1;33m)\u001b[0m\u001b[1;33m)\u001b[0m\u001b[1;33m\u001b[0m\u001b[1;33m\u001b[0m\u001b[0m\n\u001b[0m\u001b[0;32m     14\u001b[0m     \u001b[0my_pred\u001b[0m \u001b[1;33m=\u001b[0m \u001b[0mforest\u001b[0m\u001b[1;33m.\u001b[0m\u001b[0mpredict\u001b[0m\u001b[1;33m(\u001b[0m\u001b[0mnew_test\u001b[0m\u001b[1;33m)\u001b[0m\u001b[1;33m\u001b[0m\u001b[1;33m\u001b[0m\u001b[0m\n\u001b[0;32m     15\u001b[0m     \u001b[0ml\u001b[0m\u001b[1;33m.\u001b[0m\u001b[0mappend\u001b[0m\u001b[1;33m(\u001b[0m\u001b[0maccuracy_score\u001b[0m\u001b[1;33m(\u001b[0m\u001b[0my_test\u001b[0m\u001b[1;33m,\u001b[0m \u001b[0my_pred\u001b[0m\u001b[1;33m)\u001b[0m\u001b[1;33m)\u001b[0m\u001b[1;33m\u001b[0m\u001b[1;33m\u001b[0m\u001b[0m\n",
            "\u001b[1;32mc:\\users\\mvice\\anaconda3\\lib\\site-packages\\sklearn\\ensemble\\forest.py\u001b[0m in \u001b[0;36mfit\u001b[1;34m(self, X, y, sample_weight)\u001b[0m\n\u001b[0;32m    328\u001b[0m                     \u001b[0mt\u001b[0m\u001b[1;33m,\u001b[0m \u001b[0mself\u001b[0m\u001b[1;33m,\u001b[0m \u001b[0mX\u001b[0m\u001b[1;33m,\u001b[0m \u001b[0my\u001b[0m\u001b[1;33m,\u001b[0m \u001b[0msample_weight\u001b[0m\u001b[1;33m,\u001b[0m \u001b[0mi\u001b[0m\u001b[1;33m,\u001b[0m \u001b[0mlen\u001b[0m\u001b[1;33m(\u001b[0m\u001b[0mtrees\u001b[0m\u001b[1;33m)\u001b[0m\u001b[1;33m,\u001b[0m\u001b[1;33m\u001b[0m\u001b[1;33m\u001b[0m\u001b[0m\n\u001b[0;32m    329\u001b[0m                     verbose=self.verbose, class_weight=self.class_weight)\n\u001b[1;32m--> 330\u001b[1;33m                 for i, t in enumerate(trees))\n\u001b[0m\u001b[0;32m    331\u001b[0m \u001b[1;33m\u001b[0m\u001b[0m\n\u001b[0;32m    332\u001b[0m             \u001b[1;31m# Collect newly grown trees\u001b[0m\u001b[1;33m\u001b[0m\u001b[1;33m\u001b[0m\u001b[1;33m\u001b[0m\u001b[0m\n",
            "\u001b[1;32mc:\\users\\mvice\\anaconda3\\lib\\site-packages\\joblib\\parallel.py\u001b[0m in \u001b[0;36m__call__\u001b[1;34m(self, iterable)\u001b[0m\n\u001b[0;32m   1004\u001b[0m                 \u001b[0mself\u001b[0m\u001b[1;33m.\u001b[0m\u001b[0m_iterating\u001b[0m \u001b[1;33m=\u001b[0m \u001b[0mself\u001b[0m\u001b[1;33m.\u001b[0m\u001b[0m_original_iterator\u001b[0m \u001b[1;32mis\u001b[0m \u001b[1;32mnot\u001b[0m \u001b[1;32mNone\u001b[0m\u001b[1;33m\u001b[0m\u001b[1;33m\u001b[0m\u001b[0m\n\u001b[0;32m   1005\u001b[0m \u001b[1;33m\u001b[0m\u001b[0m\n\u001b[1;32m-> 1006\u001b[1;33m             \u001b[1;32mwhile\u001b[0m \u001b[0mself\u001b[0m\u001b[1;33m.\u001b[0m\u001b[0mdispatch_one_batch\u001b[0m\u001b[1;33m(\u001b[0m\u001b[0miterator\u001b[0m\u001b[1;33m)\u001b[0m\u001b[1;33m:\u001b[0m\u001b[1;33m\u001b[0m\u001b[1;33m\u001b[0m\u001b[0m\n\u001b[0m\u001b[0;32m   1007\u001b[0m                 \u001b[1;32mpass\u001b[0m\u001b[1;33m\u001b[0m\u001b[1;33m\u001b[0m\u001b[0m\n\u001b[0;32m   1008\u001b[0m \u001b[1;33m\u001b[0m\u001b[0m\n",
            "\u001b[1;32mc:\\users\\mvice\\anaconda3\\lib\\site-packages\\joblib\\parallel.py\u001b[0m in \u001b[0;36mdispatch_one_batch\u001b[1;34m(self, iterator)\u001b[0m\n\u001b[0;32m    832\u001b[0m                 \u001b[1;32mreturn\u001b[0m \u001b[1;32mFalse\u001b[0m\u001b[1;33m\u001b[0m\u001b[1;33m\u001b[0m\u001b[0m\n\u001b[0;32m    833\u001b[0m             \u001b[1;32melse\u001b[0m\u001b[1;33m:\u001b[0m\u001b[1;33m\u001b[0m\u001b[1;33m\u001b[0m\u001b[0m\n\u001b[1;32m--> 834\u001b[1;33m                 \u001b[0mself\u001b[0m\u001b[1;33m.\u001b[0m\u001b[0m_dispatch\u001b[0m\u001b[1;33m(\u001b[0m\u001b[0mtasks\u001b[0m\u001b[1;33m)\u001b[0m\u001b[1;33m\u001b[0m\u001b[1;33m\u001b[0m\u001b[0m\n\u001b[0m\u001b[0;32m    835\u001b[0m                 \u001b[1;32mreturn\u001b[0m \u001b[1;32mTrue\u001b[0m\u001b[1;33m\u001b[0m\u001b[1;33m\u001b[0m\u001b[0m\n\u001b[0;32m    836\u001b[0m \u001b[1;33m\u001b[0m\u001b[0m\n",
            "\u001b[1;32mc:\\users\\mvice\\anaconda3\\lib\\site-packages\\joblib\\parallel.py\u001b[0m in \u001b[0;36m_dispatch\u001b[1;34m(self, batch)\u001b[0m\n\u001b[0;32m    751\u001b[0m         \u001b[1;32mwith\u001b[0m \u001b[0mself\u001b[0m\u001b[1;33m.\u001b[0m\u001b[0m_lock\u001b[0m\u001b[1;33m:\u001b[0m\u001b[1;33m\u001b[0m\u001b[1;33m\u001b[0m\u001b[0m\n\u001b[0;32m    752\u001b[0m             \u001b[0mjob_idx\u001b[0m \u001b[1;33m=\u001b[0m \u001b[0mlen\u001b[0m\u001b[1;33m(\u001b[0m\u001b[0mself\u001b[0m\u001b[1;33m.\u001b[0m\u001b[0m_jobs\u001b[0m\u001b[1;33m)\u001b[0m\u001b[1;33m\u001b[0m\u001b[1;33m\u001b[0m\u001b[0m\n\u001b[1;32m--> 753\u001b[1;33m             \u001b[0mjob\u001b[0m \u001b[1;33m=\u001b[0m \u001b[0mself\u001b[0m\u001b[1;33m.\u001b[0m\u001b[0m_backend\u001b[0m\u001b[1;33m.\u001b[0m\u001b[0mapply_async\u001b[0m\u001b[1;33m(\u001b[0m\u001b[0mbatch\u001b[0m\u001b[1;33m,\u001b[0m \u001b[0mcallback\u001b[0m\u001b[1;33m=\u001b[0m\u001b[0mcb\u001b[0m\u001b[1;33m)\u001b[0m\u001b[1;33m\u001b[0m\u001b[1;33m\u001b[0m\u001b[0m\n\u001b[0m\u001b[0;32m    754\u001b[0m             \u001b[1;31m# A job can complete so quickly than its callback is\u001b[0m\u001b[1;33m\u001b[0m\u001b[1;33m\u001b[0m\u001b[1;33m\u001b[0m\u001b[0m\n\u001b[0;32m    755\u001b[0m             \u001b[1;31m# called before we get here, causing self._jobs to\u001b[0m\u001b[1;33m\u001b[0m\u001b[1;33m\u001b[0m\u001b[1;33m\u001b[0m\u001b[0m\n",
            "\u001b[1;32mc:\\users\\mvice\\anaconda3\\lib\\site-packages\\joblib\\_parallel_backends.py\u001b[0m in \u001b[0;36mapply_async\u001b[1;34m(self, func, callback)\u001b[0m\n\u001b[0;32m    199\u001b[0m     \u001b[1;32mdef\u001b[0m \u001b[0mapply_async\u001b[0m\u001b[1;33m(\u001b[0m\u001b[0mself\u001b[0m\u001b[1;33m,\u001b[0m \u001b[0mfunc\u001b[0m\u001b[1;33m,\u001b[0m \u001b[0mcallback\u001b[0m\u001b[1;33m=\u001b[0m\u001b[1;32mNone\u001b[0m\u001b[1;33m)\u001b[0m\u001b[1;33m:\u001b[0m\u001b[1;33m\u001b[0m\u001b[1;33m\u001b[0m\u001b[0m\n\u001b[0;32m    200\u001b[0m         \u001b[1;34m\"\"\"Schedule a func to be run\"\"\"\u001b[0m\u001b[1;33m\u001b[0m\u001b[1;33m\u001b[0m\u001b[0m\n\u001b[1;32m--> 201\u001b[1;33m         \u001b[0mresult\u001b[0m \u001b[1;33m=\u001b[0m \u001b[0mImmediateResult\u001b[0m\u001b[1;33m(\u001b[0m\u001b[0mfunc\u001b[0m\u001b[1;33m)\u001b[0m\u001b[1;33m\u001b[0m\u001b[1;33m\u001b[0m\u001b[0m\n\u001b[0m\u001b[0;32m    202\u001b[0m         \u001b[1;32mif\u001b[0m \u001b[0mcallback\u001b[0m\u001b[1;33m:\u001b[0m\u001b[1;33m\u001b[0m\u001b[1;33m\u001b[0m\u001b[0m\n\u001b[0;32m    203\u001b[0m             \u001b[0mcallback\u001b[0m\u001b[1;33m(\u001b[0m\u001b[0mresult\u001b[0m\u001b[1;33m)\u001b[0m\u001b[1;33m\u001b[0m\u001b[1;33m\u001b[0m\u001b[0m\n",
            "\u001b[1;32mc:\\users\\mvice\\anaconda3\\lib\\site-packages\\joblib\\_parallel_backends.py\u001b[0m in \u001b[0;36m__init__\u001b[1;34m(self, batch)\u001b[0m\n\u001b[0;32m    580\u001b[0m         \u001b[1;31m# Don't delay the application, to avoid keeping the input\u001b[0m\u001b[1;33m\u001b[0m\u001b[1;33m\u001b[0m\u001b[1;33m\u001b[0m\u001b[0m\n\u001b[0;32m    581\u001b[0m         \u001b[1;31m# arguments in memory\u001b[0m\u001b[1;33m\u001b[0m\u001b[1;33m\u001b[0m\u001b[1;33m\u001b[0m\u001b[0m\n\u001b[1;32m--> 582\u001b[1;33m         \u001b[0mself\u001b[0m\u001b[1;33m.\u001b[0m\u001b[0mresults\u001b[0m \u001b[1;33m=\u001b[0m \u001b[0mbatch\u001b[0m\u001b[1;33m(\u001b[0m\u001b[1;33m)\u001b[0m\u001b[1;33m\u001b[0m\u001b[1;33m\u001b[0m\u001b[0m\n\u001b[0m\u001b[0;32m    583\u001b[0m \u001b[1;33m\u001b[0m\u001b[0m\n\u001b[0;32m    584\u001b[0m     \u001b[1;32mdef\u001b[0m \u001b[0mget\u001b[0m\u001b[1;33m(\u001b[0m\u001b[0mself\u001b[0m\u001b[1;33m)\u001b[0m\u001b[1;33m:\u001b[0m\u001b[1;33m\u001b[0m\u001b[1;33m\u001b[0m\u001b[0m\n",
            "\u001b[1;32mc:\\users\\mvice\\anaconda3\\lib\\site-packages\\joblib\\parallel.py\u001b[0m in \u001b[0;36m__call__\u001b[1;34m(self)\u001b[0m\n\u001b[0;32m    254\u001b[0m         \u001b[1;32mwith\u001b[0m \u001b[0mparallel_backend\u001b[0m\u001b[1;33m(\u001b[0m\u001b[0mself\u001b[0m\u001b[1;33m.\u001b[0m\u001b[0m_backend\u001b[0m\u001b[1;33m,\u001b[0m \u001b[0mn_jobs\u001b[0m\u001b[1;33m=\u001b[0m\u001b[0mself\u001b[0m\u001b[1;33m.\u001b[0m\u001b[0m_n_jobs\u001b[0m\u001b[1;33m)\u001b[0m\u001b[1;33m:\u001b[0m\u001b[1;33m\u001b[0m\u001b[1;33m\u001b[0m\u001b[0m\n\u001b[0;32m    255\u001b[0m             return [func(*args, **kwargs)\n\u001b[1;32m--> 256\u001b[1;33m                     for func, args, kwargs in self.items]\n\u001b[0m\u001b[0;32m    257\u001b[0m \u001b[1;33m\u001b[0m\u001b[0m\n\u001b[0;32m    258\u001b[0m     \u001b[1;32mdef\u001b[0m \u001b[0m__len__\u001b[0m\u001b[1;33m(\u001b[0m\u001b[0mself\u001b[0m\u001b[1;33m)\u001b[0m\u001b[1;33m:\u001b[0m\u001b[1;33m\u001b[0m\u001b[1;33m\u001b[0m\u001b[0m\n",
            "\u001b[1;32mc:\\users\\mvice\\anaconda3\\lib\\site-packages\\joblib\\parallel.py\u001b[0m in \u001b[0;36m<listcomp>\u001b[1;34m(.0)\u001b[0m\n\u001b[0;32m    254\u001b[0m         \u001b[1;32mwith\u001b[0m \u001b[0mparallel_backend\u001b[0m\u001b[1;33m(\u001b[0m\u001b[0mself\u001b[0m\u001b[1;33m.\u001b[0m\u001b[0m_backend\u001b[0m\u001b[1;33m,\u001b[0m \u001b[0mn_jobs\u001b[0m\u001b[1;33m=\u001b[0m\u001b[0mself\u001b[0m\u001b[1;33m.\u001b[0m\u001b[0m_n_jobs\u001b[0m\u001b[1;33m)\u001b[0m\u001b[1;33m:\u001b[0m\u001b[1;33m\u001b[0m\u001b[1;33m\u001b[0m\u001b[0m\n\u001b[0;32m    255\u001b[0m             return [func(*args, **kwargs)\n\u001b[1;32m--> 256\u001b[1;33m                     for func, args, kwargs in self.items]\n\u001b[0m\u001b[0;32m    257\u001b[0m \u001b[1;33m\u001b[0m\u001b[0m\n\u001b[0;32m    258\u001b[0m     \u001b[1;32mdef\u001b[0m \u001b[0m__len__\u001b[0m\u001b[1;33m(\u001b[0m\u001b[0mself\u001b[0m\u001b[1;33m)\u001b[0m\u001b[1;33m:\u001b[0m\u001b[1;33m\u001b[0m\u001b[1;33m\u001b[0m\u001b[0m\n",
            "\u001b[1;32mc:\\users\\mvice\\anaconda3\\lib\\site-packages\\sklearn\\ensemble\\forest.py\u001b[0m in \u001b[0;36m_parallel_build_trees\u001b[1;34m(tree, forest, X, y, sample_weight, tree_idx, n_trees, verbose, class_weight)\u001b[0m\n\u001b[0;32m    116\u001b[0m             \u001b[0mcurr_sample_weight\u001b[0m \u001b[1;33m*=\u001b[0m \u001b[0mcompute_sample_weight\u001b[0m\u001b[1;33m(\u001b[0m\u001b[1;34m'balanced'\u001b[0m\u001b[1;33m,\u001b[0m \u001b[0my\u001b[0m\u001b[1;33m,\u001b[0m \u001b[0mindices\u001b[0m\u001b[1;33m)\u001b[0m\u001b[1;33m\u001b[0m\u001b[1;33m\u001b[0m\u001b[0m\n\u001b[0;32m    117\u001b[0m \u001b[1;33m\u001b[0m\u001b[0m\n\u001b[1;32m--> 118\u001b[1;33m         \u001b[0mtree\u001b[0m\u001b[1;33m.\u001b[0m\u001b[0mfit\u001b[0m\u001b[1;33m(\u001b[0m\u001b[0mX\u001b[0m\u001b[1;33m,\u001b[0m \u001b[0my\u001b[0m\u001b[1;33m,\u001b[0m \u001b[0msample_weight\u001b[0m\u001b[1;33m=\u001b[0m\u001b[0mcurr_sample_weight\u001b[0m\u001b[1;33m,\u001b[0m \u001b[0mcheck_input\u001b[0m\u001b[1;33m=\u001b[0m\u001b[1;32mFalse\u001b[0m\u001b[1;33m)\u001b[0m\u001b[1;33m\u001b[0m\u001b[1;33m\u001b[0m\u001b[0m\n\u001b[0m\u001b[0;32m    119\u001b[0m     \u001b[1;32melse\u001b[0m\u001b[1;33m:\u001b[0m\u001b[1;33m\u001b[0m\u001b[1;33m\u001b[0m\u001b[0m\n\u001b[0;32m    120\u001b[0m         \u001b[0mtree\u001b[0m\u001b[1;33m.\u001b[0m\u001b[0mfit\u001b[0m\u001b[1;33m(\u001b[0m\u001b[0mX\u001b[0m\u001b[1;33m,\u001b[0m \u001b[0my\u001b[0m\u001b[1;33m,\u001b[0m \u001b[0msample_weight\u001b[0m\u001b[1;33m=\u001b[0m\u001b[0msample_weight\u001b[0m\u001b[1;33m,\u001b[0m \u001b[0mcheck_input\u001b[0m\u001b[1;33m=\u001b[0m\u001b[1;32mFalse\u001b[0m\u001b[1;33m)\u001b[0m\u001b[1;33m\u001b[0m\u001b[1;33m\u001b[0m\u001b[0m\n",
            "\u001b[1;32mc:\\users\\mvice\\anaconda3\\lib\\site-packages\\sklearn\\tree\\tree.py\u001b[0m in \u001b[0;36mfit\u001b[1;34m(self, X, y, sample_weight, check_input, X_idx_sorted)\u001b[0m\n\u001b[0;32m    814\u001b[0m             \u001b[0msample_weight\u001b[0m\u001b[1;33m=\u001b[0m\u001b[0msample_weight\u001b[0m\u001b[1;33m,\u001b[0m\u001b[1;33m\u001b[0m\u001b[1;33m\u001b[0m\u001b[0m\n\u001b[0;32m    815\u001b[0m             \u001b[0mcheck_input\u001b[0m\u001b[1;33m=\u001b[0m\u001b[0mcheck_input\u001b[0m\u001b[1;33m,\u001b[0m\u001b[1;33m\u001b[0m\u001b[1;33m\u001b[0m\u001b[0m\n\u001b[1;32m--> 816\u001b[1;33m             X_idx_sorted=X_idx_sorted)\n\u001b[0m\u001b[0;32m    817\u001b[0m         \u001b[1;32mreturn\u001b[0m \u001b[0mself\u001b[0m\u001b[1;33m\u001b[0m\u001b[1;33m\u001b[0m\u001b[0m\n\u001b[0;32m    818\u001b[0m \u001b[1;33m\u001b[0m\u001b[0m\n",
            "\u001b[1;32mc:\\users\\mvice\\anaconda3\\lib\\site-packages\\sklearn\\tree\\tree.py\u001b[0m in \u001b[0;36mfit\u001b[1;34m(self, X, y, sample_weight, check_input, X_idx_sorted)\u001b[0m\n\u001b[0;32m    378\u001b[0m                                            min_impurity_split)\n\u001b[0;32m    379\u001b[0m \u001b[1;33m\u001b[0m\u001b[0m\n\u001b[1;32m--> 380\u001b[1;33m         \u001b[0mbuilder\u001b[0m\u001b[1;33m.\u001b[0m\u001b[0mbuild\u001b[0m\u001b[1;33m(\u001b[0m\u001b[0mself\u001b[0m\u001b[1;33m.\u001b[0m\u001b[0mtree_\u001b[0m\u001b[1;33m,\u001b[0m \u001b[0mX\u001b[0m\u001b[1;33m,\u001b[0m \u001b[0my\u001b[0m\u001b[1;33m,\u001b[0m \u001b[0msample_weight\u001b[0m\u001b[1;33m,\u001b[0m \u001b[0mX_idx_sorted\u001b[0m\u001b[1;33m)\u001b[0m\u001b[1;33m\u001b[0m\u001b[1;33m\u001b[0m\u001b[0m\n\u001b[0m\u001b[0;32m    381\u001b[0m \u001b[1;33m\u001b[0m\u001b[0m\n\u001b[0;32m    382\u001b[0m         \u001b[1;32mif\u001b[0m \u001b[0mself\u001b[0m\u001b[1;33m.\u001b[0m\u001b[0mn_outputs_\u001b[0m \u001b[1;33m==\u001b[0m \u001b[1;36m1\u001b[0m\u001b[1;33m:\u001b[0m\u001b[1;33m\u001b[0m\u001b[1;33m\u001b[0m\u001b[0m\n",
            "\u001b[1;31mKeyboardInterrupt\u001b[0m: "
          ]
        }
      ]
    },
    {
      "cell_type": "markdown",
      "metadata": {
        "id": "7wWLbLF_Yvpv",
        "colab_type": "text"
      },
      "source": [
        "## How doea the accurancy change without the column-variale?\n"
      ]
    },
    {
      "cell_type": "code",
      "metadata": {
        "id": "aLbQBX6ZYvpw",
        "colab_type": "code",
        "outputId": "28c8331f-0bd6-4546-ace3-d240e727e958",
        "colab": {}
      },
      "source": [
        "corr = X.corr()\n",
        "corr = corr.round(2)\n",
        "corr.style.background_gradient(cmap='coolwarm')"
      ],
      "execution_count": 0,
      "outputs": [
        {
          "output_type": "execute_result",
          "data": {
            "text/html": [
              "<style  type=\"text/css\" >\n",
              "    #T_07703598_173b_11ea_8566_a1ad6e3d76f1row0_col0 {\n",
              "            background-color:  #b40426;\n",
              "            color:  #f1f1f1;\n",
              "        }    #T_07703598_173b_11ea_8566_a1ad6e3d76f1row0_col1 {\n",
              "            background-color:  #3b4cc0;\n",
              "            color:  #f1f1f1;\n",
              "        }    #T_07703598_173b_11ea_8566_a1ad6e3d76f1row0_col2 {\n",
              "            background-color:  #a7c5fe;\n",
              "            color:  #000000;\n",
              "        }    #T_07703598_173b_11ea_8566_a1ad6e3d76f1row0_col3 {\n",
              "            background-color:  #5470de;\n",
              "            color:  #000000;\n",
              "        }    #T_07703598_173b_11ea_8566_a1ad6e3d76f1row0_col4 {\n",
              "            background-color:  #c1d4f4;\n",
              "            color:  #000000;\n",
              "        }    #T_07703598_173b_11ea_8566_a1ad6e3d76f1row0_col5 {\n",
              "            background-color:  #abc8fd;\n",
              "            color:  #000000;\n",
              "        }    #T_07703598_173b_11ea_8566_a1ad6e3d76f1row0_col6 {\n",
              "            background-color:  #4358cb;\n",
              "            color:  #f1f1f1;\n",
              "        }    #T_07703598_173b_11ea_8566_a1ad6e3d76f1row0_col7 {\n",
              "            background-color:  #7295f4;\n",
              "            color:  #000000;\n",
              "        }    #T_07703598_173b_11ea_8566_a1ad6e3d76f1row0_col8 {\n",
              "            background-color:  #dddcdc;\n",
              "            color:  #000000;\n",
              "        }    #T_07703598_173b_11ea_8566_a1ad6e3d76f1row0_col9 {\n",
              "            background-color:  #adc9fd;\n",
              "            color:  #000000;\n",
              "        }    #T_07703598_173b_11ea_8566_a1ad6e3d76f1row0_col10 {\n",
              "            background-color:  #b3cdfb;\n",
              "            color:  #000000;\n",
              "        }    #T_07703598_173b_11ea_8566_a1ad6e3d76f1row0_col11 {\n",
              "            background-color:  #92b4fe;\n",
              "            color:  #000000;\n",
              "        }    #T_07703598_173b_11ea_8566_a1ad6e3d76f1row0_col12 {\n",
              "            background-color:  #c5d6f2;\n",
              "            color:  #000000;\n",
              "        }    #T_07703598_173b_11ea_8566_a1ad6e3d76f1row1_col0 {\n",
              "            background-color:  #4c66d6;\n",
              "            color:  #000000;\n",
              "        }    #T_07703598_173b_11ea_8566_a1ad6e3d76f1row1_col1 {\n",
              "            background-color:  #b40426;\n",
              "            color:  #f1f1f1;\n",
              "        }    #T_07703598_173b_11ea_8566_a1ad6e3d76f1row1_col2 {\n",
              "            background-color:  #c4d5f3;\n",
              "            color:  #000000;\n",
              "        }    #T_07703598_173b_11ea_8566_a1ad6e3d76f1row1_col3 {\n",
              "            background-color:  #5977e3;\n",
              "            color:  #000000;\n",
              "        }    #T_07703598_173b_11ea_8566_a1ad6e3d76f1row1_col4 {\n",
              "            background-color:  #98b9ff;\n",
              "            color:  #000000;\n",
              "        }    #T_07703598_173b_11ea_8566_a1ad6e3d76f1row1_col5 {\n",
              "            background-color:  #a9c6fd;\n",
              "            color:  #000000;\n",
              "        }    #T_07703598_173b_11ea_8566_a1ad6e3d76f1row1_col6 {\n",
              "            background-color:  #5673e0;\n",
              "            color:  #000000;\n",
              "        }    #T_07703598_173b_11ea_8566_a1ad6e3d76f1row1_col7 {\n",
              "            background-color:  #5673e0;\n",
              "            color:  #000000;\n",
              "        }    #T_07703598_173b_11ea_8566_a1ad6e3d76f1row1_col8 {\n",
              "            background-color:  #b6cefa;\n",
              "            color:  #000000;\n",
              "        }    #T_07703598_173b_11ea_8566_a1ad6e3d76f1row1_col9 {\n",
              "            background-color:  #8caffe;\n",
              "            color:  #000000;\n",
              "        }    #T_07703598_173b_11ea_8566_a1ad6e3d76f1row1_col10 {\n",
              "            background-color:  #8db0fe;\n",
              "            color:  #000000;\n",
              "        }    #T_07703598_173b_11ea_8566_a1ad6e3d76f1row1_col11 {\n",
              "            background-color:  #8badfd;\n",
              "            color:  #000000;\n",
              "        }    #T_07703598_173b_11ea_8566_a1ad6e3d76f1row1_col12 {\n",
              "            background-color:  #abc8fd;\n",
              "            color:  #000000;\n",
              "        }    #T_07703598_173b_11ea_8566_a1ad6e3d76f1row2_col0 {\n",
              "            background-color:  #3b4cc0;\n",
              "            color:  #f1f1f1;\n",
              "        }    #T_07703598_173b_11ea_8566_a1ad6e3d76f1row2_col1 {\n",
              "            background-color:  #4e68d8;\n",
              "            color:  #000000;\n",
              "        }    #T_07703598_173b_11ea_8566_a1ad6e3d76f1row2_col2 {\n",
              "            background-color:  #b40426;\n",
              "            color:  #f1f1f1;\n",
              "        }    #T_07703598_173b_11ea_8566_a1ad6e3d76f1row2_col3 {\n",
              "            background-color:  #3b4cc0;\n",
              "            color:  #f1f1f1;\n",
              "        }    #T_07703598_173b_11ea_8566_a1ad6e3d76f1row2_col4 {\n",
              "            background-color:  #3b4cc0;\n",
              "            color:  #f1f1f1;\n",
              "        }    #T_07703598_173b_11ea_8566_a1ad6e3d76f1row2_col5 {\n",
              "            background-color:  #ebd3c6;\n",
              "            color:  #000000;\n",
              "        }    #T_07703598_173b_11ea_8566_a1ad6e3d76f1row2_col6 {\n",
              "            background-color:  #485fd1;\n",
              "            color:  #f1f1f1;\n",
              "        }    #T_07703598_173b_11ea_8566_a1ad6e3d76f1row2_col7 {\n",
              "            background-color:  #3b4cc0;\n",
              "            color:  #f1f1f1;\n",
              "        }    #T_07703598_173b_11ea_8566_a1ad6e3d76f1row2_col8 {\n",
              "            background-color:  #3b4cc0;\n",
              "            color:  #f1f1f1;\n",
              "        }    #T_07703598_173b_11ea_8566_a1ad6e3d76f1row2_col9 {\n",
              "            background-color:  #3b4cc0;\n",
              "            color:  #f1f1f1;\n",
              "        }    #T_07703598_173b_11ea_8566_a1ad6e3d76f1row2_col10 {\n",
              "            background-color:  #3b4cc0;\n",
              "            color:  #f1f1f1;\n",
              "        }    #T_07703598_173b_11ea_8566_a1ad6e3d76f1row2_col11 {\n",
              "            background-color:  #7a9df8;\n",
              "            color:  #000000;\n",
              "        }    #T_07703598_173b_11ea_8566_a1ad6e3d76f1row2_col12 {\n",
              "            background-color:  #3b4cc0;\n",
              "            color:  #f1f1f1;\n",
              "        }    #T_07703598_173b_11ea_8566_a1ad6e3d76f1row3_col0 {\n",
              "            background-color:  #5e7de7;\n",
              "            color:  #000000;\n",
              "        }    #T_07703598_173b_11ea_8566_a1ad6e3d76f1row3_col1 {\n",
              "            background-color:  #516ddb;\n",
              "            color:  #000000;\n",
              "        }    #T_07703598_173b_11ea_8566_a1ad6e3d76f1row3_col2 {\n",
              "            background-color:  #afcafc;\n",
              "            color:  #000000;\n",
              "        }    #T_07703598_173b_11ea_8566_a1ad6e3d76f1row3_col3 {\n",
              "            background-color:  #b40426;\n",
              "            color:  #f1f1f1;\n",
              "        }    #T_07703598_173b_11ea_8566_a1ad6e3d76f1row3_col4 {\n",
              "            background-color:  #98b9ff;\n",
              "            color:  #000000;\n",
              "        }    #T_07703598_173b_11ea_8566_a1ad6e3d76f1row3_col5 {\n",
              "            background-color:  #a5c3fe;\n",
              "            color:  #000000;\n",
              "        }    #T_07703598_173b_11ea_8566_a1ad6e3d76f1row3_col6 {\n",
              "            background-color:  #4b64d5;\n",
              "            color:  #f1f1f1;\n",
              "        }    #T_07703598_173b_11ea_8566_a1ad6e3d76f1row3_col7 {\n",
              "            background-color:  #5673e0;\n",
              "            color:  #000000;\n",
              "        }    #T_07703598_173b_11ea_8566_a1ad6e3d76f1row3_col8 {\n",
              "            background-color:  #c7d7f0;\n",
              "            color:  #000000;\n",
              "        }    #T_07703598_173b_11ea_8566_a1ad6e3d76f1row3_col9 {\n",
              "            background-color:  #98b9ff;\n",
              "            color:  #000000;\n",
              "        }    #T_07703598_173b_11ea_8566_a1ad6e3d76f1row3_col10 {\n",
              "            background-color:  #8fb1fe;\n",
              "            color:  #000000;\n",
              "        }    #T_07703598_173b_11ea_8566_a1ad6e3d76f1row3_col11 {\n",
              "            background-color:  #8db0fe;\n",
              "            color:  #000000;\n",
              "        }    #T_07703598_173b_11ea_8566_a1ad6e3d76f1row3_col12 {\n",
              "            background-color:  #bbd1f8;\n",
              "            color:  #000000;\n",
              "        }    #T_07703598_173b_11ea_8566_a1ad6e3d76f1row4_col0 {\n",
              "            background-color:  #8fb1fe;\n",
              "            color:  #000000;\n",
              "        }    #T_07703598_173b_11ea_8566_a1ad6e3d76f1row4_col1 {\n",
              "            background-color:  #4961d2;\n",
              "            color:  #f1f1f1;\n",
              "        }    #T_07703598_173b_11ea_8566_a1ad6e3d76f1row4_col2 {\n",
              "            background-color:  #6e90f2;\n",
              "            color:  #000000;\n",
              "        }    #T_07703598_173b_11ea_8566_a1ad6e3d76f1row4_col3 {\n",
              "            background-color:  #506bda;\n",
              "            color:  #000000;\n",
              "        }    #T_07703598_173b_11ea_8566_a1ad6e3d76f1row4_col4 {\n",
              "            background-color:  #b40426;\n",
              "            color:  #f1f1f1;\n",
              "        }    #T_07703598_173b_11ea_8566_a1ad6e3d76f1row4_col5 {\n",
              "            background-color:  #ccd9ed;\n",
              "            color:  #000000;\n",
              "        }    #T_07703598_173b_11ea_8566_a1ad6e3d76f1row4_col6 {\n",
              "            background-color:  #5673e0;\n",
              "            color:  #000000;\n",
              "        }    #T_07703598_173b_11ea_8566_a1ad6e3d76f1row4_col7 {\n",
              "            background-color:  #f5c1a9;\n",
              "            color:  #000000;\n",
              "        }    #T_07703598_173b_11ea_8566_a1ad6e3d76f1row4_col8 {\n",
              "            background-color:  #e46e56;\n",
              "            color:  #000000;\n",
              "        }    #T_07703598_173b_11ea_8566_a1ad6e3d76f1row4_col9 {\n",
              "            background-color:  #f0cdbb;\n",
              "            color:  #000000;\n",
              "        }    #T_07703598_173b_11ea_8566_a1ad6e3d76f1row4_col10 {\n",
              "            background-color:  #e97a5f;\n",
              "            color:  #000000;\n",
              "        }    #T_07703598_173b_11ea_8566_a1ad6e3d76f1row4_col11 {\n",
              "            background-color:  #85a8fc;\n",
              "            color:  #000000;\n",
              "        }    #T_07703598_173b_11ea_8566_a1ad6e3d76f1row4_col12 {\n",
              "            background-color:  #f3c8b2;\n",
              "            color:  #000000;\n",
              "        }    #T_07703598_173b_11ea_8566_a1ad6e3d76f1row5_col0 {\n",
              "            background-color:  #6384eb;\n",
              "            color:  #000000;\n",
              "        }    #T_07703598_173b_11ea_8566_a1ad6e3d76f1row5_col1 {\n",
              "            background-color:  #4e68d8;\n",
              "            color:  #000000;\n",
              "        }    #T_07703598_173b_11ea_8566_a1ad6e3d76f1row5_col2 {\n",
              "            background-color:  #f3c8b2;\n",
              "            color:  #000000;\n",
              "        }    #T_07703598_173b_11ea_8566_a1ad6e3d76f1row5_col3 {\n",
              "            background-color:  #506bda;\n",
              "            color:  #000000;\n",
              "        }    #T_07703598_173b_11ea_8566_a1ad6e3d76f1row5_col4 {\n",
              "            background-color:  #c4d5f3;\n",
              "            color:  #000000;\n",
              "        }    #T_07703598_173b_11ea_8566_a1ad6e3d76f1row5_col5 {\n",
              "            background-color:  #b40426;\n",
              "            color:  #f1f1f1;\n",
              "        }    #T_07703598_173b_11ea_8566_a1ad6e3d76f1row5_col6 {\n",
              "            background-color:  #3d50c3;\n",
              "            color:  #f1f1f1;\n",
              "        }    #T_07703598_173b_11ea_8566_a1ad6e3d76f1row5_col7 {\n",
              "            background-color:  #e3d9d3;\n",
              "            color:  #000000;\n",
              "        }    #T_07703598_173b_11ea_8566_a1ad6e3d76f1row5_col8 {\n",
              "            background-color:  #abc8fd;\n",
              "            color:  #000000;\n",
              "        }    #T_07703598_173b_11ea_8566_a1ad6e3d76f1row5_col9 {\n",
              "            background-color:  #96b7ff;\n",
              "            color:  #000000;\n",
              "        }    #T_07703598_173b_11ea_8566_a1ad6e3d76f1row5_col10 {\n",
              "            background-color:  #cedaeb;\n",
              "            color:  #000000;\n",
              "        }    #T_07703598_173b_11ea_8566_a1ad6e3d76f1row5_col11 {\n",
              "            background-color:  #6a8bef;\n",
              "            color:  #000000;\n",
              "        }    #T_07703598_173b_11ea_8566_a1ad6e3d76f1row5_col12 {\n",
              "            background-color:  #4f69d9;\n",
              "            color:  #000000;\n",
              "        }    #T_07703598_173b_11ea_8566_a1ad6e3d76f1row6_col0 {\n",
              "            background-color:  #536edd;\n",
              "            color:  #000000;\n",
              "        }    #T_07703598_173b_11ea_8566_a1ad6e3d76f1row6_col1 {\n",
              "            background-color:  #5470de;\n",
              "            color:  #000000;\n",
              "        }    #T_07703598_173b_11ea_8566_a1ad6e3d76f1row6_col2 {\n",
              "            background-color:  #bed2f6;\n",
              "            color:  #000000;\n",
              "        }    #T_07703598_173b_11ea_8566_a1ad6e3d76f1row6_col3 {\n",
              "            background-color:  #506bda;\n",
              "            color:  #000000;\n",
              "        }    #T_07703598_173b_11ea_8566_a1ad6e3d76f1row6_col4 {\n",
              "            background-color:  #a2c1ff;\n",
              "            color:  #000000;\n",
              "        }    #T_07703598_173b_11ea_8566_a1ad6e3d76f1row6_col5 {\n",
              "            background-color:  #98b9ff;\n",
              "            color:  #000000;\n",
              "        }    #T_07703598_173b_11ea_8566_a1ad6e3d76f1row6_col6 {\n",
              "            background-color:  #b40426;\n",
              "            color:  #f1f1f1;\n",
              "        }    #T_07703598_173b_11ea_8566_a1ad6e3d76f1row6_col7 {\n",
              "            background-color:  #4257c9;\n",
              "            color:  #f1f1f1;\n",
              "        }    #T_07703598_173b_11ea_8566_a1ad6e3d76f1row6_col8 {\n",
              "            background-color:  #c9d7f0;\n",
              "            color:  #000000;\n",
              "        }    #T_07703598_173b_11ea_8566_a1ad6e3d76f1row6_col9 {\n",
              "            background-color:  #a2c1ff;\n",
              "            color:  #000000;\n",
              "        }    #T_07703598_173b_11ea_8566_a1ad6e3d76f1row6_col10 {\n",
              "            background-color:  #9abbff;\n",
              "            color:  #000000;\n",
              "        }    #T_07703598_173b_11ea_8566_a1ad6e3d76f1row6_col11 {\n",
              "            background-color:  #a2c1ff;\n",
              "            color:  #000000;\n",
              "        }    #T_07703598_173b_11ea_8566_a1ad6e3d76f1row6_col12 {\n",
              "            background-color:  #c5d6f2;\n",
              "            color:  #000000;\n",
              "        }    #T_07703598_173b_11ea_8566_a1ad6e3d76f1row7_col0 {\n",
              "            background-color:  #799cf8;\n",
              "            color:  #000000;\n",
              "        }    #T_07703598_173b_11ea_8566_a1ad6e3d76f1row7_col1 {\n",
              "            background-color:  #4b64d5;\n",
              "            color:  #f1f1f1;\n",
              "        }    #T_07703598_173b_11ea_8566_a1ad6e3d76f1row7_col2 {\n",
              "            background-color:  #aec9fc;\n",
              "            color:  #000000;\n",
              "        }    #T_07703598_173b_11ea_8566_a1ad6e3d76f1row7_col3 {\n",
              "            background-color:  #5470de;\n",
              "            color:  #000000;\n",
              "        }    #T_07703598_173b_11ea_8566_a1ad6e3d76f1row7_col4 {\n",
              "            background-color:  #f7a688;\n",
              "            color:  #000000;\n",
              "        }    #T_07703598_173b_11ea_8566_a1ad6e3d76f1row7_col5 {\n",
              "            background-color:  #f6bda2;\n",
              "            color:  #000000;\n",
              "        }    #T_07703598_173b_11ea_8566_a1ad6e3d76f1row7_col6 {\n",
              "            background-color:  #3b4cc0;\n",
              "            color:  #f1f1f1;\n",
              "        }    #T_07703598_173b_11ea_8566_a1ad6e3d76f1row7_col7 {\n",
              "            background-color:  #b40426;\n",
              "            color:  #f1f1f1;\n",
              "        }    #T_07703598_173b_11ea_8566_a1ad6e3d76f1row7_col8 {\n",
              "            background-color:  #f7bca1;\n",
              "            color:  #000000;\n",
              "        }    #T_07703598_173b_11ea_8566_a1ad6e3d76f1row7_col9 {\n",
              "            background-color:  #cfdaea;\n",
              "            color:  #000000;\n",
              "        }    #T_07703598_173b_11ea_8566_a1ad6e3d76f1row7_col10 {\n",
              "            background-color:  #f5c0a7;\n",
              "            color:  #000000;\n",
              "        }    #T_07703598_173b_11ea_8566_a1ad6e3d76f1row7_col11 {\n",
              "            background-color:  #adc9fd;\n",
              "            color:  #000000;\n",
              "        }    #T_07703598_173b_11ea_8566_a1ad6e3d76f1row7_col12 {\n",
              "            background-color:  #b5cdfa;\n",
              "            color:  #000000;\n",
              "        }    #T_07703598_173b_11ea_8566_a1ad6e3d76f1row8_col0 {\n",
              "            background-color:  #8fb1fe;\n",
              "            color:  #000000;\n",
              "        }    #T_07703598_173b_11ea_8566_a1ad6e3d76f1row8_col1 {\n",
              "            background-color:  #3b4cc0;\n",
              "            color:  #f1f1f1;\n",
              "        }    #T_07703598_173b_11ea_8566_a1ad6e3d76f1row8_col2 {\n",
              "            background-color:  #3b4cc0;\n",
              "            color:  #f1f1f1;\n",
              "        }    #T_07703598_173b_11ea_8566_a1ad6e3d76f1row8_col3 {\n",
              "            background-color:  #5d7ce6;\n",
              "            color:  #000000;\n",
              "        }    #T_07703598_173b_11ea_8566_a1ad6e3d76f1row8_col4 {\n",
              "            background-color:  #eb7d62;\n",
              "            color:  #000000;\n",
              "        }    #T_07703598_173b_11ea_8566_a1ad6e3d76f1row8_col5 {\n",
              "            background-color:  #8db0fe;\n",
              "            color:  #000000;\n",
              "        }    #T_07703598_173b_11ea_8566_a1ad6e3d76f1row8_col6 {\n",
              "            background-color:  #5a78e4;\n",
              "            color:  #000000;\n",
              "        }    #T_07703598_173b_11ea_8566_a1ad6e3d76f1row8_col7 {\n",
              "            background-color:  #d6dce4;\n",
              "            color:  #000000;\n",
              "        }    #T_07703598_173b_11ea_8566_a1ad6e3d76f1row8_col8 {\n",
              "            background-color:  #b40426;\n",
              "            color:  #f1f1f1;\n",
              "        }    #T_07703598_173b_11ea_8566_a1ad6e3d76f1row8_col9 {\n",
              "            background-color:  #f59d7e;\n",
              "            color:  #000000;\n",
              "        }    #T_07703598_173b_11ea_8566_a1ad6e3d76f1row8_col10 {\n",
              "            background-color:  #ee8669;\n",
              "            color:  #000000;\n",
              "        }    #T_07703598_173b_11ea_8566_a1ad6e3d76f1row8_col11 {\n",
              "            background-color:  #82a6fb;\n",
              "            color:  #000000;\n",
              "        }    #T_07703598_173b_11ea_8566_a1ad6e3d76f1row8_col12 {\n",
              "            background-color:  #ee8468;\n",
              "            color:  #000000;\n",
              "        }    #T_07703598_173b_11ea_8566_a1ad6e3d76f1row9_col0 {\n",
              "            background-color:  #799cf8;\n",
              "            color:  #000000;\n",
              "        }    #T_07703598_173b_11ea_8566_a1ad6e3d76f1row9_col1 {\n",
              "            background-color:  #3f53c6;\n",
              "            color:  #f1f1f1;\n",
              "        }    #T_07703598_173b_11ea_8566_a1ad6e3d76f1row9_col2 {\n",
              "            background-color:  #7396f5;\n",
              "            color:  #000000;\n",
              "        }    #T_07703598_173b_11ea_8566_a1ad6e3d76f1row9_col3 {\n",
              "            background-color:  #5673e0;\n",
              "            color:  #000000;\n",
              "        }    #T_07703598_173b_11ea_8566_a1ad6e3d76f1row9_col4 {\n",
              "            background-color:  #f1ccb8;\n",
              "            color:  #000000;\n",
              "        }    #T_07703598_173b_11ea_8566_a1ad6e3d76f1row9_col5 {\n",
              "            background-color:  #a7c5fe;\n",
              "            color:  #000000;\n",
              "        }    #T_07703598_173b_11ea_8566_a1ad6e3d76f1row9_col6 {\n",
              "            background-color:  #5d7ce6;\n",
              "            color:  #000000;\n",
              "        }    #T_07703598_173b_11ea_8566_a1ad6e3d76f1row9_col7 {\n",
              "            background-color:  #a2c1ff;\n",
              "            color:  #000000;\n",
              "        }    #T_07703598_173b_11ea_8566_a1ad6e3d76f1row9_col8 {\n",
              "            background-color:  #f08a6c;\n",
              "            color:  #000000;\n",
              "        }    #T_07703598_173b_11ea_8566_a1ad6e3d76f1row9_col9 {\n",
              "            background-color:  #b40426;\n",
              "            color:  #f1f1f1;\n",
              "        }    #T_07703598_173b_11ea_8566_a1ad6e3d76f1row9_col10 {\n",
              "            background-color:  #f29072;\n",
              "            color:  #000000;\n",
              "        }    #T_07703598_173b_11ea_8566_a1ad6e3d76f1row9_col11 {\n",
              "            background-color:  #485fd1;\n",
              "            color:  #f1f1f1;\n",
              "        }    #T_07703598_173b_11ea_8566_a1ad6e3d76f1row9_col12 {\n",
              "            background-color:  #f7b497;\n",
              "            color:  #000000;\n",
              "        }    #T_07703598_173b_11ea_8566_a1ad6e3d76f1row10_col0 {\n",
              "            background-color:  #85a8fc;\n",
              "            color:  #000000;\n",
              "        }    #T_07703598_173b_11ea_8566_a1ad6e3d76f1row10_col1 {\n",
              "            background-color:  #455cce;\n",
              "            color:  #f1f1f1;\n",
              "        }    #T_07703598_173b_11ea_8566_a1ad6e3d76f1row10_col2 {\n",
              "            background-color:  #779af7;\n",
              "            color:  #000000;\n",
              "        }    #T_07703598_173b_11ea_8566_a1ad6e3d76f1row10_col3 {\n",
              "            background-color:  #506bda;\n",
              "            color:  #000000;\n",
              "        }    #T_07703598_173b_11ea_8566_a1ad6e3d76f1row10_col4 {\n",
              "            background-color:  #e8765c;\n",
              "            color:  #000000;\n",
              "        }    #T_07703598_173b_11ea_8566_a1ad6e3d76f1row10_col5 {\n",
              "            background-color:  #dbdcde;\n",
              "            color:  #000000;\n",
              "        }    #T_07703598_173b_11ea_8566_a1ad6e3d76f1row10_col6 {\n",
              "            background-color:  #5673e0;\n",
              "            color:  #000000;\n",
              "        }    #T_07703598_173b_11ea_8566_a1ad6e3d76f1row10_col7 {\n",
              "            background-color:  #ead5c9;\n",
              "            color:  #000000;\n",
              "        }    #T_07703598_173b_11ea_8566_a1ad6e3d76f1row10_col8 {\n",
              "            background-color:  #e7745b;\n",
              "            color:  #000000;\n",
              "        }    #T_07703598_173b_11ea_8566_a1ad6e3d76f1row10_col9 {\n",
              "            background-color:  #f18f71;\n",
              "            color:  #000000;\n",
              "        }    #T_07703598_173b_11ea_8566_a1ad6e3d76f1row10_col10 {\n",
              "            background-color:  #b40426;\n",
              "            color:  #f1f1f1;\n",
              "        }    #T_07703598_173b_11ea_8566_a1ad6e3d76f1row10_col11 {\n",
              "            background-color:  #3b4cc0;\n",
              "            color:  #f1f1f1;\n",
              "        }    #T_07703598_173b_11ea_8566_a1ad6e3d76f1row10_col12 {\n",
              "            background-color:  #f7bca1;\n",
              "            color:  #000000;\n",
              "        }    #T_07703598_173b_11ea_8566_a1ad6e3d76f1row11_col0 {\n",
              "            background-color:  #6788ee;\n",
              "            color:  #000000;\n",
              "        }    #T_07703598_173b_11ea_8566_a1ad6e3d76f1row11_col1 {\n",
              "            background-color:  #4b64d5;\n",
              "            color:  #f1f1f1;\n",
              "        }    #T_07703598_173b_11ea_8566_a1ad6e3d76f1row11_col2 {\n",
              "            background-color:  #b6cefa;\n",
              "            color:  #000000;\n",
              "        }    #T_07703598_173b_11ea_8566_a1ad6e3d76f1row11_col3 {\n",
              "            background-color:  #5673e0;\n",
              "            color:  #000000;\n",
              "        }    #T_07703598_173b_11ea_8566_a1ad6e3d76f1row11_col4 {\n",
              "            background-color:  #96b7ff;\n",
              "            color:  #000000;\n",
              "        }    #T_07703598_173b_11ea_8566_a1ad6e3d76f1row11_col5 {\n",
              "            background-color:  #8badfd;\n",
              "            color:  #000000;\n",
              "        }    #T_07703598_173b_11ea_8566_a1ad6e3d76f1row11_col6 {\n",
              "            background-color:  #6a8bef;\n",
              "            color:  #000000;\n",
              "        }    #T_07703598_173b_11ea_8566_a1ad6e3d76f1row11_col7 {\n",
              "            background-color:  #7ea1fa;\n",
              "            color:  #000000;\n",
              "        }    #T_07703598_173b_11ea_8566_a1ad6e3d76f1row11_col8 {\n",
              "            background-color:  #bcd2f7;\n",
              "            color:  #000000;\n",
              "        }    #T_07703598_173b_11ea_8566_a1ad6e3d76f1row11_col9 {\n",
              "            background-color:  #5572df;\n",
              "            color:  #000000;\n",
              "        }    #T_07703598_173b_11ea_8566_a1ad6e3d76f1row11_col10 {\n",
              "            background-color:  #4358cb;\n",
              "            color:  #f1f1f1;\n",
              "        }    #T_07703598_173b_11ea_8566_a1ad6e3d76f1row11_col11 {\n",
              "            background-color:  #b40426;\n",
              "            color:  #f1f1f1;\n",
              "        }    #T_07703598_173b_11ea_8566_a1ad6e3d76f1row11_col12 {\n",
              "            background-color:  #b1cbfc;\n",
              "            color:  #000000;\n",
              "        }    #T_07703598_173b_11ea_8566_a1ad6e3d76f1row12_col0 {\n",
              "            background-color:  #7396f5;\n",
              "            color:  #000000;\n",
              "        }    #T_07703598_173b_11ea_8566_a1ad6e3d76f1row12_col1 {\n",
              "            background-color:  #3d50c3;\n",
              "            color:  #f1f1f1;\n",
              "        }    #T_07703598_173b_11ea_8566_a1ad6e3d76f1row12_col2 {\n",
              "            background-color:  #4a63d3;\n",
              "            color:  #f1f1f1;\n",
              "        }    #T_07703598_173b_11ea_8566_a1ad6e3d76f1row12_col3 {\n",
              "            background-color:  #5977e3;\n",
              "            color:  #000000;\n",
              "        }    #T_07703598_173b_11ea_8566_a1ad6e3d76f1row12_col4 {\n",
              "            background-color:  #ebd3c6;\n",
              "            color:  #000000;\n",
              "        }    #T_07703598_173b_11ea_8566_a1ad6e3d76f1row12_col5 {\n",
              "            background-color:  #3b4cc0;\n",
              "            color:  #f1f1f1;\n",
              "        }    #T_07703598_173b_11ea_8566_a1ad6e3d76f1row12_col6 {\n",
              "            background-color:  #6384eb;\n",
              "            color:  #000000;\n",
              "        }    #T_07703598_173b_11ea_8566_a1ad6e3d76f1row12_col7 {\n",
              "            background-color:  #536edd;\n",
              "            color:  #000000;\n",
              "        }    #T_07703598_173b_11ea_8566_a1ad6e3d76f1row12_col8 {\n",
              "            background-color:  #ec7f63;\n",
              "            color:  #000000;\n",
              "        }    #T_07703598_173b_11ea_8566_a1ad6e3d76f1row12_col9 {\n",
              "            background-color:  #f5c2aa;\n",
              "            color:  #000000;\n",
              "        }    #T_07703598_173b_11ea_8566_a1ad6e3d76f1row12_col10 {\n",
              "            background-color:  #f1ccb8;\n",
              "            color:  #000000;\n",
              "        }    #T_07703598_173b_11ea_8566_a1ad6e3d76f1row12_col11 {\n",
              "            background-color:  #82a6fb;\n",
              "            color:  #000000;\n",
              "        }    #T_07703598_173b_11ea_8566_a1ad6e3d76f1row12_col12 {\n",
              "            background-color:  #b40426;\n",
              "            color:  #f1f1f1;\n",
              "        }</style><table id=\"T_07703598_173b_11ea_8566_a1ad6e3d76f1\" ><thead>    <tr>        <th class=\"blank level0\" ></th>        <th class=\"col_heading level0 col0\" >exposure_type</th>        <th class=\"col_heading level0 col1\" >obs_duration_mean</th>        <th class=\"col_heading level0 col2\" >conc1_type</th>        <th class=\"col_heading level0 col3\" >species</th>        <th class=\"col_heading level0 col4\" >atom_number</th>        <th class=\"col_heading level0 col5\" >alone_atom_number</th>        <th class=\"col_heading level0 col6\" >tripleBond</th>        <th class=\"col_heading level0 col7\" >doubleBond</th>        <th class=\"col_heading level0 col8\" >bonds_number</th>        <th class=\"col_heading level0 col9\" >ring_numer</th>        <th class=\"col_heading level0 col10\" >Mol</th>        <th class=\"col_heading level0 col11\" >MorganDensity</th>        <th class=\"col_heading level0 col12\" >LogP</th>    </tr></thead><tbody>\n",
              "                <tr>\n",
              "                        <th id=\"T_07703598_173b_11ea_8566_a1ad6e3d76f1level0_row0\" class=\"row_heading level0 row0\" >exposure_type</th>\n",
              "                        <td id=\"T_07703598_173b_11ea_8566_a1ad6e3d76f1row0_col0\" class=\"data row0 col0\" >1</td>\n",
              "                        <td id=\"T_07703598_173b_11ea_8566_a1ad6e3d76f1row0_col1\" class=\"data row0 col1\" >-0.06</td>\n",
              "                        <td id=\"T_07703598_173b_11ea_8566_a1ad6e3d76f1row0_col2\" class=\"data row0 col2\" >-0.13</td>\n",
              "                        <td id=\"T_07703598_173b_11ea_8566_a1ad6e3d76f1row0_col3\" class=\"data row0 col3\" >-0</td>\n",
              "                        <td id=\"T_07703598_173b_11ea_8566_a1ad6e3d76f1row0_col4\" class=\"data row0 col4\" >0.16</td>\n",
              "                        <td id=\"T_07703598_173b_11ea_8566_a1ad6e3d76f1row0_col5\" class=\"data row0 col5\" >0.02</td>\n",
              "                        <td id=\"T_07703598_173b_11ea_8566_a1ad6e3d76f1row0_col6\" class=\"data row0 col6\" >-0.04</td>\n",
              "                        <td id=\"T_07703598_173b_11ea_8566_a1ad6e3d76f1row0_col7\" class=\"data row0 col7\" >0.09</td>\n",
              "                        <td id=\"T_07703598_173b_11ea_8566_a1ad6e3d76f1row0_col8\" class=\"data row0 col8\" >0.16</td>\n",
              "                        <td id=\"T_07703598_173b_11ea_8566_a1ad6e3d76f1row0_col9\" class=\"data row0 col9\" >0.09</td>\n",
              "                        <td id=\"T_07703598_173b_11ea_8566_a1ad6e3d76f1row0_col10\" class=\"data row0 col10\" >0.13</td>\n",
              "                        <td id=\"T_07703598_173b_11ea_8566_a1ad6e3d76f1row0_col11\" class=\"data row0 col11\" >0.03</td>\n",
              "                        <td id=\"T_07703598_173b_11ea_8566_a1ad6e3d76f1row0_col12\" class=\"data row0 col12\" >0.07</td>\n",
              "            </tr>\n",
              "            <tr>\n",
              "                        <th id=\"T_07703598_173b_11ea_8566_a1ad6e3d76f1level0_row1\" class=\"row_heading level0 row1\" >obs_duration_mean</th>\n",
              "                        <td id=\"T_07703598_173b_11ea_8566_a1ad6e3d76f1row1_col0\" class=\"data row1 col0\" >-0.06</td>\n",
              "                        <td id=\"T_07703598_173b_11ea_8566_a1ad6e3d76f1row1_col1\" class=\"data row1 col1\" >1</td>\n",
              "                        <td id=\"T_07703598_173b_11ea_8566_a1ad6e3d76f1row1_col2\" class=\"data row1 col2\" >0.01</td>\n",
              "                        <td id=\"T_07703598_173b_11ea_8566_a1ad6e3d76f1row1_col3\" class=\"data row1 col3\" >0.02</td>\n",
              "                        <td id=\"T_07703598_173b_11ea_8566_a1ad6e3d76f1row1_col4\" class=\"data row1 col4\" >-0.01</td>\n",
              "                        <td id=\"T_07703598_173b_11ea_8566_a1ad6e3d76f1row1_col5\" class=\"data row1 col5\" >0.01</td>\n",
              "                        <td id=\"T_07703598_173b_11ea_8566_a1ad6e3d76f1row1_col6\" class=\"data row1 col6\" >0.03</td>\n",
              "                        <td id=\"T_07703598_173b_11ea_8566_a1ad6e3d76f1row1_col7\" class=\"data row1 col7\" >0</td>\n",
              "                        <td id=\"T_07703598_173b_11ea_8566_a1ad6e3d76f1row1_col8\" class=\"data row1 col8\" >-0.06</td>\n",
              "                        <td id=\"T_07703598_173b_11ea_8566_a1ad6e3d76f1row1_col9\" class=\"data row1 col9\" >-0.04</td>\n",
              "                        <td id=\"T_07703598_173b_11ea_8566_a1ad6e3d76f1row1_col10\" class=\"data row1 col10\" >-0.02</td>\n",
              "                        <td id=\"T_07703598_173b_11ea_8566_a1ad6e3d76f1row1_col11\" class=\"data row1 col11\" >-0</td>\n",
              "                        <td id=\"T_07703598_173b_11ea_8566_a1ad6e3d76f1row1_col12\" class=\"data row1 col12\" >-0.05</td>\n",
              "            </tr>\n",
              "            <tr>\n",
              "                        <th id=\"T_07703598_173b_11ea_8566_a1ad6e3d76f1level0_row2\" class=\"row_heading level0 row2\" >conc1_type</th>\n",
              "                        <td id=\"T_07703598_173b_11ea_8566_a1ad6e3d76f1row2_col0\" class=\"data row2 col0\" >-0.13</td>\n",
              "                        <td id=\"T_07703598_173b_11ea_8566_a1ad6e3d76f1row2_col1\" class=\"data row2 col1\" >0.01</td>\n",
              "                        <td id=\"T_07703598_173b_11ea_8566_a1ad6e3d76f1row2_col2\" class=\"data row2 col2\" >1</td>\n",
              "                        <td id=\"T_07703598_173b_11ea_8566_a1ad6e3d76f1row2_col3\" class=\"data row2 col3\" >-0.09</td>\n",
              "                        <td id=\"T_07703598_173b_11ea_8566_a1ad6e3d76f1row2_col4\" class=\"data row2 col4\" >-0.41</td>\n",
              "                        <td id=\"T_07703598_173b_11ea_8566_a1ad6e3d76f1row2_col5\" class=\"data row2 col5\" >0.35</td>\n",
              "                        <td id=\"T_07703598_173b_11ea_8566_a1ad6e3d76f1row2_col6\" class=\"data row2 col6\" >-0.02</td>\n",
              "                        <td id=\"T_07703598_173b_11ea_8566_a1ad6e3d76f1row2_col7\" class=\"data row2 col7\" >-0.1</td>\n",
              "                        <td id=\"T_07703598_173b_11ea_8566_a1ad6e3d76f1row2_col8\" class=\"data row2 col8\" >-0.68</td>\n",
              "                        <td id=\"T_07703598_173b_11ea_8566_a1ad6e3d76f1row2_col9\" class=\"data row2 col9\" >-0.38</td>\n",
              "                        <td id=\"T_07703598_173b_11ea_8566_a1ad6e3d76f1row2_col10\" class=\"data row2 col10\" >-0.36</td>\n",
              "                        <td id=\"T_07703598_173b_11ea_8566_a1ad6e3d76f1row2_col11\" class=\"data row2 col11\" >-0.06</td>\n",
              "                        <td id=\"T_07703598_173b_11ea_8566_a1ad6e3d76f1row2_col12\" class=\"data row2 col12\" >-0.59</td>\n",
              "            </tr>\n",
              "            <tr>\n",
              "                        <th id=\"T_07703598_173b_11ea_8566_a1ad6e3d76f1level0_row3\" class=\"row_heading level0 row3\" >species</th>\n",
              "                        <td id=\"T_07703598_173b_11ea_8566_a1ad6e3d76f1row3_col0\" class=\"data row3 col0\" >-0</td>\n",
              "                        <td id=\"T_07703598_173b_11ea_8566_a1ad6e3d76f1row3_col1\" class=\"data row3 col1\" >0.02</td>\n",
              "                        <td id=\"T_07703598_173b_11ea_8566_a1ad6e3d76f1row3_col2\" class=\"data row3 col2\" >-0.09</td>\n",
              "                        <td id=\"T_07703598_173b_11ea_8566_a1ad6e3d76f1row3_col3\" class=\"data row3 col3\" >1</td>\n",
              "                        <td id=\"T_07703598_173b_11ea_8566_a1ad6e3d76f1row3_col4\" class=\"data row3 col4\" >-0.01</td>\n",
              "                        <td id=\"T_07703598_173b_11ea_8566_a1ad6e3d76f1row3_col5\" class=\"data row3 col5\" >-0.01</td>\n",
              "                        <td id=\"T_07703598_173b_11ea_8566_a1ad6e3d76f1row3_col6\" class=\"data row3 col6\" >-0.01</td>\n",
              "                        <td id=\"T_07703598_173b_11ea_8566_a1ad6e3d76f1row3_col7\" class=\"data row3 col7\" >0</td>\n",
              "                        <td id=\"T_07703598_173b_11ea_8566_a1ad6e3d76f1row3_col8\" class=\"data row3 col8\" >0.03</td>\n",
              "                        <td id=\"T_07703598_173b_11ea_8566_a1ad6e3d76f1row3_col9\" class=\"data row3 col9\" >0.01</td>\n",
              "                        <td id=\"T_07703598_173b_11ea_8566_a1ad6e3d76f1row3_col10\" class=\"data row3 col10\" >-0.01</td>\n",
              "                        <td id=\"T_07703598_173b_11ea_8566_a1ad6e3d76f1row3_col11\" class=\"data row3 col11\" >0.01</td>\n",
              "                        <td id=\"T_07703598_173b_11ea_8566_a1ad6e3d76f1row3_col12\" class=\"data row3 col12\" >0.02</td>\n",
              "            </tr>\n",
              "            <tr>\n",
              "                        <th id=\"T_07703598_173b_11ea_8566_a1ad6e3d76f1level0_row4\" class=\"row_heading level0 row4\" >atom_number</th>\n",
              "                        <td id=\"T_07703598_173b_11ea_8566_a1ad6e3d76f1row4_col0\" class=\"data row4 col0\" >0.16</td>\n",
              "                        <td id=\"T_07703598_173b_11ea_8566_a1ad6e3d76f1row4_col1\" class=\"data row4 col1\" >-0.01</td>\n",
              "                        <td id=\"T_07703598_173b_11ea_8566_a1ad6e3d76f1row4_col2\" class=\"data row4 col2\" >-0.41</td>\n",
              "                        <td id=\"T_07703598_173b_11ea_8566_a1ad6e3d76f1row4_col3\" class=\"data row4 col3\" >-0.01</td>\n",
              "                        <td id=\"T_07703598_173b_11ea_8566_a1ad6e3d76f1row4_col4\" class=\"data row4 col4\" >1</td>\n",
              "                        <td id=\"T_07703598_173b_11ea_8566_a1ad6e3d76f1row4_col5\" class=\"data row4 col5\" >0.17</td>\n",
              "                        <td id=\"T_07703598_173b_11ea_8566_a1ad6e3d76f1row4_col6\" class=\"data row4 col6\" >0.03</td>\n",
              "                        <td id=\"T_07703598_173b_11ea_8566_a1ad6e3d76f1row4_col7\" class=\"data row4 col7\" >0.6</td>\n",
              "                        <td id=\"T_07703598_173b_11ea_8566_a1ad6e3d76f1row4_col8\" class=\"data row4 col8\" >0.74</td>\n",
              "                        <td id=\"T_07703598_173b_11ea_8566_a1ad6e3d76f1row4_col9\" class=\"data row4 col9\" >0.43</td>\n",
              "                        <td id=\"T_07703598_173b_11ea_8566_a1ad6e3d76f1row4_col10\" class=\"data row4 col10\" >0.76</td>\n",
              "                        <td id=\"T_07703598_173b_11ea_8566_a1ad6e3d76f1row4_col11\" class=\"data row4 col11\" >-0.02</td>\n",
              "                        <td id=\"T_07703598_173b_11ea_8566_a1ad6e3d76f1row4_col12\" class=\"data row4 col12\" >0.38</td>\n",
              "            </tr>\n",
              "            <tr>\n",
              "                        <th id=\"T_07703598_173b_11ea_8566_a1ad6e3d76f1level0_row5\" class=\"row_heading level0 row5\" >alone_atom_number</th>\n",
              "                        <td id=\"T_07703598_173b_11ea_8566_a1ad6e3d76f1row5_col0\" class=\"data row5 col0\" >0.02</td>\n",
              "                        <td id=\"T_07703598_173b_11ea_8566_a1ad6e3d76f1row5_col1\" class=\"data row5 col1\" >0.01</td>\n",
              "                        <td id=\"T_07703598_173b_11ea_8566_a1ad6e3d76f1row5_col2\" class=\"data row5 col2\" >0.35</td>\n",
              "                        <td id=\"T_07703598_173b_11ea_8566_a1ad6e3d76f1row5_col3\" class=\"data row5 col3\" >-0.01</td>\n",
              "                        <td id=\"T_07703598_173b_11ea_8566_a1ad6e3d76f1row5_col4\" class=\"data row5 col4\" >0.17</td>\n",
              "                        <td id=\"T_07703598_173b_11ea_8566_a1ad6e3d76f1row5_col5\" class=\"data row5 col5\" >1</td>\n",
              "                        <td id=\"T_07703598_173b_11ea_8566_a1ad6e3d76f1row5_col6\" class=\"data row5 col6\" >-0.06</td>\n",
              "                        <td id=\"T_07703598_173b_11ea_8566_a1ad6e3d76f1row5_col7\" class=\"data row5 col7\" >0.48</td>\n",
              "                        <td id=\"T_07703598_173b_11ea_8566_a1ad6e3d76f1row5_col8\" class=\"data row5 col8\" >-0.11</td>\n",
              "                        <td id=\"T_07703598_173b_11ea_8566_a1ad6e3d76f1row5_col9\" class=\"data row5 col9\" >-0</td>\n",
              "                        <td id=\"T_07703598_173b_11ea_8566_a1ad6e3d76f1row5_col10\" class=\"data row5 col10\" >0.25</td>\n",
              "                        <td id=\"T_07703598_173b_11ea_8566_a1ad6e3d76f1row5_col11\" class=\"data row5 col11\" >-0.12</td>\n",
              "                        <td id=\"T_07703598_173b_11ea_8566_a1ad6e3d76f1row5_col12\" class=\"data row5 col12\" >-0.48</td>\n",
              "            </tr>\n",
              "            <tr>\n",
              "                        <th id=\"T_07703598_173b_11ea_8566_a1ad6e3d76f1level0_row6\" class=\"row_heading level0 row6\" >tripleBond</th>\n",
              "                        <td id=\"T_07703598_173b_11ea_8566_a1ad6e3d76f1row6_col0\" class=\"data row6 col0\" >-0.04</td>\n",
              "                        <td id=\"T_07703598_173b_11ea_8566_a1ad6e3d76f1row6_col1\" class=\"data row6 col1\" >0.03</td>\n",
              "                        <td id=\"T_07703598_173b_11ea_8566_a1ad6e3d76f1row6_col2\" class=\"data row6 col2\" >-0.02</td>\n",
              "                        <td id=\"T_07703598_173b_11ea_8566_a1ad6e3d76f1row6_col3\" class=\"data row6 col3\" >-0.01</td>\n",
              "                        <td id=\"T_07703598_173b_11ea_8566_a1ad6e3d76f1row6_col4\" class=\"data row6 col4\" >0.03</td>\n",
              "                        <td id=\"T_07703598_173b_11ea_8566_a1ad6e3d76f1row6_col5\" class=\"data row6 col5\" >-0.06</td>\n",
              "                        <td id=\"T_07703598_173b_11ea_8566_a1ad6e3d76f1row6_col6\" class=\"data row6 col6\" >1</td>\n",
              "                        <td id=\"T_07703598_173b_11ea_8566_a1ad6e3d76f1row6_col7\" class=\"data row6 col7\" >-0.07</td>\n",
              "                        <td id=\"T_07703598_173b_11ea_8566_a1ad6e3d76f1row6_col8\" class=\"data row6 col8\" >0.04</td>\n",
              "                        <td id=\"T_07703598_173b_11ea_8566_a1ad6e3d76f1row6_col9\" class=\"data row6 col9\" >0.05</td>\n",
              "                        <td id=\"T_07703598_173b_11ea_8566_a1ad6e3d76f1row6_col10\" class=\"data row6 col10\" >0.03</td>\n",
              "                        <td id=\"T_07703598_173b_11ea_8566_a1ad6e3d76f1row6_col11\" class=\"data row6 col11\" >0.09</td>\n",
              "                        <td id=\"T_07703598_173b_11ea_8566_a1ad6e3d76f1row6_col12\" class=\"data row6 col12\" >0.07</td>\n",
              "            </tr>\n",
              "            <tr>\n",
              "                        <th id=\"T_07703598_173b_11ea_8566_a1ad6e3d76f1level0_row7\" class=\"row_heading level0 row7\" >doubleBond</th>\n",
              "                        <td id=\"T_07703598_173b_11ea_8566_a1ad6e3d76f1row7_col0\" class=\"data row7 col0\" >0.09</td>\n",
              "                        <td id=\"T_07703598_173b_11ea_8566_a1ad6e3d76f1row7_col1\" class=\"data row7 col1\" >0</td>\n",
              "                        <td id=\"T_07703598_173b_11ea_8566_a1ad6e3d76f1row7_col2\" class=\"data row7 col2\" >-0.1</td>\n",
              "                        <td id=\"T_07703598_173b_11ea_8566_a1ad6e3d76f1row7_col3\" class=\"data row7 col3\" >0</td>\n",
              "                        <td id=\"T_07703598_173b_11ea_8566_a1ad6e3d76f1row7_col4\" class=\"data row7 col4\" >0.6</td>\n",
              "                        <td id=\"T_07703598_173b_11ea_8566_a1ad6e3d76f1row7_col5\" class=\"data row7 col5\" >0.48</td>\n",
              "                        <td id=\"T_07703598_173b_11ea_8566_a1ad6e3d76f1row7_col6\" class=\"data row7 col6\" >-0.07</td>\n",
              "                        <td id=\"T_07703598_173b_11ea_8566_a1ad6e3d76f1row7_col7\" class=\"data row7 col7\" >1</td>\n",
              "                        <td id=\"T_07703598_173b_11ea_8566_a1ad6e3d76f1row7_col8\" class=\"data row7 col8\" >0.42</td>\n",
              "                        <td id=\"T_07703598_173b_11ea_8566_a1ad6e3d76f1row7_col9\" class=\"data row7 col9\" >0.24</td>\n",
              "                        <td id=\"T_07703598_173b_11ea_8566_a1ad6e3d76f1row7_col10\" class=\"data row7 col10\" >0.51</td>\n",
              "                        <td id=\"T_07703598_173b_11ea_8566_a1ad6e3d76f1row7_col11\" class=\"data row7 col11\" >0.13</td>\n",
              "                        <td id=\"T_07703598_173b_11ea_8566_a1ad6e3d76f1row7_col12\" class=\"data row7 col12\" >-0.01</td>\n",
              "            </tr>\n",
              "            <tr>\n",
              "                        <th id=\"T_07703598_173b_11ea_8566_a1ad6e3d76f1level0_row8\" class=\"row_heading level0 row8\" >bonds_number</th>\n",
              "                        <td id=\"T_07703598_173b_11ea_8566_a1ad6e3d76f1row8_col0\" class=\"data row8 col0\" >0.16</td>\n",
              "                        <td id=\"T_07703598_173b_11ea_8566_a1ad6e3d76f1row8_col1\" class=\"data row8 col1\" >-0.06</td>\n",
              "                        <td id=\"T_07703598_173b_11ea_8566_a1ad6e3d76f1row8_col2\" class=\"data row8 col2\" >-0.68</td>\n",
              "                        <td id=\"T_07703598_173b_11ea_8566_a1ad6e3d76f1row8_col3\" class=\"data row8 col3\" >0.03</td>\n",
              "                        <td id=\"T_07703598_173b_11ea_8566_a1ad6e3d76f1row8_col4\" class=\"data row8 col4\" >0.74</td>\n",
              "                        <td id=\"T_07703598_173b_11ea_8566_a1ad6e3d76f1row8_col5\" class=\"data row8 col5\" >-0.11</td>\n",
              "                        <td id=\"T_07703598_173b_11ea_8566_a1ad6e3d76f1row8_col6\" class=\"data row8 col6\" >0.04</td>\n",
              "                        <td id=\"T_07703598_173b_11ea_8566_a1ad6e3d76f1row8_col7\" class=\"data row8 col7\" >0.42</td>\n",
              "                        <td id=\"T_07703598_173b_11ea_8566_a1ad6e3d76f1row8_col8\" class=\"data row8 col8\" >1</td>\n",
              "                        <td id=\"T_07703598_173b_11ea_8566_a1ad6e3d76f1row8_col9\" class=\"data row8 col9\" >0.64</td>\n",
              "                        <td id=\"T_07703598_173b_11ea_8566_a1ad6e3d76f1row8_col10\" class=\"data row8 col10\" >0.72</td>\n",
              "                        <td id=\"T_07703598_173b_11ea_8566_a1ad6e3d76f1row8_col11\" class=\"data row8 col11\" >-0.03</td>\n",
              "                        <td id=\"T_07703598_173b_11ea_8566_a1ad6e3d76f1row8_col12\" class=\"data row8 col12\" >0.68</td>\n",
              "            </tr>\n",
              "            <tr>\n",
              "                        <th id=\"T_07703598_173b_11ea_8566_a1ad6e3d76f1level0_row9\" class=\"row_heading level0 row9\" >ring_numer</th>\n",
              "                        <td id=\"T_07703598_173b_11ea_8566_a1ad6e3d76f1row9_col0\" class=\"data row9 col0\" >0.09</td>\n",
              "                        <td id=\"T_07703598_173b_11ea_8566_a1ad6e3d76f1row9_col1\" class=\"data row9 col1\" >-0.04</td>\n",
              "                        <td id=\"T_07703598_173b_11ea_8566_a1ad6e3d76f1row9_col2\" class=\"data row9 col2\" >-0.38</td>\n",
              "                        <td id=\"T_07703598_173b_11ea_8566_a1ad6e3d76f1row9_col3\" class=\"data row9 col3\" >0.01</td>\n",
              "                        <td id=\"T_07703598_173b_11ea_8566_a1ad6e3d76f1row9_col4\" class=\"data row9 col4\" >0.43</td>\n",
              "                        <td id=\"T_07703598_173b_11ea_8566_a1ad6e3d76f1row9_col5\" class=\"data row9 col5\" >-0</td>\n",
              "                        <td id=\"T_07703598_173b_11ea_8566_a1ad6e3d76f1row9_col6\" class=\"data row9 col6\" >0.05</td>\n",
              "                        <td id=\"T_07703598_173b_11ea_8566_a1ad6e3d76f1row9_col7\" class=\"data row9 col7\" >0.24</td>\n",
              "                        <td id=\"T_07703598_173b_11ea_8566_a1ad6e3d76f1row9_col8\" class=\"data row9 col8\" >0.64</td>\n",
              "                        <td id=\"T_07703598_173b_11ea_8566_a1ad6e3d76f1row9_col9\" class=\"data row9 col9\" >1</td>\n",
              "                        <td id=\"T_07703598_173b_11ea_8566_a1ad6e3d76f1row9_col10\" class=\"data row9 col10\" >0.69</td>\n",
              "                        <td id=\"T_07703598_173b_11ea_8566_a1ad6e3d76f1row9_col11\" class=\"data row9 col11\" >-0.26</td>\n",
              "                        <td id=\"T_07703598_173b_11ea_8566_a1ad6e3d76f1row9_col12\" class=\"data row9 col12\" >0.49</td>\n",
              "            </tr>\n",
              "            <tr>\n",
              "                        <th id=\"T_07703598_173b_11ea_8566_a1ad6e3d76f1level0_row10\" class=\"row_heading level0 row10\" >Mol</th>\n",
              "                        <td id=\"T_07703598_173b_11ea_8566_a1ad6e3d76f1row10_col0\" class=\"data row10 col0\" >0.13</td>\n",
              "                        <td id=\"T_07703598_173b_11ea_8566_a1ad6e3d76f1row10_col1\" class=\"data row10 col1\" >-0.02</td>\n",
              "                        <td id=\"T_07703598_173b_11ea_8566_a1ad6e3d76f1row10_col2\" class=\"data row10 col2\" >-0.36</td>\n",
              "                        <td id=\"T_07703598_173b_11ea_8566_a1ad6e3d76f1row10_col3\" class=\"data row10 col3\" >-0.01</td>\n",
              "                        <td id=\"T_07703598_173b_11ea_8566_a1ad6e3d76f1row10_col4\" class=\"data row10 col4\" >0.76</td>\n",
              "                        <td id=\"T_07703598_173b_11ea_8566_a1ad6e3d76f1row10_col5\" class=\"data row10 col5\" >0.25</td>\n",
              "                        <td id=\"T_07703598_173b_11ea_8566_a1ad6e3d76f1row10_col6\" class=\"data row10 col6\" >0.03</td>\n",
              "                        <td id=\"T_07703598_173b_11ea_8566_a1ad6e3d76f1row10_col7\" class=\"data row10 col7\" >0.51</td>\n",
              "                        <td id=\"T_07703598_173b_11ea_8566_a1ad6e3d76f1row10_col8\" class=\"data row10 col8\" >0.72</td>\n",
              "                        <td id=\"T_07703598_173b_11ea_8566_a1ad6e3d76f1row10_col9\" class=\"data row10 col9\" >0.69</td>\n",
              "                        <td id=\"T_07703598_173b_11ea_8566_a1ad6e3d76f1row10_col10\" class=\"data row10 col10\" >1</td>\n",
              "                        <td id=\"T_07703598_173b_11ea_8566_a1ad6e3d76f1row10_col11\" class=\"data row10 col11\" >-0.32</td>\n",
              "                        <td id=\"T_07703598_173b_11ea_8566_a1ad6e3d76f1row10_col12\" class=\"data row10 col12\" >0.45</td>\n",
              "            </tr>\n",
              "            <tr>\n",
              "                        <th id=\"T_07703598_173b_11ea_8566_a1ad6e3d76f1level0_row11\" class=\"row_heading level0 row11\" >MorganDensity</th>\n",
              "                        <td id=\"T_07703598_173b_11ea_8566_a1ad6e3d76f1row11_col0\" class=\"data row11 col0\" >0.03</td>\n",
              "                        <td id=\"T_07703598_173b_11ea_8566_a1ad6e3d76f1row11_col1\" class=\"data row11 col1\" >-0</td>\n",
              "                        <td id=\"T_07703598_173b_11ea_8566_a1ad6e3d76f1row11_col2\" class=\"data row11 col2\" >-0.06</td>\n",
              "                        <td id=\"T_07703598_173b_11ea_8566_a1ad6e3d76f1row11_col3\" class=\"data row11 col3\" >0.01</td>\n",
              "                        <td id=\"T_07703598_173b_11ea_8566_a1ad6e3d76f1row11_col4\" class=\"data row11 col4\" >-0.02</td>\n",
              "                        <td id=\"T_07703598_173b_11ea_8566_a1ad6e3d76f1row11_col5\" class=\"data row11 col5\" >-0.12</td>\n",
              "                        <td id=\"T_07703598_173b_11ea_8566_a1ad6e3d76f1row11_col6\" class=\"data row11 col6\" >0.09</td>\n",
              "                        <td id=\"T_07703598_173b_11ea_8566_a1ad6e3d76f1row11_col7\" class=\"data row11 col7\" >0.13</td>\n",
              "                        <td id=\"T_07703598_173b_11ea_8566_a1ad6e3d76f1row11_col8\" class=\"data row11 col8\" >-0.03</td>\n",
              "                        <td id=\"T_07703598_173b_11ea_8566_a1ad6e3d76f1row11_col9\" class=\"data row11 col9\" >-0.26</td>\n",
              "                        <td id=\"T_07703598_173b_11ea_8566_a1ad6e3d76f1row11_col10\" class=\"data row11 col10\" >-0.32</td>\n",
              "                        <td id=\"T_07703598_173b_11ea_8566_a1ad6e3d76f1row11_col11\" class=\"data row11 col11\" >1</td>\n",
              "                        <td id=\"T_07703598_173b_11ea_8566_a1ad6e3d76f1row11_col12\" class=\"data row11 col12\" >-0.03</td>\n",
              "            </tr>\n",
              "            <tr>\n",
              "                        <th id=\"T_07703598_173b_11ea_8566_a1ad6e3d76f1level0_row12\" class=\"row_heading level0 row12\" >LogP</th>\n",
              "                        <td id=\"T_07703598_173b_11ea_8566_a1ad6e3d76f1row12_col0\" class=\"data row12 col0\" >0.07</td>\n",
              "                        <td id=\"T_07703598_173b_11ea_8566_a1ad6e3d76f1row12_col1\" class=\"data row12 col1\" >-0.05</td>\n",
              "                        <td id=\"T_07703598_173b_11ea_8566_a1ad6e3d76f1row12_col2\" class=\"data row12 col2\" >-0.59</td>\n",
              "                        <td id=\"T_07703598_173b_11ea_8566_a1ad6e3d76f1row12_col3\" class=\"data row12 col3\" >0.02</td>\n",
              "                        <td id=\"T_07703598_173b_11ea_8566_a1ad6e3d76f1row12_col4\" class=\"data row12 col4\" >0.38</td>\n",
              "                        <td id=\"T_07703598_173b_11ea_8566_a1ad6e3d76f1row12_col5\" class=\"data row12 col5\" >-0.48</td>\n",
              "                        <td id=\"T_07703598_173b_11ea_8566_a1ad6e3d76f1row12_col6\" class=\"data row12 col6\" >0.07</td>\n",
              "                        <td id=\"T_07703598_173b_11ea_8566_a1ad6e3d76f1row12_col7\" class=\"data row12 col7\" >-0.01</td>\n",
              "                        <td id=\"T_07703598_173b_11ea_8566_a1ad6e3d76f1row12_col8\" class=\"data row12 col8\" >0.68</td>\n",
              "                        <td id=\"T_07703598_173b_11ea_8566_a1ad6e3d76f1row12_col9\" class=\"data row12 col9\" >0.49</td>\n",
              "                        <td id=\"T_07703598_173b_11ea_8566_a1ad6e3d76f1row12_col10\" class=\"data row12 col10\" >0.45</td>\n",
              "                        <td id=\"T_07703598_173b_11ea_8566_a1ad6e3d76f1row12_col11\" class=\"data row12 col11\" >-0.03</td>\n",
              "                        <td id=\"T_07703598_173b_11ea_8566_a1ad6e3d76f1row12_col12\" class=\"data row12 col12\" >1</td>\n",
              "            </tr>\n",
              "    </tbody></table>"
            ],
            "text/plain": [
              "<pandas.io.formats.style.Styler at 0x244bfc77160>"
            ]
          },
          "metadata": {
            "tags": []
          },
          "execution_count": 54
        }
      ]
    },
    {
      "cell_type": "code",
      "metadata": {
        "id": "82S3h9iFYvpz",
        "colab_type": "code",
        "outputId": "f36796bb-f24f-4edf-e4d6-a242428aa241",
        "colab": {}
      },
      "source": [
        "df"
      ],
      "execution_count": 0,
      "outputs": [
        {
          "output_type": "execute_result",
          "data": {
            "text/html": [
              "<div>\n",
              "<style scoped>\n",
              "    .dataframe tbody tr th:only-of-type {\n",
              "        vertical-align: middle;\n",
              "    }\n",
              "\n",
              "    .dataframe tbody tr th {\n",
              "        vertical-align: top;\n",
              "    }\n",
              "\n",
              "    .dataframe thead th {\n",
              "        text-align: right;\n",
              "    }\n",
              "</style>\n",
              "<table border=\"1\" class=\"dataframe\">\n",
              "  <thead>\n",
              "    <tr style=\"text-align: right;\">\n",
              "      <th></th>\n",
              "      <th>exposure_type</th>\n",
              "      <th>obs_duration_mean</th>\n",
              "      <th>conc1_type</th>\n",
              "      <th>species</th>\n",
              "      <th>atom_number</th>\n",
              "      <th>alone_atom_number</th>\n",
              "      <th>tripleBond</th>\n",
              "      <th>doubleBond</th>\n",
              "      <th>bonds_number</th>\n",
              "      <th>ring_numer</th>\n",
              "      <th>Mol</th>\n",
              "      <th>MorganDensity</th>\n",
              "      <th>LogP</th>\n",
              "    </tr>\n",
              "  </thead>\n",
              "  <tbody>\n",
              "    <tr>\n",
              "      <th>KNN</th>\n",
              "      <td>0.855328</td>\n",
              "      <td>0.857037</td>\n",
              "      <td>0.851339</td>\n",
              "      <td>0.859259</td>\n",
              "      <td>0.851966</td>\n",
              "      <td>0.848148</td>\n",
              "      <td>0.850484</td>\n",
              "      <td>0.845641</td>\n",
              "      <td>0.851624</td>\n",
              "      <td>0.850313</td>\n",
              "      <td>0.849174</td>\n",
              "      <td>0.849573</td>\n",
              "      <td>0.829231</td>\n",
              "    </tr>\n",
              "    <tr>\n",
              "      <th>Random Forest</th>\n",
              "      <td>0.906610</td>\n",
              "      <td>0.913903</td>\n",
              "      <td>0.910655</td>\n",
              "      <td>0.884217</td>\n",
              "      <td>0.912593</td>\n",
              "      <td>0.913390</td>\n",
              "      <td>0.913105</td>\n",
              "      <td>0.912650</td>\n",
              "      <td>0.911681</td>\n",
              "      <td>0.912536</td>\n",
              "      <td>0.901311</td>\n",
              "      <td>0.912308</td>\n",
              "      <td>0.911396</td>\n",
              "    </tr>\n",
              "    <tr>\n",
              "      <th>Gradient Boosting</th>\n",
              "      <td>0.829972</td>\n",
              "      <td>0.830085</td>\n",
              "      <td>0.826154</td>\n",
              "      <td>0.831054</td>\n",
              "      <td>0.831510</td>\n",
              "      <td>0.830085</td>\n",
              "      <td>0.829972</td>\n",
              "      <td>0.827578</td>\n",
              "      <td>0.828604</td>\n",
              "      <td>0.828547</td>\n",
              "      <td>0.812194</td>\n",
              "      <td>0.831966</td>\n",
              "      <td>0.817436</td>\n",
              "    </tr>\n",
              "  </tbody>\n",
              "</table>\n",
              "</div>"
            ],
            "text/plain": [
              "                   exposure_type  obs_duration_mean  conc1_type   species  \\\n",
              "KNN                     0.855328           0.857037    0.851339  0.859259   \n",
              "Random Forest           0.906610           0.913903    0.910655  0.884217   \n",
              "Gradient Boosting       0.829972           0.830085    0.826154  0.831054   \n",
              "\n",
              "                   atom_number  alone_atom_number  tripleBond  doubleBond  \\\n",
              "KNN                   0.851966           0.848148    0.850484    0.845641   \n",
              "Random Forest         0.912593           0.913390    0.913105    0.912650   \n",
              "Gradient Boosting     0.831510           0.830085    0.829972    0.827578   \n",
              "\n",
              "                   bonds_number  ring_numer       Mol  MorganDensity      LogP  \n",
              "KNN                    0.851624    0.850313  0.849174       0.849573  0.829231  \n",
              "Random Forest          0.911681    0.912536  0.901311       0.912308  0.911396  \n",
              "Gradient Boosting      0.828604    0.828547  0.812194       0.831966  0.817436  "
            ]
          },
          "metadata": {
            "tags": []
          },
          "execution_count": 45
        }
      ]
    },
    {
      "cell_type": "code",
      "metadata": {
        "id": "SvvFktGJYvp2",
        "colab_type": "code",
        "colab": {}
      },
      "source": [
        "df1 = pd.DataFrame(columns = X.columns, index=['KNN','Random Forest','Gradient Boosting'])"
      ],
      "execution_count": 0,
      "outputs": []
    },
    {
      "cell_type": "code",
      "metadata": {
        "id": "Gq2aYgvNYvp6",
        "colab_type": "code",
        "colab": {}
      },
      "source": [
        "new_train = X_train.copy()\n",
        "new_test = X_test.copy()\n",
        "for i in X.columns:\n",
        "    \n",
        "    l=[]\n",
        "    neigh = KNeighborsClassifier()\n",
        "    neigh.fit(new_train, y_train.ravel())\n",
        "    y_pred = neigh.predict(new_test)\n",
        "    l.append(accuracy_score(y_test, y_pred))\n",
        "    \n",
        "    forest = RandomForestClassifier(n_estimators = 100)\n",
        "    forest.fit(new_train, y_train.ravel())\n",
        "    y_pred = forest.predict(new_test)\n",
        "    l.append(accuracy_score(y_test, y_pred))\n",
        "    \n",
        "    grboost = GradientBoostingClassifier()\n",
        "    grboost.fit(new_train, y_train.ravel())\n",
        "    y_pred = grboost.predict(new_test)\n",
        "    l.append(accuracy_score(y_test, y_pred))\n",
        "    \n",
        "    df1[i] = l\n",
        "    del new_train[i]\n",
        "    del new_test[i]    \n",
        "    "
      ],
      "execution_count": 0,
      "outputs": []
    },
    {
      "cell_type": "code",
      "metadata": {
        "id": "RU9b3u12Yvp9",
        "colab_type": "code",
        "colab": {}
      },
      "source": [
        "\n",
        "for i in range(1,len(X.columns)):\n",
        "    col = list(X.columns[:i])\n",
        "    l=[]\n",
        "    new_train = X_train[col]\n",
        "    new_test = X_test[col]\n",
        "    \n",
        "    neigh = KNeighborsClassifier()\n",
        "    neigh.fit(new_train, y_train.ravel())\n",
        "    y_pred = neigh.predict(new_test)\n",
        "    l.append(accuracy_score(y_test, y_pred))\n",
        "    \n",
        "    forest = RandomForestClassifier(n_estimators = 100)\n",
        "    forest.fit(new_train, y_train.ravel())\n",
        "    y_pred = forest.predict(new_test)\n",
        "    l.append(accuracy_score(y_test, y_pred))\n",
        "    \n",
        "    grboost = GradientBoostingClassifier()\n",
        "    grboost.fit(new_train, y_train.ravel())\n",
        "    y_pred = grboost.predict(new_test)\n",
        "    l.append(accuracy_score(y_test, y_pred))\n",
        "    \n",
        "    df1[X.columns[i]] = l "
      ],
      "execution_count": 0,
      "outputs": []
    },
    {
      "cell_type": "code",
      "metadata": {
        "id": "VnJU6f-kYvqA",
        "colab_type": "code",
        "outputId": "172e4d2b-aa6c-46c0-d98e-c9a1f37cddc9",
        "colab": {}
      },
      "source": [
        "df1"
      ],
      "execution_count": 0,
      "outputs": [
        {
          "output_type": "execute_result",
          "data": {
            "text/html": [
              "<div>\n",
              "<style scoped>\n",
              "    .dataframe tbody tr th:only-of-type {\n",
              "        vertical-align: middle;\n",
              "    }\n",
              "\n",
              "    .dataframe tbody tr th {\n",
              "        vertical-align: top;\n",
              "    }\n",
              "\n",
              "    .dataframe thead th {\n",
              "        text-align: right;\n",
              "    }\n",
              "</style>\n",
              "<table border=\"1\" class=\"dataframe\">\n",
              "  <thead>\n",
              "    <tr style=\"text-align: right;\">\n",
              "      <th></th>\n",
              "      <th>exposure_type</th>\n",
              "      <th>obs_duration_mean</th>\n",
              "      <th>conc1_type</th>\n",
              "      <th>species</th>\n",
              "      <th>atom_number</th>\n",
              "      <th>alone_atom_number</th>\n",
              "      <th>tripleBond</th>\n",
              "      <th>doubleBond</th>\n",
              "      <th>bonds_number</th>\n",
              "      <th>ring_numer</th>\n",
              "      <th>Mol</th>\n",
              "      <th>MorganDensity</th>\n",
              "      <th>LogP</th>\n",
              "    </tr>\n",
              "  </thead>\n",
              "  <tbody>\n",
              "    <tr>\n",
              "      <th>KNN</th>\n",
              "      <td>NaN</td>\n",
              "      <td>0.440627</td>\n",
              "      <td>0.497208</td>\n",
              "      <td>0.573048</td>\n",
              "      <td>0.657037</td>\n",
              "      <td>0.744444</td>\n",
              "      <td>0.764729</td>\n",
              "      <td>0.771624</td>\n",
              "      <td>0.796467</td>\n",
              "      <td>0.803305</td>\n",
              "      <td>0.820513</td>\n",
              "      <td>0.824957</td>\n",
              "      <td>0.829231</td>\n",
              "    </tr>\n",
              "    <tr>\n",
              "      <th>Random Forest</th>\n",
              "      <td>NaN</td>\n",
              "      <td>0.586838</td>\n",
              "      <td>0.603305</td>\n",
              "      <td>0.623476</td>\n",
              "      <td>0.685698</td>\n",
              "      <td>0.772422</td>\n",
              "      <td>0.810085</td>\n",
              "      <td>0.819772</td>\n",
              "      <td>0.853732</td>\n",
              "      <td>0.883875</td>\n",
              "      <td>0.883989</td>\n",
              "      <td>0.910826</td>\n",
              "      <td>0.912137</td>\n",
              "    </tr>\n",
              "    <tr>\n",
              "      <th>Gradient Boosting</th>\n",
              "      <td>NaN</td>\n",
              "      <td>0.586838</td>\n",
              "      <td>0.601481</td>\n",
              "      <td>0.616695</td>\n",
              "      <td>0.634587</td>\n",
              "      <td>0.702051</td>\n",
              "      <td>0.708262</td>\n",
              "      <td>0.712934</td>\n",
              "      <td>0.740855</td>\n",
              "      <td>0.773675</td>\n",
              "      <td>0.778860</td>\n",
              "      <td>0.814473</td>\n",
              "      <td>0.817436</td>\n",
              "    </tr>\n",
              "  </tbody>\n",
              "</table>\n",
              "</div>"
            ],
            "text/plain": [
              "                  exposure_type  obs_duration_mean  conc1_type   species  \\\n",
              "KNN                         NaN           0.440627    0.497208  0.573048   \n",
              "Random Forest               NaN           0.586838    0.603305  0.623476   \n",
              "Gradient Boosting           NaN           0.586838    0.601481  0.616695   \n",
              "\n",
              "                   atom_number  alone_atom_number  tripleBond  doubleBond  \\\n",
              "KNN                   0.657037           0.744444    0.764729    0.771624   \n",
              "Random Forest         0.685698           0.772422    0.810085    0.819772   \n",
              "Gradient Boosting     0.634587           0.702051    0.708262    0.712934   \n",
              "\n",
              "                   bonds_number  ring_numer       Mol  MorganDensity      LogP  \n",
              "KNN                    0.796467    0.803305  0.820513       0.824957  0.829231  \n",
              "Random Forest          0.853732    0.883875  0.883989       0.910826  0.912137  \n",
              "Gradient Boosting      0.740855    0.773675  0.778860       0.814473  0.817436  "
            ]
          },
          "metadata": {
            "tags": []
          },
          "execution_count": 74
        }
      ]
    },
    {
      "cell_type": "markdown",
      "metadata": {
        "id": "P5Nu0YFSYvqD",
        "colab_type": "text"
      },
      "source": [
        "## KNN"
      ]
    },
    {
      "cell_type": "code",
      "metadata": {
        "id": "qohIA7myYvqE",
        "colab_type": "code",
        "colab": {}
      },
      "source": [
        "import itertools\n",
        "to_compare = list(itertools.combinations(list(X_train.columns), 2))"
      ],
      "execution_count": 0,
      "outputs": []
    },
    {
      "cell_type": "code",
      "metadata": {
        "id": "EI3TTnm7YvqG",
        "colab_type": "code",
        "colab": {}
      },
      "source": [
        "df2 = pd.DataFrame(columns = ['Accurancy'], index=to_compare)"
      ],
      "execution_count": 0,
      "outputs": []
    },
    {
      "cell_type": "code",
      "metadata": {
        "id": "xYrtD5e0YvqK",
        "colab_type": "code",
        "colab": {}
      },
      "source": [
        "for i in df2.index:\n",
        "    \n",
        "    new_train = X_train[list(i)]\n",
        "    new_test = X_test[list(i)]\n",
        "    \n",
        "    neigh = KNeighborsClassifier()\n",
        "    neigh.fit(new_train, y_train.ravel())\n",
        "    y_pred = neigh.predict(new_test)\n",
        "    df2['Accurancy'].loc[i] = accuracy_score(y_test, y_pred)"
      ],
      "execution_count": 0,
      "outputs": []
    },
    {
      "cell_type": "code",
      "metadata": {
        "id": "Sk_1PkNBYvqL",
        "colab_type": "code",
        "outputId": "e0db002b-ec07-4dcf-cbe3-12da1a376e37",
        "colab": {}
      },
      "source": [
        "df2.sort_values(by= ['Accurancy'],ascending=False).head(20)"
      ],
      "execution_count": 0,
      "outputs": [
        {
          "output_type": "execute_result",
          "data": {
            "text/html": [
              "<div>\n",
              "<style scoped>\n",
              "    .dataframe tbody tr th:only-of-type {\n",
              "        vertical-align: middle;\n",
              "    }\n",
              "\n",
              "    .dataframe tbody tr th {\n",
              "        vertical-align: top;\n",
              "    }\n",
              "\n",
              "    .dataframe thead th {\n",
              "        text-align: right;\n",
              "    }\n",
              "</style>\n",
              "<table border=\"1\" class=\"dataframe\">\n",
              "  <thead>\n",
              "    <tr style=\"text-align: right;\">\n",
              "      <th></th>\n",
              "      <th>Accurancy</th>\n",
              "    </tr>\n",
              "  </thead>\n",
              "  <tbody>\n",
              "    <tr>\n",
              "      <th>(species, Mol)</th>\n",
              "      <td>0.849345</td>\n",
              "    </tr>\n",
              "    <tr>\n",
              "      <th>(species, LogP)</th>\n",
              "      <td>0.849003</td>\n",
              "    </tr>\n",
              "    <tr>\n",
              "      <th>(bonds_number, Mol)</th>\n",
              "      <td>0.847749</td>\n",
              "    </tr>\n",
              "    <tr>\n",
              "      <th>(ring_numer, Mol)</th>\n",
              "      <td>0.846097</td>\n",
              "    </tr>\n",
              "    <tr>\n",
              "      <th>(exposure_type, Mol)</th>\n",
              "      <td>0.842108</td>\n",
              "    </tr>\n",
              "    <tr>\n",
              "      <th>(atom_number, Mol)</th>\n",
              "      <td>0.841368</td>\n",
              "    </tr>\n",
              "    <tr>\n",
              "      <th>(tripleBond, Mol)</th>\n",
              "      <td>0.838746</td>\n",
              "    </tr>\n",
              "    <tr>\n",
              "      <th>(conc1_type, Mol)</th>\n",
              "      <td>0.837436</td>\n",
              "    </tr>\n",
              "    <tr>\n",
              "      <th>(doubleBond, Mol)</th>\n",
              "      <td>0.835783</td>\n",
              "    </tr>\n",
              "    <tr>\n",
              "      <th>(Mol, LogP)</th>\n",
              "      <td>0.83208</td>\n",
              "    </tr>\n",
              "    <tr>\n",
              "      <th>(obs_duration_mean, Mol)</th>\n",
              "      <td>0.831282</td>\n",
              "    </tr>\n",
              "    <tr>\n",
              "      <th>(exposure_type, LogP)</th>\n",
              "      <td>0.822507</td>\n",
              "    </tr>\n",
              "    <tr>\n",
              "      <th>(doubleBond, LogP)</th>\n",
              "      <td>0.821481</td>\n",
              "    </tr>\n",
              "    <tr>\n",
              "      <th>(Mol, MorganDensity)</th>\n",
              "      <td>0.821311</td>\n",
              "    </tr>\n",
              "    <tr>\n",
              "      <th>(alone_atom_number, LogP)</th>\n",
              "      <td>0.81943</td>\n",
              "    </tr>\n",
              "    <tr>\n",
              "      <th>(conc1_type, LogP)</th>\n",
              "      <td>0.819373</td>\n",
              "    </tr>\n",
              "    <tr>\n",
              "      <th>(alone_atom_number, Mol)</th>\n",
              "      <td>0.817208</td>\n",
              "    </tr>\n",
              "    <tr>\n",
              "      <th>(bonds_number, LogP)</th>\n",
              "      <td>0.816182</td>\n",
              "    </tr>\n",
              "    <tr>\n",
              "      <th>(ring_numer, LogP)</th>\n",
              "      <td>0.815613</td>\n",
              "    </tr>\n",
              "    <tr>\n",
              "      <th>(atom_number, LogP)</th>\n",
              "      <td>0.812251</td>\n",
              "    </tr>\n",
              "  </tbody>\n",
              "</table>\n",
              "</div>"
            ],
            "text/plain": [
              "                          Accurancy\n",
              "(species, Mol)             0.849345\n",
              "(species, LogP)            0.849003\n",
              "(bonds_number, Mol)        0.847749\n",
              "(ring_numer, Mol)          0.846097\n",
              "(exposure_type, Mol)       0.842108\n",
              "(atom_number, Mol)         0.841368\n",
              "(tripleBond, Mol)          0.838746\n",
              "(conc1_type, Mol)          0.837436\n",
              "(doubleBond, Mol)          0.835783\n",
              "(Mol, LogP)                 0.83208\n",
              "(obs_duration_mean, Mol)   0.831282\n",
              "(exposure_type, LogP)      0.822507\n",
              "(doubleBond, LogP)         0.821481\n",
              "(Mol, MorganDensity)       0.821311\n",
              "(alone_atom_number, LogP)   0.81943\n",
              "(conc1_type, LogP)         0.819373\n",
              "(alone_atom_number, Mol)   0.817208\n",
              "(bonds_number, LogP)       0.816182\n",
              "(ring_numer, LogP)         0.815613\n",
              "(atom_number, LogP)        0.812251"
            ]
          },
          "metadata": {
            "tags": []
          },
          "execution_count": 68
        }
      ]
    },
    {
      "cell_type": "markdown",
      "metadata": {
        "id": "K5RZmkuFYvqN",
        "colab_type": "text"
      },
      "source": [
        "## RANDOM FOREST"
      ]
    },
    {
      "cell_type": "code",
      "metadata": {
        "id": "vq_sIn6yYvqO",
        "colab_type": "code",
        "colab": {}
      },
      "source": [
        "df3 = pd.DataFrame(columns = ['Accurancy_RF'], index=to_compare)"
      ],
      "execution_count": 0,
      "outputs": []
    },
    {
      "cell_type": "code",
      "metadata": {
        "id": "UBf1tPnzYvqQ",
        "colab_type": "code",
        "colab": {}
      },
      "source": [
        "for i in df3.index:\n",
        "    \n",
        "    new_train = X_train[list(i)]\n",
        "    new_test = X_test[list(i)]\n",
        "    \n",
        "    forest = RandomForestClassifier(n_estimators = 100)\n",
        "    forest.fit(new_train, y_train.ravel())\n",
        "    y_pred = forest.predict(new_test)\n",
        "    df3['Accurancy_RF'].loc[i] = accuracy_score(y_test, y_pred)"
      ],
      "execution_count": 0,
      "outputs": []
    },
    {
      "cell_type": "code",
      "metadata": {
        "id": "iEREZG2JYvqU",
        "colab_type": "code",
        "outputId": "6125702b-c5d8-4766-f32a-2653c877c700",
        "colab": {}
      },
      "source": [
        "df3.sort_values(by= ['Accurancy_RF'],ascending=False).head(20)"
      ],
      "execution_count": 0,
      "outputs": [
        {
          "output_type": "execute_result",
          "data": {
            "text/html": [
              "<div>\n",
              "<style scoped>\n",
              "    .dataframe tbody tr th:only-of-type {\n",
              "        vertical-align: middle;\n",
              "    }\n",
              "\n",
              "    .dataframe tbody tr th {\n",
              "        vertical-align: top;\n",
              "    }\n",
              "\n",
              "    .dataframe thead th {\n",
              "        text-align: right;\n",
              "    }\n",
              "</style>\n",
              "<table border=\"1\" class=\"dataframe\">\n",
              "  <thead>\n",
              "    <tr style=\"text-align: right;\">\n",
              "      <th></th>\n",
              "      <th>Accurancy_RF</th>\n",
              "    </tr>\n",
              "  </thead>\n",
              "  <tbody>\n",
              "    <tr>\n",
              "      <th>(species, Mol)</th>\n",
              "      <td>0.890484</td>\n",
              "    </tr>\n",
              "    <tr>\n",
              "      <th>(species, LogP)</th>\n",
              "      <td>0.882906</td>\n",
              "    </tr>\n",
              "    <tr>\n",
              "      <th>(exposure_type, Mol)</th>\n",
              "      <td>0.869516</td>\n",
              "    </tr>\n",
              "    <tr>\n",
              "      <th>(conc1_type, Mol)</th>\n",
              "      <td>0.862735</td>\n",
              "    </tr>\n",
              "    <tr>\n",
              "      <th>(Mol, LogP)</th>\n",
              "      <td>0.861425</td>\n",
              "    </tr>\n",
              "    <tr>\n",
              "      <th>(ring_numer, Mol)</th>\n",
              "      <td>0.860456</td>\n",
              "    </tr>\n",
              "    <tr>\n",
              "      <th>(Mol, MorganDensity)</th>\n",
              "      <td>0.860228</td>\n",
              "    </tr>\n",
              "    <tr>\n",
              "      <th>(bonds_number, Mol)</th>\n",
              "      <td>0.860171</td>\n",
              "    </tr>\n",
              "    <tr>\n",
              "      <th>(atom_number, Mol)</th>\n",
              "      <td>0.860114</td>\n",
              "    </tr>\n",
              "    <tr>\n",
              "      <th>(doubleBond, Mol)</th>\n",
              "      <td>0.859829</td>\n",
              "    </tr>\n",
              "    <tr>\n",
              "      <th>(alone_atom_number, Mol)</th>\n",
              "      <td>0.859601</td>\n",
              "    </tr>\n",
              "    <tr>\n",
              "      <th>(tripleBond, Mol)</th>\n",
              "      <td>0.858974</td>\n",
              "    </tr>\n",
              "    <tr>\n",
              "      <th>(obs_duration_mean, Mol)</th>\n",
              "      <td>0.858803</td>\n",
              "    </tr>\n",
              "    <tr>\n",
              "      <th>(exposure_type, LogP)</th>\n",
              "      <td>0.851738</td>\n",
              "    </tr>\n",
              "    <tr>\n",
              "      <th>(obs_duration_mean, LogP)</th>\n",
              "      <td>0.842336</td>\n",
              "    </tr>\n",
              "    <tr>\n",
              "      <th>(conc1_type, LogP)</th>\n",
              "      <td>0.84188</td>\n",
              "    </tr>\n",
              "    <tr>\n",
              "      <th>(alone_atom_number, LogP)</th>\n",
              "      <td>0.835556</td>\n",
              "    </tr>\n",
              "    <tr>\n",
              "      <th>(MorganDensity, LogP)</th>\n",
              "      <td>0.835499</td>\n",
              "    </tr>\n",
              "    <tr>\n",
              "      <th>(tripleBond, LogP)</th>\n",
              "      <td>0.835442</td>\n",
              "    </tr>\n",
              "    <tr>\n",
              "      <th>(doubleBond, LogP)</th>\n",
              "      <td>0.834416</td>\n",
              "    </tr>\n",
              "  </tbody>\n",
              "</table>\n",
              "</div>"
            ],
            "text/plain": [
              "                          Accurancy_RF\n",
              "(species, Mol)                0.890484\n",
              "(species, LogP)               0.882906\n",
              "(exposure_type, Mol)          0.869516\n",
              "(conc1_type, Mol)             0.862735\n",
              "(Mol, LogP)                   0.861425\n",
              "(ring_numer, Mol)             0.860456\n",
              "(Mol, MorganDensity)          0.860228\n",
              "(bonds_number, Mol)           0.860171\n",
              "(atom_number, Mol)            0.860114\n",
              "(doubleBond, Mol)             0.859829\n",
              "(alone_atom_number, Mol)      0.859601\n",
              "(tripleBond, Mol)             0.858974\n",
              "(obs_duration_mean, Mol)      0.858803\n",
              "(exposure_type, LogP)         0.851738\n",
              "(obs_duration_mean, LogP)     0.842336\n",
              "(conc1_type, LogP)             0.84188\n",
              "(alone_atom_number, LogP)     0.835556\n",
              "(MorganDensity, LogP)         0.835499\n",
              "(tripleBond, LogP)            0.835442\n",
              "(doubleBond, LogP)            0.834416"
            ]
          },
          "metadata": {
            "tags": []
          },
          "execution_count": 74
        }
      ]
    },
    {
      "cell_type": "markdown",
      "metadata": {
        "id": "opQauLFVYvqY",
        "colab_type": "text"
      },
      "source": [
        "## GRADIENT BOOSTING"
      ]
    },
    {
      "cell_type": "code",
      "metadata": {
        "id": "Vxh_hZaaYvqZ",
        "colab_type": "code",
        "colab": {}
      },
      "source": [
        "df4 = pd.DataFrame(columns = ['Accurancy_GB'], index=to_compare)"
      ],
      "execution_count": 0,
      "outputs": []
    },
    {
      "cell_type": "code",
      "metadata": {
        "id": "S5Ib9Rb7Yvqf",
        "colab_type": "code",
        "colab": {}
      },
      "source": [
        "for i in df4.index:\n",
        "    \n",
        "    new_train = X_train[list(i)]\n",
        "    new_test = X_test[list(i)]\n",
        "    \n",
        "    forest = RandomForestClassifier(n_estimators = 100)\n",
        "    forest.fit(new_train, y_train.ravel())\n",
        "    y_pred = forest.predict(new_test)\n",
        "    df4['Accurancy_GB'].loc[i] = accuracy_score(y_test, y_pred)"
      ],
      "execution_count": 0,
      "outputs": []
    },
    {
      "cell_type": "code",
      "metadata": {
        "id": "EOUpPpH8Yvqh",
        "colab_type": "code",
        "colab": {}
      },
      "source": [
        "tot = df4.rank()['Accurancy_GB'] + df3.rank()['Accurancy_RF'] + df2.rank()['Accurancy']\n",
        "        "
      ],
      "execution_count": 0,
      "outputs": []
    },
    {
      "cell_type": "code",
      "metadata": {
        "id": "zfnl0N07Yvqj",
        "colab_type": "code",
        "colab": {}
      },
      "source": [
        "tot = pd.DataFrame(tot)"
      ],
      "execution_count": 0,
      "outputs": []
    },
    {
      "cell_type": "code",
      "metadata": {
        "id": "sH8mhsp4Yvql",
        "colab_type": "code",
        "colab": {}
      },
      "source": [
        "tot = tot.reset_index()"
      ],
      "execution_count": 0,
      "outputs": []
    },
    {
      "cell_type": "code",
      "metadata": {
        "id": "X-TU1I76Yvqn",
        "colab_type": "code",
        "colab": {}
      },
      "source": [
        "top_features= tot.explode('index').sort_values(by=[0],ascending=False).groupby('index').sum()"
      ],
      "execution_count": 0,
      "outputs": []
    },
    {
      "cell_type": "code",
      "metadata": {
        "id": "gfL98dwqYvqp",
        "colab_type": "code",
        "colab": {}
      },
      "source": [
        "try_features= top_features.sort_values(by=[0],ascending=False).head(6).index"
      ],
      "execution_count": 0,
      "outputs": []
    },
    {
      "cell_type": "code",
      "metadata": {
        "id": "8wBjOejzYvqq",
        "colab_type": "code",
        "outputId": "212ce92c-70d8-47c2-c49a-bebad6420b97",
        "colab": {}
      },
      "source": [
        "try_features"
      ],
      "execution_count": 0,
      "outputs": [
        {
          "output_type": "execute_result",
          "data": {
            "text/plain": [
              "Index(['Mol', 'LogP', 'MorganDensity', 'bonds_number', 'atom_number',\n",
              "       'species'],\n",
              "      dtype='object', name='index')"
            ]
          },
          "metadata": {
            "tags": []
          },
          "execution_count": 128
        }
      ]
    },
    {
      "cell_type": "code",
      "metadata": {
        "id": "ECjLCRvqYvqs",
        "colab_type": "code",
        "outputId": "030f2099-51d2-4d1d-ccdc-f5f22338ba6c",
        "colab": {}
      },
      "source": [
        "    new_train = X_train[list(try_features)]\n",
        "    new_test = X_test[list(try_features)]\n",
        "    \n",
        "    neigh = KNeighborsClassifier()\n",
        "    neigh.fit(new_train, y_train.ravel())\n",
        "    y_pred = neigh.predict(new_test)\n",
        "    accuracy_score(y_test, y_pred)"
      ],
      "execution_count": 0,
      "outputs": [
        {
          "output_type": "execute_result",
          "data": {
            "text/plain": [
              "0.8605698005698006"
            ]
          },
          "metadata": {
            "tags": []
          },
          "execution_count": 129
        }
      ]
    },
    {
      "cell_type": "code",
      "metadata": {
        "id": "GrJXMbwyYvqv",
        "colab_type": "code",
        "outputId": "dd8bbe36-46a4-458e-f18e-820e4ad4c22d",
        "colab": {}
      },
      "source": [
        "    forest = RandomForestClassifier(n_estimators = 100)\n",
        "    forest.fit(new_train, y_train.ravel())\n",
        "    y_pred = forest.predict(new_test)\n",
        "    accuracy_score(y_test, y_pred)"
      ],
      "execution_count": 0,
      "outputs": [
        {
          "output_type": "execute_result",
          "data": {
            "text/plain": [
              "0.9067806267806268"
            ]
          },
          "metadata": {
            "tags": []
          },
          "execution_count": 131
        }
      ]
    },
    {
      "cell_type": "code",
      "metadata": {
        "id": "eHaJiLfwYvqz",
        "colab_type": "code",
        "outputId": "19915c82-e38b-4ad2-bd32-bacfbf4e185b",
        "colab": {}
      },
      "source": [
        "    forest = RandomForestClassifier(n_estimators = 100)\n",
        "    forest.fit(new_train, y_train.ravel())\n",
        "    y_pred = forest.predict(new_test)\n",
        "    accuracy_score(y_test, y_pred)"
      ],
      "execution_count": 0,
      "outputs": [
        {
          "output_type": "execute_result",
          "data": {
            "text/plain": [
              "0.9065527065527066"
            ]
          },
          "metadata": {
            "tags": []
          },
          "execution_count": 132
        }
      ]
    },
    {
      "cell_type": "code",
      "metadata": {
        "id": "exIyW01iYvq1",
        "colab_type": "code",
        "colab": {}
      },
      "source": [
        "try_features = top_features.sort_values(by=[0],ascending=False).index"
      ],
      "execution_count": 0,
      "outputs": []
    },
    {
      "cell_type": "code",
      "metadata": {
        "id": "hhoiels2Yvq2",
        "colab_type": "code",
        "outputId": "e3361f46-b0e9-4532-aa11-1266703471f8",
        "colab": {}
      },
      "source": [
        "try_features"
      ],
      "execution_count": 0,
      "outputs": [
        {
          "output_type": "execute_result",
          "data": {
            "text/plain": [
              "Index(['Mol', 'LogP', 'MorganDensity', 'bonds_number', 'atom_number',\n",
              "       'species', 'ring_numer', 'doubleBond', 'alone_atom_number',\n",
              "       'conc1_type', 'exposure_type', 'obs_duration_mean', 'tripleBond'],\n",
              "      dtype='object', name='index')"
            ]
          },
          "metadata": {
            "tags": []
          },
          "execution_count": 134
        }
      ]
    },
    {
      "cell_type": "code",
      "metadata": {
        "id": "-VW709ZNYvq3",
        "colab_type": "code",
        "outputId": "6e400659-e73c-46d9-ae20-fa2d54ceb0cc",
        "colab": {}
      },
      "source": [
        "top_features.sort_values(by=[0],ascending=False)"
      ],
      "execution_count": 0,
      "outputs": [
        {
          "output_type": "execute_result",
          "data": {
            "text/html": [
              "<div>\n",
              "<style scoped>\n",
              "    .dataframe tbody tr th:only-of-type {\n",
              "        vertical-align: middle;\n",
              "    }\n",
              "\n",
              "    .dataframe tbody tr th {\n",
              "        vertical-align: top;\n",
              "    }\n",
              "\n",
              "    .dataframe thead th {\n",
              "        text-align: right;\n",
              "    }\n",
              "</style>\n",
              "<table border=\"1\" class=\"dataframe\">\n",
              "  <thead>\n",
              "    <tr style=\"text-align: right;\">\n",
              "      <th></th>\n",
              "      <th>0</th>\n",
              "    </tr>\n",
              "    <tr>\n",
              "      <th>index</th>\n",
              "      <th></th>\n",
              "    </tr>\n",
              "  </thead>\n",
              "  <tbody>\n",
              "    <tr>\n",
              "      <th>Mol</th>\n",
              "      <td>2571.0</td>\n",
              "    </tr>\n",
              "    <tr>\n",
              "      <th>LogP</th>\n",
              "      <td>2269.0</td>\n",
              "    </tr>\n",
              "    <tr>\n",
              "      <th>MorganDensity</th>\n",
              "      <td>1878.5</td>\n",
              "    </tr>\n",
              "    <tr>\n",
              "      <th>bonds_number</th>\n",
              "      <td>1654.5</td>\n",
              "    </tr>\n",
              "    <tr>\n",
              "      <th>atom_number</th>\n",
              "      <td>1441.0</td>\n",
              "    </tr>\n",
              "    <tr>\n",
              "      <th>species</th>\n",
              "      <td>1356.0</td>\n",
              "    </tr>\n",
              "    <tr>\n",
              "      <th>ring_numer</th>\n",
              "      <td>1301.0</td>\n",
              "    </tr>\n",
              "    <tr>\n",
              "      <th>doubleBond</th>\n",
              "      <td>1074.0</td>\n",
              "    </tr>\n",
              "    <tr>\n",
              "      <th>alone_atom_number</th>\n",
              "      <td>1050.0</td>\n",
              "    </tr>\n",
              "    <tr>\n",
              "      <th>conc1_type</th>\n",
              "      <td>1014.0</td>\n",
              "    </tr>\n",
              "    <tr>\n",
              "      <th>exposure_type</th>\n",
              "      <td>1010.5</td>\n",
              "    </tr>\n",
              "    <tr>\n",
              "      <th>obs_duration_mean</th>\n",
              "      <td>992.5</td>\n",
              "    </tr>\n",
              "    <tr>\n",
              "      <th>tripleBond</th>\n",
              "      <td>874.0</td>\n",
              "    </tr>\n",
              "  </tbody>\n",
              "</table>\n",
              "</div>"
            ],
            "text/plain": [
              "                        0\n",
              "index                    \n",
              "Mol                2571.0\n",
              "LogP               2269.0\n",
              "MorganDensity      1878.5\n",
              "bonds_number       1654.5\n",
              "atom_number        1441.0\n",
              "species            1356.0\n",
              "ring_numer         1301.0\n",
              "doubleBond         1074.0\n",
              "alone_atom_number  1050.0\n",
              "conc1_type         1014.0\n",
              "exposure_type      1010.5\n",
              "obs_duration_mean   992.5\n",
              "tripleBond          874.0"
            ]
          },
          "metadata": {
            "tags": []
          },
          "execution_count": 136
        }
      ]
    },
    {
      "cell_type": "code",
      "metadata": {
        "id": "ARg_XblsYvq4",
        "colab_type": "code",
        "colab": {}
      },
      "source": [
        "df1 = pd.DataFrame(columns = try_features, index=['KNN','Random Forest','Gradient Boosting'])\n",
        "for i in range(1,len(try_features)):\n",
        "    col = list(try_features[:i])\n",
        "    l=[]\n",
        "    new_train = X_train[col]\n",
        "    new_test = X_test[col]\n",
        "    \n",
        "    neigh = KNeighborsClassifier()\n",
        "    neigh.fit(new_train, y_train.ravel())\n",
        "    y_pred = neigh.predict(new_test)\n",
        "    l.append(accuracy_score(y_test, y_pred))\n",
        "    \n",
        "    forest = RandomForestClassifier(n_estimators = 100)\n",
        "    forest.fit(new_train, y_train.ravel())\n",
        "    y_pred = forest.predict(new_test)\n",
        "    l.append(accuracy_score(y_test, y_pred))\n",
        "    \n",
        "    grboost = GradientBoostingClassifier()\n",
        "    grboost.fit(new_train, y_train.ravel())\n",
        "    y_pred = grboost.predict(new_test)\n",
        "    l.append(accuracy_score(y_test, y_pred))\n",
        "    \n",
        "    df1[X.columns[i]] = l "
      ],
      "execution_count": 0,
      "outputs": []
    },
    {
      "cell_type": "code",
      "metadata": {
        "id": "iMcyfdUIYvq5",
        "colab_type": "code",
        "outputId": "ce9aeb51-3705-4c24-9e8c-82ca506a680c",
        "colab": {}
      },
      "source": [
        "df1"
      ],
      "execution_count": 0,
      "outputs": [
        {
          "output_type": "execute_result",
          "data": {
            "text/html": [
              "<div>\n",
              "<style scoped>\n",
              "    .dataframe tbody tr th:only-of-type {\n",
              "        vertical-align: middle;\n",
              "    }\n",
              "\n",
              "    .dataframe tbody tr th {\n",
              "        vertical-align: top;\n",
              "    }\n",
              "\n",
              "    .dataframe thead th {\n",
              "        text-align: right;\n",
              "    }\n",
              "</style>\n",
              "<table border=\"1\" class=\"dataframe\">\n",
              "  <thead>\n",
              "    <tr style=\"text-align: right;\">\n",
              "      <th>index</th>\n",
              "      <th>Mol</th>\n",
              "      <th>LogP</th>\n",
              "      <th>MorganDensity</th>\n",
              "      <th>bonds_number</th>\n",
              "      <th>atom_number</th>\n",
              "      <th>species</th>\n",
              "      <th>ring_numer</th>\n",
              "      <th>doubleBond</th>\n",
              "      <th>alone_atom_number</th>\n",
              "      <th>conc1_type</th>\n",
              "      <th>exposure_type</th>\n",
              "      <th>obs_duration_mean</th>\n",
              "      <th>tripleBond</th>\n",
              "    </tr>\n",
              "  </thead>\n",
              "  <tbody>\n",
              "    <tr>\n",
              "      <th>KNN</th>\n",
              "      <td>0.862165</td>\n",
              "      <td>0.850427</td>\n",
              "      <td>0.856467</td>\n",
              "      <td>0.862336</td>\n",
              "      <td>0.838746</td>\n",
              "      <td>0.843989</td>\n",
              "      <td>0.866610</td>\n",
              "      <td>0.858462</td>\n",
              "      <td>0.843476</td>\n",
              "      <td>0.832080</td>\n",
              "      <td>NaN</td>\n",
              "      <td>0.813504</td>\n",
              "      <td>0.860570</td>\n",
              "    </tr>\n",
              "    <tr>\n",
              "      <th>Random Forest</th>\n",
              "      <td>0.907236</td>\n",
              "      <td>0.912308</td>\n",
              "      <td>0.913903</td>\n",
              "      <td>0.905527</td>\n",
              "      <td>0.862393</td>\n",
              "      <td>0.861937</td>\n",
              "      <td>0.905983</td>\n",
              "      <td>0.906382</td>\n",
              "      <td>0.862450</td>\n",
              "      <td>0.861425</td>\n",
              "      <td>NaN</td>\n",
              "      <td>0.859886</td>\n",
              "      <td>0.907692</td>\n",
              "    </tr>\n",
              "    <tr>\n",
              "      <th>Gradient Boosting</th>\n",
              "      <td>0.828718</td>\n",
              "      <td>0.829972</td>\n",
              "      <td>0.830484</td>\n",
              "      <td>0.828148</td>\n",
              "      <td>0.817493</td>\n",
              "      <td>0.814758</td>\n",
              "      <td>0.829117</td>\n",
              "      <td>0.825641</td>\n",
              "      <td>0.822165</td>\n",
              "      <td>0.805071</td>\n",
              "      <td>NaN</td>\n",
              "      <td>0.785242</td>\n",
              "      <td>0.826895</td>\n",
              "    </tr>\n",
              "  </tbody>\n",
              "</table>\n",
              "</div>"
            ],
            "text/plain": [
              "index                   Mol      LogP  MorganDensity  bonds_number  \\\n",
              "KNN                0.862165  0.850427       0.856467      0.862336   \n",
              "Random Forest      0.907236  0.912308       0.913903      0.905527   \n",
              "Gradient Boosting  0.828718  0.829972       0.830484      0.828148   \n",
              "\n",
              "index              atom_number   species  ring_numer  doubleBond  \\\n",
              "KNN                   0.838746  0.843989    0.866610    0.858462   \n",
              "Random Forest         0.862393  0.861937    0.905983    0.906382   \n",
              "Gradient Boosting     0.817493  0.814758    0.829117    0.825641   \n",
              "\n",
              "index              alone_atom_number  conc1_type exposure_type  \\\n",
              "KNN                         0.843476    0.832080           NaN   \n",
              "Random Forest               0.862450    0.861425           NaN   \n",
              "Gradient Boosting           0.822165    0.805071           NaN   \n",
              "\n",
              "index              obs_duration_mean  tripleBond  \n",
              "KNN                         0.813504    0.860570  \n",
              "Random Forest               0.859886    0.907692  \n",
              "Gradient Boosting           0.785242    0.826895  "
            ]
          },
          "metadata": {
            "tags": []
          },
          "execution_count": 139
        }
      ]
    },
    {
      "cell_type": "code",
      "metadata": {
        "id": "NzeGrc1fYvq8",
        "colab_type": "code",
        "outputId": "718915db-92c4-441e-e8c8-72b20502078d",
        "colab": {}
      },
      "source": [
        "X"
      ],
      "execution_count": 0,
      "outputs": [
        {
          "output_type": "execute_result",
          "data": {
            "text/html": [
              "<div>\n",
              "<style scoped>\n",
              "    .dataframe tbody tr th:only-of-type {\n",
              "        vertical-align: middle;\n",
              "    }\n",
              "\n",
              "    .dataframe tbody tr th {\n",
              "        vertical-align: top;\n",
              "    }\n",
              "\n",
              "    .dataframe thead th {\n",
              "        text-align: right;\n",
              "    }\n",
              "</style>\n",
              "<table border=\"1\" class=\"dataframe\">\n",
              "  <thead>\n",
              "    <tr style=\"text-align: right;\">\n",
              "      <th></th>\n",
              "      <th>exposure_type</th>\n",
              "      <th>obs_duration_mean</th>\n",
              "      <th>conc1_type</th>\n",
              "      <th>species</th>\n",
              "      <th>atom_number</th>\n",
              "      <th>alone_atom_number</th>\n",
              "      <th>tripleBond</th>\n",
              "      <th>doubleBond</th>\n",
              "      <th>bonds_number</th>\n",
              "      <th>ring_numer</th>\n",
              "      <th>Mol</th>\n",
              "      <th>MorganDensity</th>\n",
              "      <th>LogP</th>\n",
              "    </tr>\n",
              "  </thead>\n",
              "  <tbody>\n",
              "    <tr>\n",
              "      <th>0</th>\n",
              "      <td>9</td>\n",
              "      <td>0.024211</td>\n",
              "      <td>5</td>\n",
              "      <td>40</td>\n",
              "      <td>0.273831</td>\n",
              "      <td>3</td>\n",
              "      <td>0</td>\n",
              "      <td>0</td>\n",
              "      <td>0.000000</td>\n",
              "      <td>0.0</td>\n",
              "      <td>0.100920</td>\n",
              "      <td>0.666667</td>\n",
              "      <td>-5.9945</td>\n",
              "    </tr>\n",
              "    <tr>\n",
              "      <th>1</th>\n",
              "      <td>9</td>\n",
              "      <td>-0.740360</td>\n",
              "      <td>5</td>\n",
              "      <td>208</td>\n",
              "      <td>0.273831</td>\n",
              "      <td>3</td>\n",
              "      <td>0</td>\n",
              "      <td>0</td>\n",
              "      <td>0.000000</td>\n",
              "      <td>0.0</td>\n",
              "      <td>0.100920</td>\n",
              "      <td>0.666667</td>\n",
              "      <td>-5.9945</td>\n",
              "    </tr>\n",
              "    <tr>\n",
              "      <th>2</th>\n",
              "      <td>3</td>\n",
              "      <td>0.800083</td>\n",
              "      <td>5</td>\n",
              "      <td>312</td>\n",
              "      <td>0.273831</td>\n",
              "      <td>3</td>\n",
              "      <td>0</td>\n",
              "      <td>0</td>\n",
              "      <td>0.000000</td>\n",
              "      <td>0.0</td>\n",
              "      <td>0.100920</td>\n",
              "      <td>0.666667</td>\n",
              "      <td>-5.9945</td>\n",
              "    </tr>\n",
              "    <tr>\n",
              "      <th>3</th>\n",
              "      <td>9</td>\n",
              "      <td>0.800083</td>\n",
              "      <td>5</td>\n",
              "      <td>474</td>\n",
              "      <td>0.273831</td>\n",
              "      <td>3</td>\n",
              "      <td>0</td>\n",
              "      <td>0</td>\n",
              "      <td>0.000000</td>\n",
              "      <td>0.0</td>\n",
              "      <td>0.100920</td>\n",
              "      <td>0.666667</td>\n",
              "      <td>-5.9945</td>\n",
              "    </tr>\n",
              "    <tr>\n",
              "      <th>4</th>\n",
              "      <td>3</td>\n",
              "      <td>3.037407</td>\n",
              "      <td>5</td>\n",
              "      <td>312</td>\n",
              "      <td>0.273831</td>\n",
              "      <td>3</td>\n",
              "      <td>0</td>\n",
              "      <td>0</td>\n",
              "      <td>0.000000</td>\n",
              "      <td>0.0</td>\n",
              "      <td>0.100920</td>\n",
              "      <td>0.666667</td>\n",
              "      <td>-5.9945</td>\n",
              "    </tr>\n",
              "    <tr>\n",
              "      <th>...</th>\n",
              "      <td>...</td>\n",
              "      <td>...</td>\n",
              "      <td>...</td>\n",
              "      <td>...</td>\n",
              "      <td>...</td>\n",
              "      <td>...</td>\n",
              "      <td>...</td>\n",
              "      <td>...</td>\n",
              "      <td>...</td>\n",
              "      <td>...</td>\n",
              "      <td>...</td>\n",
              "      <td>...</td>\n",
              "      <td>...</td>\n",
              "    </tr>\n",
              "    <tr>\n",
              "      <th>53647</th>\n",
              "      <td>3</td>\n",
              "      <td>0.800083</td>\n",
              "      <td>1</td>\n",
              "      <td>372</td>\n",
              "      <td>0.384370</td>\n",
              "      <td>0</td>\n",
              "      <td>0</td>\n",
              "      <td>0</td>\n",
              "      <td>0.522111</td>\n",
              "      <td>1.0</td>\n",
              "      <td>0.089879</td>\n",
              "      <td>1.166667</td>\n",
              "      <td>2.3901</td>\n",
              "    </tr>\n",
              "    <tr>\n",
              "      <th>53648</th>\n",
              "      <td>1</td>\n",
              "      <td>-0.571732</td>\n",
              "      <td>3</td>\n",
              "      <td>422</td>\n",
              "      <td>0.473649</td>\n",
              "      <td>0</td>\n",
              "      <td>0</td>\n",
              "      <td>2</td>\n",
              "      <td>0.576717</td>\n",
              "      <td>1.0</td>\n",
              "      <td>0.122888</td>\n",
              "      <td>1.437500</td>\n",
              "      <td>1.3211</td>\n",
              "    </tr>\n",
              "    <tr>\n",
              "      <th>53649</th>\n",
              "      <td>9</td>\n",
              "      <td>0.800083</td>\n",
              "      <td>1</td>\n",
              "      <td>262</td>\n",
              "      <td>0.490837</td>\n",
              "      <td>2</td>\n",
              "      <td>0</td>\n",
              "      <td>2</td>\n",
              "      <td>0.609799</td>\n",
              "      <td>2.0</td>\n",
              "      <td>0.162214</td>\n",
              "      <td>1.368421</td>\n",
              "      <td>0.8126</td>\n",
              "    </tr>\n",
              "    <tr>\n",
              "      <th>53650</th>\n",
              "      <td>3</td>\n",
              "      <td>0.800083</td>\n",
              "      <td>1</td>\n",
              "      <td>372</td>\n",
              "      <td>0.384370</td>\n",
              "      <td>0</td>\n",
              "      <td>0</td>\n",
              "      <td>2</td>\n",
              "      <td>0.522111</td>\n",
              "      <td>1.0</td>\n",
              "      <td>0.091541</td>\n",
              "      <td>1.083333</td>\n",
              "      <td>0.4780</td>\n",
              "    </tr>\n",
              "    <tr>\n",
              "      <th>53651</th>\n",
              "      <td>9</td>\n",
              "      <td>0.800083</td>\n",
              "      <td>3</td>\n",
              "      <td>372</td>\n",
              "      <td>0.353921</td>\n",
              "      <td>0</td>\n",
              "      <td>0</td>\n",
              "      <td>1</td>\n",
              "      <td>0.327611</td>\n",
              "      <td>0.0</td>\n",
              "      <td>0.048117</td>\n",
              "      <td>2.000000</td>\n",
              "      <td>0.0008</td>\n",
              "    </tr>\n",
              "  </tbody>\n",
              "</table>\n",
              "<p>53180 rows × 13 columns</p>\n",
              "</div>"
            ],
            "text/plain": [
              "       exposure_type  obs_duration_mean  conc1_type  species  atom_number  \\\n",
              "0                  9           0.024211           5       40     0.273831   \n",
              "1                  9          -0.740360           5      208     0.273831   \n",
              "2                  3           0.800083           5      312     0.273831   \n",
              "3                  9           0.800083           5      474     0.273831   \n",
              "4                  3           3.037407           5      312     0.273831   \n",
              "...              ...                ...         ...      ...          ...   \n",
              "53647              3           0.800083           1      372     0.384370   \n",
              "53648              1          -0.571732           3      422     0.473649   \n",
              "53649              9           0.800083           1      262     0.490837   \n",
              "53650              3           0.800083           1      372     0.384370   \n",
              "53651              9           0.800083           3      372     0.353921   \n",
              "\n",
              "       alone_atom_number  tripleBond  doubleBond  bonds_number  ring_numer  \\\n",
              "0                      3           0           0      0.000000         0.0   \n",
              "1                      3           0           0      0.000000         0.0   \n",
              "2                      3           0           0      0.000000         0.0   \n",
              "3                      3           0           0      0.000000         0.0   \n",
              "4                      3           0           0      0.000000         0.0   \n",
              "...                  ...         ...         ...           ...         ...   \n",
              "53647                  0           0           0      0.522111         1.0   \n",
              "53648                  0           0           2      0.576717         1.0   \n",
              "53649                  2           0           2      0.609799         2.0   \n",
              "53650                  0           0           2      0.522111         1.0   \n",
              "53651                  0           0           1      0.327611         0.0   \n",
              "\n",
              "            Mol  MorganDensity    LogP  \n",
              "0      0.100920       0.666667 -5.9945  \n",
              "1      0.100920       0.666667 -5.9945  \n",
              "2      0.100920       0.666667 -5.9945  \n",
              "3      0.100920       0.666667 -5.9945  \n",
              "4      0.100920       0.666667 -5.9945  \n",
              "...         ...            ...     ...  \n",
              "53647  0.089879       1.166667  2.3901  \n",
              "53648  0.122888       1.437500  1.3211  \n",
              "53649  0.162214       1.368421  0.8126  \n",
              "53650  0.091541       1.083333  0.4780  \n",
              "53651  0.048117       2.000000  0.0008  \n",
              "\n",
              "[53180 rows x 13 columns]"
            ]
          },
          "metadata": {
            "tags": []
          },
          "execution_count": 153
        }
      ]
    },
    {
      "cell_type": "markdown",
      "metadata": {
        "id": "bycmC74kYvq-",
        "colab_type": "text"
      },
      "source": [
        "## FROM HERE WE USE THE DISTANCE MATRIX"
      ]
    },
    {
      "cell_type": "code",
      "metadata": {
        "id": "tpOX0WXHYvq_",
        "colab_type": "code",
        "colab": {}
      },
      "source": [
        "categorical = [\n",
        "\"exposure_type\", \n",
        "\"conc1_type\",\"species\",\n",
        "'tripleBond',\n",
        "#  'obs_duration_mean'\n",
        " ]"
      ],
      "execution_count": 0,
      "outputs": []
    },
    {
      "cell_type": "code",
      "metadata": {
        "id": "1v6KBgApYvrA",
        "colab_type": "code",
        "colab": {}
      },
      "source": [
        "non_categorical =[\n",
        " 'atom_number',\n",
        " 'alone_atom_number',\n",
        " 'doubleBond',\n",
        " 'bonds_number',\n",
        " 'ring_numer',\n",
        " 'Mol',\n",
        " 'MorganDensity',\n",
        " 'LogP']"
      ],
      "execution_count": 0,
      "outputs": []
    },
    {
      "cell_type": "code",
      "metadata": {
        "id": "su5bX3P6YvrE",
        "colab_type": "code",
        "colab": {}
      },
      "source": [
        "X_try  =  X#.head(30000)\n",
        "y_try = y#[:30000]"
      ],
      "execution_count": 0,
      "outputs": []
    },
    {
      "cell_type": "code",
      "metadata": {
        "id": "tEHtde97YvrF",
        "colab_type": "code",
        "colab": {}
      },
      "source": [
        "X_train, X_test, y_train, y_test = train_test_split(X_try, y_try, test_size=0.33, random_state=42)\n",
        "X_try = X_train.append(X_test)"
      ],
      "execution_count": 0,
      "outputs": []
    },
    {
      "cell_type": "code",
      "metadata": {
        "id": "-94r4ytzYvrI",
        "colab_type": "code",
        "colab": {}
      },
      "source": [
        "import numpy as np\n",
        "from scipy.spatial.distance import hamming\n",
        "from scipy.spatial.distance import pdist\n",
        "from scipy.spatial.distance import squareform\n",
        "\n",
        "def new_distance_matrix(X, len_X_train, cat_features = [], num_features = [], alpha = 1):\n",
        "    ''' inputs: matrix X [num_samples, num_features], the list of the categorical features, the list of the numerical features, weight alpha\n",
        "        output: distance matrix\n",
        "    '''\n",
        "\n",
        "    # Training\n",
        "    X_cat = X[cat_features]\n",
        "    X_num = X[num_features]\n",
        "    dist_matr = alpha * squareform(pdist(X_cat, metric = \"hamming\"))\n",
        "    dist_matr += squareform(pdist(X_num, metric = \"euclidean\"))\n",
        "\n",
        "    dist_matr_train = dist_matr[:len_X_train,:len_X_train]\n",
        "    dist_matr_test = dist_matr[len_X_train:,:len_X_train]\n",
        "\n",
        "    return dist_matr_train, dist_matr_test\n"
      ],
      "execution_count": 0,
      "outputs": []
    },
    {
      "cell_type": "code",
      "metadata": {
        "id": "AkmjAzipYvrK",
        "colab_type": "code",
        "colab": {}
      },
      "source": [
        "len_X_train = len(X_train)\n",
        "X_train_new, X_test_new = new_distance_matrix(X_try, len_X_train, categorical,non_categorical, alpha = 5)"
      ],
      "execution_count": 0,
      "outputs": []
    },
    {
      "cell_type": "code",
      "metadata": {
        "id": "ivlJwkqyYvrN",
        "colab_type": "code",
        "outputId": "abdc4adf-656e-4bcf-a7b1-5dacd3d32929",
        "colab": {
          "base_uri": "https://localhost:8080/",
          "height": 34
        }
      },
      "source": [
        "X_train_new.shape"
      ],
      "execution_count": 0,
      "outputs": [
        {
          "output_type": "execute_result",
          "data": {
            "text/plain": [
              "(6926, 6926)"
            ]
          },
          "metadata": {
            "tags": []
          },
          "execution_count": 73
        }
      ]
    },
    {
      "cell_type": "code",
      "metadata": {
        "id": "HHtIJGaqYvrR",
        "colab_type": "code",
        "outputId": "3ce2fe70-d7b3-47f9-8287-97b28707e0c5",
        "colab": {
          "base_uri": "https://localhost:8080/",
          "height": 34
        }
      },
      "source": [
        "X_test_new.shape"
      ],
      "execution_count": 0,
      "outputs": [
        {
          "output_type": "execute_result",
          "data": {
            "text/plain": [
              "(3412, 6926)"
            ]
          },
          "metadata": {
            "tags": []
          },
          "execution_count": 74
        }
      ]
    },
    {
      "cell_type": "code",
      "metadata": {
        "id": "O30AmpDFYvrW",
        "colab_type": "code",
        "colab": {}
      },
      "source": [
        "neigh = KNeighborsClassifier(metric = 'precomputed')\n",
        "neigh.fit(X_train_new, y_train.ravel())\n",
        "y_pred = neigh.predict(X_test_new)"
      ],
      "execution_count": 0,
      "outputs": []
    },
    {
      "cell_type": "code",
      "metadata": {
        "id": "pmoPshQqYvrb",
        "colab_type": "code",
        "outputId": "a5ecce55-305d-4e50-fa9b-f7e3470b13c7",
        "colab": {
          "base_uri": "https://localhost:8080/",
          "height": 34
        }
      },
      "source": [
        "accuracy_score(y_test, y_pred)"
      ],
      "execution_count": 0,
      "outputs": [
        {
          "output_type": "execute_result",
          "data": {
            "text/plain": [
              "0.817409144196952"
            ]
          },
          "metadata": {
            "tags": []
          },
          "execution_count": 76
        }
      ]
    },
    {
      "cell_type": "markdown",
      "metadata": {
        "id": "0SNGddLKiND3",
        "colab_type": "text"
      },
      "source": [
        "## CV"
      ]
    },
    {
      "cell_type": "code",
      "metadata": {
        "id": "SuXzO0m9iMYB",
        "colab_type": "code",
        "colab": {}
      },
      "source": [
        "from sklearn.model_selection import KFold\n",
        "\n",
        "def cv_new_distance(X, y, cat_features = [], num_features = [], alphas = [], ks = [], leafs=[]):\n",
        "\n",
        "    best_accuracy = 0\n",
        "    best_alpha = 0\n",
        "    best_k = 0\n",
        "    best_leaf = 0\n",
        "\n",
        "    for alpha in alphas:\n",
        "      for k in ks:\n",
        "        for leaf in leafs:\n",
        "          X_cat = X[cat_features]\n",
        "          X_num = X[num_features]\n",
        "          dist_matr = alpha * squareform(pdist(X_cat, metric = \"hamming\"))\n",
        "          dist_matr += squareform(pdist(X_num, metric = \"euclidean\"))\n",
        "          dist_matr = pd.DataFrame(dist_matr)\n",
        "\n",
        "          kf = KFold(n_splits=5, shuffle=True)\n",
        "          accs = []\n",
        "          for train_index, test_index in kf.split(dist_matr):\n",
        "            \n",
        "            X_train = dist_matr.iloc[train_index, train_index]\n",
        "            X_test = dist_matr.iloc[test_index, train_index]\n",
        "            y_train = y[train_index]\n",
        "            y_test = y[test_index]\n",
        "\n",
        "            neigh = KNeighborsClassifier(metric = 'precomputed', n_neighbors=k, n_jobs=-2, leaf_size=leaf)\n",
        "            neigh.fit(X_train, y_train.ravel())\n",
        "            y_pred = neigh.predict(X_test)\n",
        "\n",
        "            accs.append(accuracy_score(y_test, y_pred))\n",
        "          \n",
        "          avg_acc = np.mean(accs)\n",
        "          if (avg_acc > best_accuracy):\n",
        "            print(\"New best params found! alpha:{}, k:{}, leaf:{}, acc:{}\".format(alpha, k, leaf, avg_acc))\n",
        "            best_alpha = alpha\n",
        "            best_k = k\n",
        "            best_accuracy = avg_acc\n",
        "            best_leaf = leaf\n",
        "      \n",
        "    return best_accuracy, best_alpha, best_k, best_leaf\n"
      ],
      "execution_count": 0,
      "outputs": []
    },
    {
      "cell_type": "code",
      "metadata": {
        "colab_type": "code",
        "outputId": "82555c21-da15-42f3-a2b3-c5ca1970fab1",
        "id": "K7GzXh5Vva58",
        "colab": {
          "base_uri": "https://localhost:8080/",
          "height": 476
        }
      },
      "source": [
        "alphas = np.logspace(-10, -5, 50)\n",
        "ks = range(1, 10)\n",
        "leafs = range(10, 50)\n",
        "best_acc, best_alpha, best_k, best_leaf = cv_new_distance(X_train, y_train, categorical, non_categorical, alphas, ks, leafs)"
      ],
      "execution_count": 0,
      "outputs": [
        {
          "output_type": "stream",
          "text": [
            "New best params found! alpha:1e-10, k:1, leaf:10, acc:0.823420069701658\n",
            "New best params found! alpha:1e-10, k:1, leaf:11, acc:0.8239957074614115\n",
            "New best params found! alpha:1e-10, k:1, leaf:20, acc:0.8247191877516787\n",
            "New best params found! alpha:1e-10, k:1, leaf:47, acc:0.8264483931631947\n",
            "New best params found! alpha:1e-10, k:3, leaf:10, acc:0.8333815722985399\n",
            "New best params found! alpha:1e-10, k:3, leaf:18, acc:0.8335275394481171\n",
            "New best params found! alpha:1e-10, k:3, leaf:23, acc:0.83626913800199\n",
            "New best params found! alpha:5.179474679231202e-10, k:3, leaf:10, acc:0.8365591969202079\n"
          ],
          "name": "stdout"
        },
        {
          "output_type": "error",
          "ename": "KeyboardInterrupt",
          "evalue": "ignored",
          "traceback": [
            "\u001b[0;31m---------------------------------------------------------------------------\u001b[0m",
            "\u001b[0;31mKeyboardInterrupt\u001b[0m                         Traceback (most recent call last)",
            "\u001b[0;32m<ipython-input-107-81185c77109b>\u001b[0m in \u001b[0;36m<module>\u001b[0;34m()\u001b[0m\n\u001b[1;32m      2\u001b[0m \u001b[0mks\u001b[0m \u001b[0;34m=\u001b[0m \u001b[0mrange\u001b[0m\u001b[0;34m(\u001b[0m\u001b[0;36m1\u001b[0m\u001b[0;34m,\u001b[0m \u001b[0;36m10\u001b[0m\u001b[0;34m)\u001b[0m\u001b[0;34m\u001b[0m\u001b[0;34m\u001b[0m\u001b[0m\n\u001b[1;32m      3\u001b[0m \u001b[0mleafs\u001b[0m \u001b[0;34m=\u001b[0m \u001b[0mrange\u001b[0m\u001b[0;34m(\u001b[0m\u001b[0;36m10\u001b[0m\u001b[0;34m,\u001b[0m \u001b[0;36m50\u001b[0m\u001b[0;34m)\u001b[0m\u001b[0;34m\u001b[0m\u001b[0;34m\u001b[0m\u001b[0m\n\u001b[0;32m----> 4\u001b[0;31m \u001b[0mbest_acc\u001b[0m\u001b[0;34m,\u001b[0m \u001b[0mbest_alpha\u001b[0m\u001b[0;34m,\u001b[0m \u001b[0mbest_k\u001b[0m \u001b[0;34m=\u001b[0m \u001b[0mcv_new_distance\u001b[0m\u001b[0;34m(\u001b[0m\u001b[0mX_train\u001b[0m\u001b[0;34m,\u001b[0m \u001b[0my_train\u001b[0m\u001b[0;34m,\u001b[0m \u001b[0mcategorical\u001b[0m\u001b[0;34m,\u001b[0m \u001b[0mnon_categorical\u001b[0m\u001b[0;34m,\u001b[0m \u001b[0malphas\u001b[0m\u001b[0;34m,\u001b[0m \u001b[0mks\u001b[0m\u001b[0;34m,\u001b[0m \u001b[0mleafs\u001b[0m\u001b[0;34m)\u001b[0m\u001b[0;34m\u001b[0m\u001b[0;34m\u001b[0m\u001b[0m\n\u001b[0m",
            "\u001b[0;32m<ipython-input-106-85c3f7c591a2>\u001b[0m in \u001b[0;36mcv_new_distance\u001b[0;34m(X, y, cat_features, num_features, alphas, ks, leafs)\u001b[0m\n\u001b[1;32m     21\u001b[0m           \u001b[0;32mfor\u001b[0m \u001b[0mtrain_index\u001b[0m\u001b[0;34m,\u001b[0m \u001b[0mtest_index\u001b[0m \u001b[0;32min\u001b[0m \u001b[0mkf\u001b[0m\u001b[0;34m.\u001b[0m\u001b[0msplit\u001b[0m\u001b[0;34m(\u001b[0m\u001b[0mdist_matr\u001b[0m\u001b[0;34m)\u001b[0m\u001b[0;34m:\u001b[0m\u001b[0;34m\u001b[0m\u001b[0;34m\u001b[0m\u001b[0m\n\u001b[1;32m     22\u001b[0m \u001b[0;34m\u001b[0m\u001b[0m\n\u001b[0;32m---> 23\u001b[0;31m             \u001b[0mX_train\u001b[0m \u001b[0;34m=\u001b[0m \u001b[0mdist_matr\u001b[0m\u001b[0;34m.\u001b[0m\u001b[0miloc\u001b[0m\u001b[0;34m[\u001b[0m\u001b[0mtrain_index\u001b[0m\u001b[0;34m,\u001b[0m \u001b[0mtrain_index\u001b[0m\u001b[0;34m]\u001b[0m\u001b[0;34m\u001b[0m\u001b[0;34m\u001b[0m\u001b[0m\n\u001b[0m\u001b[1;32m     24\u001b[0m             \u001b[0mX_test\u001b[0m \u001b[0;34m=\u001b[0m \u001b[0mdist_matr\u001b[0m\u001b[0;34m.\u001b[0m\u001b[0miloc\u001b[0m\u001b[0;34m[\u001b[0m\u001b[0mtest_index\u001b[0m\u001b[0;34m,\u001b[0m \u001b[0mtrain_index\u001b[0m\u001b[0;34m]\u001b[0m\u001b[0;34m\u001b[0m\u001b[0;34m\u001b[0m\u001b[0m\n\u001b[1;32m     25\u001b[0m             \u001b[0my_train\u001b[0m \u001b[0;34m=\u001b[0m \u001b[0my\u001b[0m\u001b[0;34m[\u001b[0m\u001b[0mtrain_index\u001b[0m\u001b[0;34m]\u001b[0m\u001b[0;34m\u001b[0m\u001b[0;34m\u001b[0m\u001b[0m\n",
            "\u001b[0;32m/usr/local/lib/python3.6/dist-packages/pandas/core/indexing.py\u001b[0m in \u001b[0;36m__getitem__\u001b[0;34m(self, key)\u001b[0m\n\u001b[1;32m   1416\u001b[0m                 \u001b[0;32mexcept\u001b[0m \u001b[0;34m(\u001b[0m\u001b[0mKeyError\u001b[0m\u001b[0;34m,\u001b[0m \u001b[0mIndexError\u001b[0m\u001b[0;34m,\u001b[0m \u001b[0mAttributeError\u001b[0m\u001b[0;34m)\u001b[0m\u001b[0;34m:\u001b[0m\u001b[0;34m\u001b[0m\u001b[0;34m\u001b[0m\u001b[0m\n\u001b[1;32m   1417\u001b[0m                     \u001b[0;32mpass\u001b[0m\u001b[0;34m\u001b[0m\u001b[0;34m\u001b[0m\u001b[0m\n\u001b[0;32m-> 1418\u001b[0;31m             \u001b[0;32mreturn\u001b[0m \u001b[0mself\u001b[0m\u001b[0;34m.\u001b[0m\u001b[0m_getitem_tuple\u001b[0m\u001b[0;34m(\u001b[0m\u001b[0mkey\u001b[0m\u001b[0;34m)\u001b[0m\u001b[0;34m\u001b[0m\u001b[0;34m\u001b[0m\u001b[0m\n\u001b[0m\u001b[1;32m   1419\u001b[0m         \u001b[0;32melse\u001b[0m\u001b[0;34m:\u001b[0m\u001b[0;34m\u001b[0m\u001b[0;34m\u001b[0m\u001b[0m\n\u001b[1;32m   1420\u001b[0m             \u001b[0;31m# we by definition only have the 0th axis\u001b[0m\u001b[0;34m\u001b[0m\u001b[0;34m\u001b[0m\u001b[0;34m\u001b[0m\u001b[0m\n",
            "\u001b[0;32m/usr/local/lib/python3.6/dist-packages/pandas/core/indexing.py\u001b[0m in \u001b[0;36m_getitem_tuple\u001b[0;34m(self, tup)\u001b[0m\n\u001b[1;32m   2103\u001b[0m                 \u001b[0;32mcontinue\u001b[0m\u001b[0;34m\u001b[0m\u001b[0;34m\u001b[0m\u001b[0m\n\u001b[1;32m   2104\u001b[0m \u001b[0;34m\u001b[0m\u001b[0m\n\u001b[0;32m-> 2105\u001b[0;31m             \u001b[0mretval\u001b[0m \u001b[0;34m=\u001b[0m \u001b[0mgetattr\u001b[0m\u001b[0;34m(\u001b[0m\u001b[0mretval\u001b[0m\u001b[0;34m,\u001b[0m \u001b[0mself\u001b[0m\u001b[0;34m.\u001b[0m\u001b[0mname\u001b[0m\u001b[0;34m)\u001b[0m\u001b[0;34m.\u001b[0m\u001b[0m_getitem_axis\u001b[0m\u001b[0;34m(\u001b[0m\u001b[0mkey\u001b[0m\u001b[0;34m,\u001b[0m \u001b[0maxis\u001b[0m\u001b[0;34m=\u001b[0m\u001b[0maxis\u001b[0m\u001b[0;34m)\u001b[0m\u001b[0;34m\u001b[0m\u001b[0;34m\u001b[0m\u001b[0m\n\u001b[0m\u001b[1;32m   2106\u001b[0m \u001b[0;34m\u001b[0m\u001b[0m\n\u001b[1;32m   2107\u001b[0m             \u001b[0;31m# if the dim was reduced, then pass a lower-dim the next time\u001b[0m\u001b[0;34m\u001b[0m\u001b[0;34m\u001b[0m\u001b[0;34m\u001b[0m\u001b[0m\n",
            "\u001b[0;32m/usr/local/lib/python3.6/dist-packages/pandas/core/indexing.py\u001b[0m in \u001b[0;36m_getitem_axis\u001b[0;34m(self, key, axis)\u001b[0m\n\u001b[1;32m   2146\u001b[0m         \u001b[0;31m# a list of integers\u001b[0m\u001b[0;34m\u001b[0m\u001b[0;34m\u001b[0m\u001b[0;34m\u001b[0m\u001b[0m\n\u001b[1;32m   2147\u001b[0m         \u001b[0;32melif\u001b[0m \u001b[0mis_list_like_indexer\u001b[0m\u001b[0;34m(\u001b[0m\u001b[0mkey\u001b[0m\u001b[0;34m)\u001b[0m\u001b[0;34m:\u001b[0m\u001b[0;34m\u001b[0m\u001b[0;34m\u001b[0m\u001b[0m\n\u001b[0;32m-> 2148\u001b[0;31m             \u001b[0;32mreturn\u001b[0m \u001b[0mself\u001b[0m\u001b[0;34m.\u001b[0m\u001b[0m_get_list_axis\u001b[0m\u001b[0;34m(\u001b[0m\u001b[0mkey\u001b[0m\u001b[0;34m,\u001b[0m \u001b[0maxis\u001b[0m\u001b[0;34m=\u001b[0m\u001b[0maxis\u001b[0m\u001b[0;34m)\u001b[0m\u001b[0;34m\u001b[0m\u001b[0;34m\u001b[0m\u001b[0m\n\u001b[0m\u001b[1;32m   2149\u001b[0m \u001b[0;34m\u001b[0m\u001b[0m\n\u001b[1;32m   2150\u001b[0m         \u001b[0;31m# a single integer\u001b[0m\u001b[0;34m\u001b[0m\u001b[0;34m\u001b[0m\u001b[0;34m\u001b[0m\u001b[0m\n",
            "\u001b[0;32m/usr/local/lib/python3.6/dist-packages/pandas/core/indexing.py\u001b[0m in \u001b[0;36m_get_list_axis\u001b[0;34m(self, key, axis)\u001b[0m\n\u001b[1;32m   2128\u001b[0m         \"\"\"\n\u001b[1;32m   2129\u001b[0m         \u001b[0;32mtry\u001b[0m\u001b[0;34m:\u001b[0m\u001b[0;34m\u001b[0m\u001b[0;34m\u001b[0m\u001b[0m\n\u001b[0;32m-> 2130\u001b[0;31m             \u001b[0;32mreturn\u001b[0m \u001b[0mself\u001b[0m\u001b[0;34m.\u001b[0m\u001b[0mobj\u001b[0m\u001b[0;34m.\u001b[0m\u001b[0mtake\u001b[0m\u001b[0;34m(\u001b[0m\u001b[0mkey\u001b[0m\u001b[0;34m,\u001b[0m \u001b[0maxis\u001b[0m\u001b[0;34m=\u001b[0m\u001b[0maxis\u001b[0m\u001b[0;34m)\u001b[0m\u001b[0;34m\u001b[0m\u001b[0;34m\u001b[0m\u001b[0m\n\u001b[0m\u001b[1;32m   2131\u001b[0m         \u001b[0;32mexcept\u001b[0m \u001b[0mIndexError\u001b[0m\u001b[0;34m:\u001b[0m\u001b[0;34m\u001b[0m\u001b[0;34m\u001b[0m\u001b[0m\n\u001b[1;32m   2132\u001b[0m             \u001b[0;31m# re-raise with different error message\u001b[0m\u001b[0;34m\u001b[0m\u001b[0;34m\u001b[0m\u001b[0;34m\u001b[0m\u001b[0m\n",
            "\u001b[0;32m/usr/local/lib/python3.6/dist-packages/pandas/core/generic.py\u001b[0m in \u001b[0;36mtake\u001b[0;34m(self, indices, axis, is_copy, **kwargs)\u001b[0m\n\u001b[1;32m   3602\u001b[0m \u001b[0;34m\u001b[0m\u001b[0m\n\u001b[1;32m   3603\u001b[0m         new_data = self._data.take(\n\u001b[0;32m-> 3604\u001b[0;31m             \u001b[0mindices\u001b[0m\u001b[0;34m,\u001b[0m \u001b[0maxis\u001b[0m\u001b[0;34m=\u001b[0m\u001b[0mself\u001b[0m\u001b[0;34m.\u001b[0m\u001b[0m_get_block_manager_axis\u001b[0m\u001b[0;34m(\u001b[0m\u001b[0maxis\u001b[0m\u001b[0;34m)\u001b[0m\u001b[0;34m,\u001b[0m \u001b[0mverify\u001b[0m\u001b[0;34m=\u001b[0m\u001b[0;32mTrue\u001b[0m\u001b[0;34m\u001b[0m\u001b[0;34m\u001b[0m\u001b[0m\n\u001b[0m\u001b[1;32m   3605\u001b[0m         )\n\u001b[1;32m   3606\u001b[0m         \u001b[0mresult\u001b[0m \u001b[0;34m=\u001b[0m \u001b[0mself\u001b[0m\u001b[0;34m.\u001b[0m\u001b[0m_constructor\u001b[0m\u001b[0;34m(\u001b[0m\u001b[0mnew_data\u001b[0m\u001b[0;34m)\u001b[0m\u001b[0;34m.\u001b[0m\u001b[0m__finalize__\u001b[0m\u001b[0;34m(\u001b[0m\u001b[0mself\u001b[0m\u001b[0;34m)\u001b[0m\u001b[0;34m\u001b[0m\u001b[0;34m\u001b[0m\u001b[0m\n",
            "\u001b[0;32m/usr/local/lib/python3.6/dist-packages/pandas/core/internals/managers.py\u001b[0m in \u001b[0;36mtake\u001b[0;34m(self, indexer, axis, verify, convert)\u001b[0m\n\u001b[1;32m   1395\u001b[0m         \u001b[0mnew_labels\u001b[0m \u001b[0;34m=\u001b[0m \u001b[0mself\u001b[0m\u001b[0;34m.\u001b[0m\u001b[0maxes\u001b[0m\u001b[0;34m[\u001b[0m\u001b[0maxis\u001b[0m\u001b[0;34m]\u001b[0m\u001b[0;34m.\u001b[0m\u001b[0mtake\u001b[0m\u001b[0;34m(\u001b[0m\u001b[0mindexer\u001b[0m\u001b[0;34m)\u001b[0m\u001b[0;34m\u001b[0m\u001b[0;34m\u001b[0m\u001b[0m\n\u001b[1;32m   1396\u001b[0m         return self.reindex_indexer(\n\u001b[0;32m-> 1397\u001b[0;31m             \u001b[0mnew_axis\u001b[0m\u001b[0;34m=\u001b[0m\u001b[0mnew_labels\u001b[0m\u001b[0;34m,\u001b[0m \u001b[0mindexer\u001b[0m\u001b[0;34m=\u001b[0m\u001b[0mindexer\u001b[0m\u001b[0;34m,\u001b[0m \u001b[0maxis\u001b[0m\u001b[0;34m=\u001b[0m\u001b[0maxis\u001b[0m\u001b[0;34m,\u001b[0m \u001b[0mallow_dups\u001b[0m\u001b[0;34m=\u001b[0m\u001b[0;32mTrue\u001b[0m\u001b[0;34m\u001b[0m\u001b[0;34m\u001b[0m\u001b[0m\n\u001b[0m\u001b[1;32m   1398\u001b[0m         )\n\u001b[1;32m   1399\u001b[0m \u001b[0;34m\u001b[0m\u001b[0m\n",
            "\u001b[0;32m/usr/local/lib/python3.6/dist-packages/pandas/core/internals/managers.py\u001b[0m in \u001b[0;36mreindex_indexer\u001b[0;34m(self, new_axis, indexer, axis, fill_value, allow_dups, copy)\u001b[0m\n\u001b[1;32m   1265\u001b[0m                     ),\n\u001b[1;32m   1266\u001b[0m                 )\n\u001b[0;32m-> 1267\u001b[0;31m                 \u001b[0;32mfor\u001b[0m \u001b[0mblk\u001b[0m \u001b[0;32min\u001b[0m \u001b[0mself\u001b[0m\u001b[0;34m.\u001b[0m\u001b[0mblocks\u001b[0m\u001b[0;34m\u001b[0m\u001b[0;34m\u001b[0m\u001b[0m\n\u001b[0m\u001b[1;32m   1268\u001b[0m             ]\n\u001b[1;32m   1269\u001b[0m \u001b[0;34m\u001b[0m\u001b[0m\n",
            "\u001b[0;32m/usr/local/lib/python3.6/dist-packages/pandas/core/internals/managers.py\u001b[0m in \u001b[0;36m<listcomp>\u001b[0;34m(.0)\u001b[0m\n\u001b[1;32m   1265\u001b[0m                     ),\n\u001b[1;32m   1266\u001b[0m                 )\n\u001b[0;32m-> 1267\u001b[0;31m                 \u001b[0;32mfor\u001b[0m \u001b[0mblk\u001b[0m \u001b[0;32min\u001b[0m \u001b[0mself\u001b[0m\u001b[0;34m.\u001b[0m\u001b[0mblocks\u001b[0m\u001b[0;34m\u001b[0m\u001b[0;34m\u001b[0m\u001b[0m\n\u001b[0m\u001b[1;32m   1268\u001b[0m             ]\n\u001b[1;32m   1269\u001b[0m \u001b[0;34m\u001b[0m\u001b[0m\n",
            "\u001b[0;32m/usr/local/lib/python3.6/dist-packages/pandas/core/internals/blocks.py\u001b[0m in \u001b[0;36mtake_nd\u001b[0;34m(self, indexer, axis, new_mgr_locs, fill_tuple)\u001b[0m\n\u001b[1;32m   1311\u001b[0m \u001b[0;34m\u001b[0m\u001b[0m\n\u001b[1;32m   1312\u001b[0m         new_values = algos.take_nd(\n\u001b[0;32m-> 1313\u001b[0;31m             \u001b[0mvalues\u001b[0m\u001b[0;34m,\u001b[0m \u001b[0mindexer\u001b[0m\u001b[0;34m,\u001b[0m \u001b[0maxis\u001b[0m\u001b[0;34m=\u001b[0m\u001b[0maxis\u001b[0m\u001b[0;34m,\u001b[0m \u001b[0mallow_fill\u001b[0m\u001b[0;34m=\u001b[0m\u001b[0mallow_fill\u001b[0m\u001b[0;34m,\u001b[0m \u001b[0mfill_value\u001b[0m\u001b[0;34m=\u001b[0m\u001b[0mfill_value\u001b[0m\u001b[0;34m\u001b[0m\u001b[0;34m\u001b[0m\u001b[0m\n\u001b[0m\u001b[1;32m   1314\u001b[0m         )\n\u001b[1;32m   1315\u001b[0m \u001b[0;34m\u001b[0m\u001b[0m\n",
            "\u001b[0;32m/usr/local/lib/python3.6/dist-packages/pandas/core/algorithms.py\u001b[0m in \u001b[0;36mtake_nd\u001b[0;34m(arr, indexer, axis, out, fill_value, mask_info, allow_fill)\u001b[0m\n\u001b[1;32m   1719\u001b[0m         \u001b[0marr\u001b[0m\u001b[0;34m.\u001b[0m\u001b[0mndim\u001b[0m\u001b[0;34m,\u001b[0m \u001b[0marr\u001b[0m\u001b[0;34m.\u001b[0m\u001b[0mdtype\u001b[0m\u001b[0;34m,\u001b[0m \u001b[0mout\u001b[0m\u001b[0;34m.\u001b[0m\u001b[0mdtype\u001b[0m\u001b[0;34m,\u001b[0m \u001b[0maxis\u001b[0m\u001b[0;34m=\u001b[0m\u001b[0maxis\u001b[0m\u001b[0;34m,\u001b[0m \u001b[0mmask_info\u001b[0m\u001b[0;34m=\u001b[0m\u001b[0mmask_info\u001b[0m\u001b[0;34m\u001b[0m\u001b[0;34m\u001b[0m\u001b[0m\n\u001b[1;32m   1720\u001b[0m     )\n\u001b[0;32m-> 1721\u001b[0;31m     \u001b[0mfunc\u001b[0m\u001b[0;34m(\u001b[0m\u001b[0marr\u001b[0m\u001b[0;34m,\u001b[0m \u001b[0mindexer\u001b[0m\u001b[0;34m,\u001b[0m \u001b[0mout\u001b[0m\u001b[0;34m,\u001b[0m \u001b[0mfill_value\u001b[0m\u001b[0;34m)\u001b[0m\u001b[0;34m\u001b[0m\u001b[0;34m\u001b[0m\u001b[0m\n\u001b[0m\u001b[1;32m   1722\u001b[0m \u001b[0;34m\u001b[0m\u001b[0m\n\u001b[1;32m   1723\u001b[0m     \u001b[0;32mif\u001b[0m \u001b[0mflip_order\u001b[0m\u001b[0;34m:\u001b[0m\u001b[0;34m\u001b[0m\u001b[0;34m\u001b[0m\u001b[0m\n",
            "\u001b[0;31mKeyboardInterrupt\u001b[0m: "
          ]
        }
      ]
    },
    {
      "cell_type": "markdown",
      "metadata": {
        "id": "dze_cpLgoTlj",
        "colab_type": "text"
      },
      "source": [
        "# Second test"
      ]
    },
    {
      "cell_type": "code",
      "metadata": {
        "id": "CoidnMBf-dlf",
        "colab_type": "code",
        "colab": {}
      },
      "source": [
        "best_alpha = 5.179474679231202e-10"
      ],
      "execution_count": 0,
      "outputs": []
    },
    {
      "cell_type": "code",
      "metadata": {
        "id": "JzL1JE9na1_W",
        "colab_type": "code",
        "colab": {}
      },
      "source": [
        "best_k = 3"
      ],
      "execution_count": 0,
      "outputs": []
    },
    {
      "cell_type": "code",
      "metadata": {
        "id": "TUveZXTa-sOy",
        "colab_type": "code",
        "colab": {}
      },
      "source": [
        "best_leaf = 10"
      ],
      "execution_count": 0,
      "outputs": []
    },
    {
      "cell_type": "code",
      "metadata": {
        "id": "s4Y5wnDT-64i",
        "colab_type": "code",
        "colab": {}
      },
      "source": [
        "len_X_train = len(X_train)\n",
        "X_train_new, X_test_new = new_distance_matrix(X_try, len_X_train, categorical,non_categorical, alpha = best_alpha)\n",
        "neigh = KNeighborsClassifier(metric = 'precomputed', n_neighbors=best_k)\n",
        "neigh.fit(X_train_new, y_train.ravel())\n",
        "y_pred = neigh.predict(X_test_new)"
      ],
      "execution_count": 0,
      "outputs": []
    },
    {
      "cell_type": "code",
      "metadata": {
        "id": "hdOwZ_Yr_Jhz",
        "colab_type": "code",
        "outputId": "7210190e-7515-4dc1-ab62-d31250c13049",
        "colab": {
          "base_uri": "https://localhost:8080/",
          "height": 34
        }
      },
      "source": [
        "accuracy_score(y_test, y_pred)"
      ],
      "execution_count": 0,
      "outputs": [
        {
          "output_type": "execute_result",
          "data": {
            "text/plain": [
              "0.8490621336459554"
            ]
          },
          "metadata": {
            "tags": []
          },
          "execution_count": 112
        }
      ]
    },
    {
      "cell_type": "markdown",
      "metadata": {
        "id": "bgq235cZuuDc",
        "colab_type": "text"
      },
      "source": [
        "# First test"
      ]
    },
    {
      "cell_type": "code",
      "metadata": {
        "id": "qdqhKzujYvrj",
        "colab_type": "code",
        "outputId": "5a5777bc-2255-468e-d4a4-c3dc9d2b9bff",
        "colab": {
          "base_uri": "https://localhost:8080/",
          "height": 85
        }
      },
      "source": [
        "# alphas = np.logspace(-8, 0, 20)\n",
        "# ks = range(1, 21)\n",
        "# best_acc, best_alpha, best_k = cv_new_distance(X_train, y_train, categorical, non_categorical, alphas, ks)"
      ],
      "execution_count": 0,
      "outputs": [
        {
          "output_type": "stream",
          "text": [
            "New best params found! alpha:1e-08, k:1, acc:0.8202408822625429\n",
            "New best params found! alpha:1e-08, k:3, acc:0.829771255619631\n",
            "New best params found! alpha:2.6366508987303555e-08, k:3, acc:0.8329494011804481\n",
            "New best params found! alpha:1.8329807108324375e-07, k:3, acc:0.8332371679664099\n"
          ],
          "name": "stdout"
        }
      ]
    },
    {
      "cell_type": "code",
      "metadata": {
        "id": "gPuH9lzAuSMf",
        "colab_type": "code",
        "colab": {}
      },
      "source": [
        "len_X_train = len(X_train)\n",
        "X_train_new, X_test_new = new_distance_matrix(X_try, len_X_train, categorical,non_categorical, alpha = best_alpha)\n",
        "neigh = KNeighborsClassifier(metric = 'precomputed', n_neighbors=best_k)\n",
        "neigh.fit(X_train_new, y_train.ravel())\n",
        "y_pred = neigh.predict(X_test_new)"
      ],
      "execution_count": 0,
      "outputs": []
    },
    {
      "cell_type": "code",
      "metadata": {
        "id": "IKrOOxUbug3l",
        "colab_type": "code",
        "outputId": "c7a53ca0-3f69-425f-89c0-8c4e7f3c984c",
        "colab": {
          "base_uri": "https://localhost:8080/",
          "height": 34
        }
      },
      "source": [
        "accuracy_score(y_test, y_pred)"
      ],
      "execution_count": 0,
      "outputs": [
        {
          "output_type": "execute_result",
          "data": {
            "text/plain": [
              "0.8490621336459554"
            ]
          },
          "metadata": {
            "tags": []
          },
          "execution_count": 100
        }
      ]
    }
  ]
}