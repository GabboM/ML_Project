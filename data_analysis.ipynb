{
 "cells": [
  {
   "cell_type": "code",
   "execution_count": 20,
   "metadata": {},
   "outputs": [],
   "source": [
    "import pandas as pd\n",
    "import numpy as np"
   ]
  },
  {
   "cell_type": "markdown",
   "metadata": {},
   "source": [
    "## Loading initial datasets and filtering"
   ]
  },
  {
   "cell_type": "code",
   "execution_count": 126,
   "metadata": {},
   "outputs": [
    {
     "data": {
      "text/html": [
       "<div>\n",
       "<style scoped>\n",
       "    .dataframe tbody tr th:only-of-type {\n",
       "        vertical-align: middle;\n",
       "    }\n",
       "\n",
       "    .dataframe tbody tr th {\n",
       "        vertical-align: top;\n",
       "    }\n",
       "\n",
       "    .dataframe thead th {\n",
       "        text-align: right;\n",
       "    }\n",
       "</style>\n",
       "<table border=\"1\" class=\"dataframe\">\n",
       "  <thead>\n",
       "    <tr style=\"text-align: right;\">\n",
       "      <th></th>\n",
       "      <th>result_id</th>\n",
       "      <th>test_id</th>\n",
       "      <th>sample_size_mean_op</th>\n",
       "      <th>sample_size_mean</th>\n",
       "      <th>sample_size_min_op</th>\n",
       "      <th>sample_size_min</th>\n",
       "      <th>sample_size_max_op</th>\n",
       "      <th>sample_size_max</th>\n",
       "      <th>sample_size_unit</th>\n",
       "      <th>sample_size_comments</th>\n",
       "      <th>...</th>\n",
       "      <th>dry_wet_pct_min</th>\n",
       "      <th>dry_wet_pct_max_op</th>\n",
       "      <th>dry_wet_pct_max</th>\n",
       "      <th>dry_wet_pct_comments</th>\n",
       "      <th>steady_state</th>\n",
       "      <th>additional_comments</th>\n",
       "      <th>companion_tag</th>\n",
       "      <th>created_date</th>\n",
       "      <th>modified_date</th>\n",
       "      <th>old_terretox_result_number</th>\n",
       "    </tr>\n",
       "  </thead>\n",
       "  <tbody>\n",
       "    <tr>\n",
       "      <td>0</td>\n",
       "      <td>61358</td>\n",
       "      <td>1108761</td>\n",
       "      <td>NaN</td>\n",
       "      <td>NC</td>\n",
       "      <td>NaN</td>\n",
       "      <td>NC</td>\n",
       "      <td>NaN</td>\n",
       "      <td>NC</td>\n",
       "      <td>NC</td>\n",
       "      <td>NaN</td>\n",
       "      <td>...</td>\n",
       "      <td>NC</td>\n",
       "      <td>NaN</td>\n",
       "      <td>NC</td>\n",
       "      <td>NaN</td>\n",
       "      <td>NC</td>\n",
       "      <td></td>\n",
       "      <td>NaN</td>\n",
       "      <td>01/31/1985</td>\n",
       "      <td>02/21/1995</td>\n",
       "      <td>NaN</td>\n",
       "    </tr>\n",
       "    <tr>\n",
       "      <td>1</td>\n",
       "      <td>136246</td>\n",
       "      <td>1165989</td>\n",
       "      <td>NaN</td>\n",
       "      <td>NC</td>\n",
       "      <td>NaN</td>\n",
       "      <td>NC</td>\n",
       "      <td>NaN</td>\n",
       "      <td>NC</td>\n",
       "      <td>NC</td>\n",
       "      <td>NaN</td>\n",
       "      <td>...</td>\n",
       "      <td>NC</td>\n",
       "      <td>NaN</td>\n",
       "      <td>NC</td>\n",
       "      <td>NaN</td>\n",
       "      <td>NC</td>\n",
       "      <td></td>\n",
       "      <td>NaN</td>\n",
       "      <td>04/19/1996</td>\n",
       "      <td>NaN</td>\n",
       "      <td>NaN</td>\n",
       "    </tr>\n",
       "    <tr>\n",
       "      <td>2</td>\n",
       "      <td>223703</td>\n",
       "      <td>1097736</td>\n",
       "      <td>NaN</td>\n",
       "      <td>NC</td>\n",
       "      <td>NaN</td>\n",
       "      <td>NC</td>\n",
       "      <td>NaN</td>\n",
       "      <td>NC</td>\n",
       "      <td>NC</td>\n",
       "      <td>NaN</td>\n",
       "      <td>...</td>\n",
       "      <td>NC</td>\n",
       "      <td>NaN</td>\n",
       "      <td>NC</td>\n",
       "      <td>NaN</td>\n",
       "      <td>NC</td>\n",
       "      <td></td>\n",
       "      <td>NaN</td>\n",
       "      <td>10/02/2003</td>\n",
       "      <td>NaN</td>\n",
       "      <td>NaN</td>\n",
       "    </tr>\n",
       "    <tr>\n",
       "      <td>3</td>\n",
       "      <td>151106</td>\n",
       "      <td>1187635</td>\n",
       "      <td>NaN</td>\n",
       "      <td>NC</td>\n",
       "      <td>NaN</td>\n",
       "      <td>NC</td>\n",
       "      <td>NaN</td>\n",
       "      <td>NC</td>\n",
       "      <td>NC</td>\n",
       "      <td>NaN</td>\n",
       "      <td>...</td>\n",
       "      <td>NC</td>\n",
       "      <td>NaN</td>\n",
       "      <td>NC</td>\n",
       "      <td>NaN</td>\n",
       "      <td>NC</td>\n",
       "      <td></td>\n",
       "      <td>NaN</td>\n",
       "      <td>10/10/1997</td>\n",
       "      <td>NaN</td>\n",
       "      <td>NaN</td>\n",
       "    </tr>\n",
       "    <tr>\n",
       "      <td>4</td>\n",
       "      <td>53559</td>\n",
       "      <td>1012894</td>\n",
       "      <td>NaN</td>\n",
       "      <td>NC</td>\n",
       "      <td>NaN</td>\n",
       "      <td>NC</td>\n",
       "      <td>NaN</td>\n",
       "      <td>NC</td>\n",
       "      <td>NC</td>\n",
       "      <td>NaN</td>\n",
       "      <td>...</td>\n",
       "      <td>NC</td>\n",
       "      <td>NaN</td>\n",
       "      <td>NC</td>\n",
       "      <td>NaN</td>\n",
       "      <td>NC</td>\n",
       "      <td></td>\n",
       "      <td>NaN</td>\n",
       "      <td>11/21/1995</td>\n",
       "      <td>NaN</td>\n",
       "      <td>NaN</td>\n",
       "    </tr>\n",
       "  </tbody>\n",
       "</table>\n",
       "<p>5 rows × 137 columns</p>\n",
       "</div>"
      ],
      "text/plain": [
       "   result_id  test_id sample_size_mean_op sample_size_mean  \\\n",
       "0      61358  1108761                 NaN               NC   \n",
       "1     136246  1165989                 NaN               NC   \n",
       "2     223703  1097736                 NaN               NC   \n",
       "3     151106  1187635                 NaN               NC   \n",
       "4      53559  1012894                 NaN               NC   \n",
       "\n",
       "   sample_size_min_op sample_size_min  sample_size_max_op sample_size_max  \\\n",
       "0                 NaN              NC                 NaN              NC   \n",
       "1                 NaN              NC                 NaN              NC   \n",
       "2                 NaN              NC                 NaN              NC   \n",
       "3                 NaN              NC                 NaN              NC   \n",
       "4                 NaN              NC                 NaN              NC   \n",
       "\n",
       "  sample_size_unit sample_size_comments  ... dry_wet_pct_min  \\\n",
       "0               NC                  NaN  ...              NC   \n",
       "1               NC                  NaN  ...              NC   \n",
       "2               NC                  NaN  ...              NC   \n",
       "3               NC                  NaN  ...              NC   \n",
       "4               NC                  NaN  ...              NC   \n",
       "\n",
       "  dry_wet_pct_max_op dry_wet_pct_max dry_wet_pct_comments steady_state  \\\n",
       "0                NaN              NC                  NaN           NC   \n",
       "1                NaN              NC                  NaN           NC   \n",
       "2                NaN              NC                  NaN           NC   \n",
       "3                NaN              NC                  NaN           NC   \n",
       "4                NaN              NC                  NaN           NC   \n",
       "\n",
       "  additional_comments companion_tag created_date modified_date  \\\n",
       "0                               NaN   01/31/1985    02/21/1995   \n",
       "1                               NaN   04/19/1996           NaN   \n",
       "2                               NaN   10/02/2003           NaN   \n",
       "3                               NaN   10/10/1997           NaN   \n",
       "4                               NaN   11/21/1995           NaN   \n",
       "\n",
       "  old_terretox_result_number  \n",
       "0                        NaN  \n",
       "1                        NaN  \n",
       "2                        NaN  \n",
       "3                        NaN  \n",
       "4                        NaN  \n",
       "\n",
       "[5 rows x 137 columns]"
      ]
     },
     "execution_count": 126,
     "metadata": {},
     "output_type": "execute_result"
    }
   ],
   "source": [
    "results = pd.read_csv('data/ecotox/results.txt',sep='\\|', engine='python')\n",
    "results.head()"
   ]
  },
  {
   "cell_type": "code",
   "execution_count": 127,
   "metadata": {},
   "outputs": [
    {
     "data": {
      "text/html": [
       "<div>\n",
       "<style scoped>\n",
       "    .dataframe tbody tr th:only-of-type {\n",
       "        vertical-align: middle;\n",
       "    }\n",
       "\n",
       "    .dataframe tbody tr th {\n",
       "        vertical-align: top;\n",
       "    }\n",
       "\n",
       "    .dataframe thead th {\n",
       "        text-align: right;\n",
       "    }\n",
       "</style>\n",
       "<table border=\"1\" class=\"dataframe\">\n",
       "  <thead>\n",
       "    <tr style=\"text-align: right;\">\n",
       "      <th></th>\n",
       "      <th>test_id</th>\n",
       "      <th>reference_number</th>\n",
       "      <th>test_cas</th>\n",
       "      <th>test_grade</th>\n",
       "      <th>test_grade_comments</th>\n",
       "      <th>test_formulation</th>\n",
       "      <th>test_formulation_comments</th>\n",
       "      <th>test_radiolabel</th>\n",
       "      <th>test_radiolabel_comments</th>\n",
       "      <th>test_purity_mean_op</th>\n",
       "      <th>...</th>\n",
       "      <th>halflife_min_op</th>\n",
       "      <th>halflife_min</th>\n",
       "      <th>halflife_max_op</th>\n",
       "      <th>halflife_max</th>\n",
       "      <th>halflife_unit</th>\n",
       "      <th>halflife_comments</th>\n",
       "      <th>additional_comments</th>\n",
       "      <th>created_date</th>\n",
       "      <th>modified_date</th>\n",
       "      <th>published_date</th>\n",
       "    </tr>\n",
       "  </thead>\n",
       "  <tbody>\n",
       "    <tr>\n",
       "      <td>0</td>\n",
       "      <td>1</td>\n",
       "      <td>35000</td>\n",
       "      <td>1336363</td>\n",
       "      <td>R</td>\n",
       "      <td>NaN</td>\n",
       "      <td>NR</td>\n",
       "      <td>NaN</td>\n",
       "      <td>NR</td>\n",
       "      <td>NaN</td>\n",
       "      <td>NaN</td>\n",
       "      <td>...</td>\n",
       "      <td>NaN</td>\n",
       "      <td>NC</td>\n",
       "      <td>NaN</td>\n",
       "      <td>NC</td>\n",
       "      <td>NC</td>\n",
       "      <td>NaN</td>\n",
       "      <td></td>\n",
       "      <td>01/28/1998</td>\n",
       "      <td>07/20/2012</td>\n",
       "      <td>09/14/2012</td>\n",
       "    </tr>\n",
       "    <tr>\n",
       "      <td>1</td>\n",
       "      <td>2</td>\n",
       "      <td>35000</td>\n",
       "      <td>1336363</td>\n",
       "      <td>R</td>\n",
       "      <td>NaN</td>\n",
       "      <td>NR</td>\n",
       "      <td>NaN</td>\n",
       "      <td>NR</td>\n",
       "      <td>NaN</td>\n",
       "      <td>NaN</td>\n",
       "      <td>...</td>\n",
       "      <td>NaN</td>\n",
       "      <td>NC</td>\n",
       "      <td>NaN</td>\n",
       "      <td>NC</td>\n",
       "      <td>NC</td>\n",
       "      <td>NaN</td>\n",
       "      <td></td>\n",
       "      <td>01/28/1998</td>\n",
       "      <td>07/20/2012</td>\n",
       "      <td>09/14/2012</td>\n",
       "    </tr>\n",
       "    <tr>\n",
       "      <td>2</td>\n",
       "      <td>3</td>\n",
       "      <td>35001</td>\n",
       "      <td>2385855</td>\n",
       "      <td>NR</td>\n",
       "      <td>NaN</td>\n",
       "      <td>NR</td>\n",
       "      <td>NaN</td>\n",
       "      <td>NR</td>\n",
       "      <td>NaN</td>\n",
       "      <td>NaN</td>\n",
       "      <td>...</td>\n",
       "      <td>NaN</td>\n",
       "      <td>NC</td>\n",
       "      <td>NaN</td>\n",
       "      <td>NC</td>\n",
       "      <td>NC</td>\n",
       "      <td>NaN</td>\n",
       "      <td></td>\n",
       "      <td>01/28/1998</td>\n",
       "      <td>07/20/2012</td>\n",
       "      <td>09/14/2012</td>\n",
       "    </tr>\n",
       "    <tr>\n",
       "      <td>3</td>\n",
       "      <td>4</td>\n",
       "      <td>35002</td>\n",
       "      <td>7631994</td>\n",
       "      <td>NR</td>\n",
       "      <td>NaN</td>\n",
       "      <td>NR</td>\n",
       "      <td>NaN</td>\n",
       "      <td>NR</td>\n",
       "      <td>NaN</td>\n",
       "      <td>NaN</td>\n",
       "      <td>...</td>\n",
       "      <td>NaN</td>\n",
       "      <td>NC</td>\n",
       "      <td>NaN</td>\n",
       "      <td>NC</td>\n",
       "      <td>NC</td>\n",
       "      <td>NaN</td>\n",
       "      <td></td>\n",
       "      <td>01/28/1998</td>\n",
       "      <td>07/20/2012</td>\n",
       "      <td>09/14/2012</td>\n",
       "    </tr>\n",
       "    <tr>\n",
       "      <td>4</td>\n",
       "      <td>5</td>\n",
       "      <td>35002</td>\n",
       "      <td>7631994</td>\n",
       "      <td>NR</td>\n",
       "      <td>NaN</td>\n",
       "      <td>NR</td>\n",
       "      <td>NaN</td>\n",
       "      <td>NR</td>\n",
       "      <td>NaN</td>\n",
       "      <td>NaN</td>\n",
       "      <td>...</td>\n",
       "      <td>NaN</td>\n",
       "      <td>NC</td>\n",
       "      <td>NaN</td>\n",
       "      <td>NC</td>\n",
       "      <td>NC</td>\n",
       "      <td>NaN</td>\n",
       "      <td></td>\n",
       "      <td>01/28/1998</td>\n",
       "      <td>07/20/2012</td>\n",
       "      <td>09/14/2012</td>\n",
       "    </tr>\n",
       "  </tbody>\n",
       "</table>\n",
       "<p>5 rows × 122 columns</p>\n",
       "</div>"
      ],
      "text/plain": [
       "   test_id  reference_number  test_cas test_grade test_grade_comments  \\\n",
       "0        1             35000   1336363          R                 NaN   \n",
       "1        2             35000   1336363          R                 NaN   \n",
       "2        3             35001   2385855         NR                 NaN   \n",
       "3        4             35002   7631994         NR                 NaN   \n",
       "4        5             35002   7631994         NR                 NaN   \n",
       "\n",
       "  test_formulation test_formulation_comments test_radiolabel  \\\n",
       "0               NR                       NaN              NR   \n",
       "1               NR                       NaN              NR   \n",
       "2               NR                       NaN              NR   \n",
       "3               NR                       NaN              NR   \n",
       "4               NR                       NaN              NR   \n",
       "\n",
       "  test_radiolabel_comments test_purity_mean_op  ... halflife_min_op  \\\n",
       "0                      NaN                 NaN  ...             NaN   \n",
       "1                      NaN                 NaN  ...             NaN   \n",
       "2                      NaN                 NaN  ...             NaN   \n",
       "3                      NaN                 NaN  ...             NaN   \n",
       "4                      NaN                 NaN  ...             NaN   \n",
       "\n",
       "  halflife_min halflife_max_op halflife_max halflife_unit halflife_comments  \\\n",
       "0           NC             NaN           NC            NC               NaN   \n",
       "1           NC             NaN           NC            NC               NaN   \n",
       "2           NC             NaN           NC            NC               NaN   \n",
       "3           NC             NaN           NC            NC               NaN   \n",
       "4           NC             NaN           NC            NC               NaN   \n",
       "\n",
       "  additional_comments  created_date modified_date published_date  \n",
       "0                        01/28/1998    07/20/2012     09/14/2012  \n",
       "1                        01/28/1998    07/20/2012     09/14/2012  \n",
       "2                        01/28/1998    07/20/2012     09/14/2012  \n",
       "3                        01/28/1998    07/20/2012     09/14/2012  \n",
       "4                        01/28/1998    07/20/2012     09/14/2012  \n",
       "\n",
       "[5 rows x 122 columns]"
      ]
     },
     "execution_count": 127,
     "metadata": {},
     "output_type": "execute_result"
    }
   ],
   "source": [
    "test = pd.read_csv('data/ecotox/tests.txt',sep='\\|', engine='python')\n",
    "test.head()"
   ]
  },
  {
   "cell_type": "code",
   "execution_count": 128,
   "metadata": {},
   "outputs": [
    {
     "data": {
      "text/html": [
       "<div>\n",
       "<style scoped>\n",
       "    .dataframe tbody tr th:only-of-type {\n",
       "        vertical-align: middle;\n",
       "    }\n",
       "\n",
       "    .dataframe tbody tr th {\n",
       "        vertical-align: top;\n",
       "    }\n",
       "\n",
       "    .dataframe thead th {\n",
       "        text-align: right;\n",
       "    }\n",
       "</style>\n",
       "<table border=\"1\" class=\"dataframe\">\n",
       "  <thead>\n",
       "    <tr style=\"text-align: right;\">\n",
       "      <th></th>\n",
       "      <th>species_number</th>\n",
       "      <th>common_name</th>\n",
       "      <th>latin_name</th>\n",
       "      <th>kingdom</th>\n",
       "      <th>phylum_division</th>\n",
       "      <th>subphylum_div</th>\n",
       "      <th>superclass</th>\n",
       "      <th>class</th>\n",
       "      <th>tax_order</th>\n",
       "      <th>family</th>\n",
       "      <th>genus</th>\n",
       "      <th>species</th>\n",
       "      <th>subspecies</th>\n",
       "      <th>variety</th>\n",
       "      <th>ecotox_group</th>\n",
       "    </tr>\n",
       "  </thead>\n",
       "  <tbody>\n",
       "    <tr>\n",
       "      <td>0</td>\n",
       "      <td>1</td>\n",
       "      <td>Fathead Minnow</td>\n",
       "      <td>Pimephales promelas</td>\n",
       "      <td>Animalia</td>\n",
       "      <td>Chordata</td>\n",
       "      <td>Vertebrata</td>\n",
       "      <td>Osteichthyes</td>\n",
       "      <td>Actinopterygii</td>\n",
       "      <td>Cypriniformes</td>\n",
       "      <td>Cyprinidae</td>\n",
       "      <td>Pimephales</td>\n",
       "      <td>promelas</td>\n",
       "      <td>NaN</td>\n",
       "      <td>NaN</td>\n",
       "      <td>Fish,Standard Test Species</td>\n",
       "    </tr>\n",
       "    <tr>\n",
       "      <td>1</td>\n",
       "      <td>2</td>\n",
       "      <td>Bluegill</td>\n",
       "      <td>Lepomis macrochirus</td>\n",
       "      <td>Animalia</td>\n",
       "      <td>Chordata</td>\n",
       "      <td>Vertebrata</td>\n",
       "      <td>Osteichthyes</td>\n",
       "      <td>Actinopterygii</td>\n",
       "      <td>Perciformes</td>\n",
       "      <td>Centrarchidae</td>\n",
       "      <td>Lepomis</td>\n",
       "      <td>macrochirus</td>\n",
       "      <td>NaN</td>\n",
       "      <td>NaN</td>\n",
       "      <td>Fish,Standard Test Species</td>\n",
       "    </tr>\n",
       "    <tr>\n",
       "      <td>2</td>\n",
       "      <td>3</td>\n",
       "      <td>Brook Trout</td>\n",
       "      <td>Salvelinus fontinalis</td>\n",
       "      <td>Animalia</td>\n",
       "      <td>Chordata</td>\n",
       "      <td>Vertebrata</td>\n",
       "      <td>Osteichthyes</td>\n",
       "      <td>Actinopterygii</td>\n",
       "      <td>Salmoniformes</td>\n",
       "      <td>Salmonidae</td>\n",
       "      <td>Salvelinus</td>\n",
       "      <td>fontinalis</td>\n",
       "      <td>NaN</td>\n",
       "      <td>NaN</td>\n",
       "      <td>Fish,Standard Test Species</td>\n",
       "    </tr>\n",
       "    <tr>\n",
       "      <td>3</td>\n",
       "      <td>4</td>\n",
       "      <td>Rainbow Trout</td>\n",
       "      <td>Oncorhynchus mykiss</td>\n",
       "      <td>Animalia</td>\n",
       "      <td>Chordata</td>\n",
       "      <td>Vertebrata</td>\n",
       "      <td>Osteichthyes</td>\n",
       "      <td>Actinopterygii</td>\n",
       "      <td>Salmoniformes</td>\n",
       "      <td>Salmonidae</td>\n",
       "      <td>Oncorhynchus</td>\n",
       "      <td>mykiss</td>\n",
       "      <td>NaN</td>\n",
       "      <td>NaN</td>\n",
       "      <td>Fish,Standard Test Species,U.S. Exotic/Nuisanc...</td>\n",
       "    </tr>\n",
       "    <tr>\n",
       "      <td>4</td>\n",
       "      <td>5</td>\n",
       "      <td>Water Flea</td>\n",
       "      <td>Daphnia magna</td>\n",
       "      <td>Animalia</td>\n",
       "      <td>Arthropoda</td>\n",
       "      <td>Crustacea</td>\n",
       "      <td>NaN</td>\n",
       "      <td>Branchiopoda</td>\n",
       "      <td>Diplostraca</td>\n",
       "      <td>Daphniidae</td>\n",
       "      <td>Daphnia</td>\n",
       "      <td>magna</td>\n",
       "      <td>NaN</td>\n",
       "      <td>NaN</td>\n",
       "      <td>Crustaceans,Standard Test Species</td>\n",
       "    </tr>\n",
       "  </tbody>\n",
       "</table>\n",
       "</div>"
      ],
      "text/plain": [
       "   species_number     common_name             latin_name   kingdom  \\\n",
       "0               1  Fathead Minnow    Pimephales promelas  Animalia   \n",
       "1               2        Bluegill    Lepomis macrochirus  Animalia   \n",
       "2               3     Brook Trout  Salvelinus fontinalis  Animalia   \n",
       "3               4   Rainbow Trout    Oncorhynchus mykiss  Animalia   \n",
       "4               5      Water Flea          Daphnia magna  Animalia   \n",
       "\n",
       "  phylum_division subphylum_div    superclass           class      tax_order  \\\n",
       "0        Chordata    Vertebrata  Osteichthyes  Actinopterygii  Cypriniformes   \n",
       "1        Chordata    Vertebrata  Osteichthyes  Actinopterygii    Perciformes   \n",
       "2        Chordata    Vertebrata  Osteichthyes  Actinopterygii  Salmoniformes   \n",
       "3        Chordata    Vertebrata  Osteichthyes  Actinopterygii  Salmoniformes   \n",
       "4      Arthropoda     Crustacea           NaN    Branchiopoda    Diplostraca   \n",
       "\n",
       "          family         genus      species subspecies variety  \\\n",
       "0     Cyprinidae    Pimephales     promelas        NaN     NaN   \n",
       "1  Centrarchidae       Lepomis  macrochirus        NaN     NaN   \n",
       "2     Salmonidae    Salvelinus   fontinalis        NaN     NaN   \n",
       "3     Salmonidae  Oncorhynchus       mykiss        NaN     NaN   \n",
       "4     Daphniidae       Daphnia        magna        NaN     NaN   \n",
       "\n",
       "                                        ecotox_group  \n",
       "0                         Fish,Standard Test Species  \n",
       "1                         Fish,Standard Test Species  \n",
       "2                         Fish,Standard Test Species  \n",
       "3  Fish,Standard Test Species,U.S. Exotic/Nuisanc...  \n",
       "4                  Crustaceans,Standard Test Species  "
      ]
     },
     "execution_count": 128,
     "metadata": {},
     "output_type": "execute_result"
    }
   ],
   "source": [
    "species = pd.read_csv('data/ecotox/validation/species.txt',sep='\\|', engine='python')\n",
    "species.head()"
   ]
  },
  {
   "cell_type": "markdown",
   "metadata": {},
   "source": [
    "**Prefilter**\n",
    "Considering only:\n",
    "- Endpoint LC50 or EC50 (Mortality at 50%)\n",
    "- No embrions (Code EM)\n",
    "- Group Fish"
   ]
  },
  {
   "cell_type": "code",
   "execution_count": 130,
   "metadata": {},
   "outputs": [
    {
     "data": {
      "text/html": [
       "<div>\n",
       "<style scoped>\n",
       "    .dataframe tbody tr th:only-of-type {\n",
       "        vertical-align: middle;\n",
       "    }\n",
       "\n",
       "    .dataframe tbody tr th {\n",
       "        vertical-align: top;\n",
       "    }\n",
       "\n",
       "    .dataframe thead th {\n",
       "        text-align: right;\n",
       "    }\n",
       "</style>\n",
       "<table border=\"1\" class=\"dataframe\">\n",
       "  <thead>\n",
       "    <tr style=\"text-align: right;\">\n",
       "      <th></th>\n",
       "      <th>result_id</th>\n",
       "      <th>test_id</th>\n",
       "      <th>sample_size_mean_op</th>\n",
       "      <th>sample_size_mean</th>\n",
       "      <th>sample_size_min_op</th>\n",
       "      <th>sample_size_min</th>\n",
       "      <th>sample_size_max_op</th>\n",
       "      <th>sample_size_max</th>\n",
       "      <th>sample_size_unit</th>\n",
       "      <th>sample_size_comments</th>\n",
       "      <th>...</th>\n",
       "      <th>dry_wet_pct_min</th>\n",
       "      <th>dry_wet_pct_max_op</th>\n",
       "      <th>dry_wet_pct_max</th>\n",
       "      <th>dry_wet_pct_comments</th>\n",
       "      <th>steady_state</th>\n",
       "      <th>additional_comments</th>\n",
       "      <th>companion_tag</th>\n",
       "      <th>created_date</th>\n",
       "      <th>modified_date</th>\n",
       "      <th>old_terretox_result_number</th>\n",
       "    </tr>\n",
       "  </thead>\n",
       "  <tbody>\n",
       "    <tr>\n",
       "      <td>6</td>\n",
       "      <td>18849</td>\n",
       "      <td>1154606</td>\n",
       "      <td>NaN</td>\n",
       "      <td>NR</td>\n",
       "      <td>NaN</td>\n",
       "      <td>NR</td>\n",
       "      <td>NaN</td>\n",
       "      <td>NR</td>\n",
       "      <td>NR</td>\n",
       "      <td>NaN</td>\n",
       "      <td>...</td>\n",
       "      <td>NR</td>\n",
       "      <td>NaN</td>\n",
       "      <td>NR</td>\n",
       "      <td>NaN</td>\n",
       "      <td>NR</td>\n",
       "      <td></td>\n",
       "      <td>NaN</td>\n",
       "      <td>08/25/1998</td>\n",
       "      <td>08/09/2016</td>\n",
       "      <td>NaN</td>\n",
       "    </tr>\n",
       "    <tr>\n",
       "      <td>7</td>\n",
       "      <td>113920</td>\n",
       "      <td>1031849</td>\n",
       "      <td>NaN</td>\n",
       "      <td>NC</td>\n",
       "      <td>NaN</td>\n",
       "      <td>NC</td>\n",
       "      <td>NaN</td>\n",
       "      <td>NC</td>\n",
       "      <td>NC</td>\n",
       "      <td>NaN</td>\n",
       "      <td>...</td>\n",
       "      <td>NC</td>\n",
       "      <td>NaN</td>\n",
       "      <td>NC</td>\n",
       "      <td>NaN</td>\n",
       "      <td>NC</td>\n",
       "      <td></td>\n",
       "      <td>NaN</td>\n",
       "      <td>10/19/1992</td>\n",
       "      <td>NaN</td>\n",
       "      <td>NaN</td>\n",
       "    </tr>\n",
       "    <tr>\n",
       "      <td>8</td>\n",
       "      <td>12202</td>\n",
       "      <td>1023934</td>\n",
       "      <td>NaN</td>\n",
       "      <td>NC</td>\n",
       "      <td>NaN</td>\n",
       "      <td>NC</td>\n",
       "      <td>NaN</td>\n",
       "      <td>NC</td>\n",
       "      <td>NC</td>\n",
       "      <td>NaN</td>\n",
       "      <td>...</td>\n",
       "      <td>NC</td>\n",
       "      <td>NaN</td>\n",
       "      <td>NC</td>\n",
       "      <td>NaN</td>\n",
       "      <td>NC</td>\n",
       "      <td>USED AGED TAPWATER//</td>\n",
       "      <td>NaN</td>\n",
       "      <td>01/31/1985</td>\n",
       "      <td>NaN</td>\n",
       "      <td>NaN</td>\n",
       "    </tr>\n",
       "    <tr>\n",
       "      <td>10</td>\n",
       "      <td>11876</td>\n",
       "      <td>1030458</td>\n",
       "      <td>NaN</td>\n",
       "      <td>NC</td>\n",
       "      <td>NaN</td>\n",
       "      <td>NC</td>\n",
       "      <td>NaN</td>\n",
       "      <td>NC</td>\n",
       "      <td>NC</td>\n",
       "      <td>NaN</td>\n",
       "      <td>...</td>\n",
       "      <td>NC</td>\n",
       "      <td>NaN</td>\n",
       "      <td>NC</td>\n",
       "      <td>NaN</td>\n",
       "      <td>NC</td>\n",
       "      <td>CARRIER/ACETONE//</td>\n",
       "      <td>NaN</td>\n",
       "      <td>01/31/1985</td>\n",
       "      <td>NaN</td>\n",
       "      <td>NaN</td>\n",
       "    </tr>\n",
       "    <tr>\n",
       "      <td>14</td>\n",
       "      <td>600764</td>\n",
       "      <td>1088133</td>\n",
       "      <td>NaN</td>\n",
       "      <td>NC</td>\n",
       "      <td>NaN</td>\n",
       "      <td>NC</td>\n",
       "      <td>NaN</td>\n",
       "      <td>NC</td>\n",
       "      <td>NC</td>\n",
       "      <td>NaN</td>\n",
       "      <td>...</td>\n",
       "      <td>NC</td>\n",
       "      <td>NaN</td>\n",
       "      <td>NC</td>\n",
       "      <td>NaN</td>\n",
       "      <td>NC</td>\n",
       "      <td></td>\n",
       "      <td>NaN</td>\n",
       "      <td>10/19/2001</td>\n",
       "      <td>04/26/2012</td>\n",
       "      <td>NaN</td>\n",
       "    </tr>\n",
       "  </tbody>\n",
       "</table>\n",
       "<p>5 rows × 137 columns</p>\n",
       "</div>"
      ],
      "text/plain": [
       "    result_id  test_id sample_size_mean_op sample_size_mean  \\\n",
       "6       18849  1154606                 NaN               NR   \n",
       "7      113920  1031849                 NaN               NC   \n",
       "8       12202  1023934                 NaN               NC   \n",
       "10      11876  1030458                 NaN               NC   \n",
       "14     600764  1088133                 NaN               NC   \n",
       "\n",
       "    sample_size_min_op sample_size_min  sample_size_max_op sample_size_max  \\\n",
       "6                  NaN              NR                 NaN              NR   \n",
       "7                  NaN              NC                 NaN              NC   \n",
       "8                  NaN              NC                 NaN              NC   \n",
       "10                 NaN              NC                 NaN              NC   \n",
       "14                 NaN              NC                 NaN              NC   \n",
       "\n",
       "   sample_size_unit sample_size_comments  ... dry_wet_pct_min  \\\n",
       "6                NR                  NaN  ...              NR   \n",
       "7                NC                  NaN  ...              NC   \n",
       "8                NC                  NaN  ...              NC   \n",
       "10               NC                  NaN  ...              NC   \n",
       "14               NC                  NaN  ...              NC   \n",
       "\n",
       "   dry_wet_pct_max_op dry_wet_pct_max dry_wet_pct_comments steady_state  \\\n",
       "6                 NaN              NR                  NaN           NR   \n",
       "7                 NaN              NC                  NaN           NC   \n",
       "8                 NaN              NC                  NaN           NC   \n",
       "10                NaN              NC                  NaN           NC   \n",
       "14                NaN              NC                  NaN           NC   \n",
       "\n",
       "       additional_comments companion_tag created_date modified_date  \\\n",
       "6                                    NaN   08/25/1998    08/09/2016   \n",
       "7                                    NaN   10/19/1992           NaN   \n",
       "8    USED AGED TAPWATER//            NaN   01/31/1985           NaN   \n",
       "10      CARRIER/ACETONE//            NaN   01/31/1985           NaN   \n",
       "14                                   NaN   10/19/2001    04/26/2012   \n",
       "\n",
       "   old_terretox_result_number  \n",
       "6                         NaN  \n",
       "7                         NaN  \n",
       "8                         NaN  \n",
       "10                        NaN  \n",
       "14                        NaN  \n",
       "\n",
       "[5 rows x 137 columns]"
      ]
     },
     "execution_count": 130,
     "metadata": {},
     "output_type": "execute_result"
    }
   ],
   "source": [
    "# Only LC50 or EC50\n",
    "results = results[(results.endpoint == \"LC50\") | (results.endpoint == \"EC50\")]\n",
    "results.head()"
   ]
  },
  {
   "cell_type": "code",
   "execution_count": 132,
   "metadata": {},
   "outputs": [],
   "source": [
    "# Filtering test on only with LC50 and EC50\n",
    "list_ids = results.test_id.values\n",
    "test = test[test.test_id.isin(list_ids)]"
   ]
  },
  {
   "cell_type": "code",
   "execution_count": 134,
   "metadata": {},
   "outputs": [
    {
     "data": {
      "text/html": [
       "<div>\n",
       "<style scoped>\n",
       "    .dataframe tbody tr th:only-of-type {\n",
       "        vertical-align: middle;\n",
       "    }\n",
       "\n",
       "    .dataframe tbody tr th {\n",
       "        vertical-align: top;\n",
       "    }\n",
       "\n",
       "    .dataframe thead th {\n",
       "        text-align: right;\n",
       "    }\n",
       "</style>\n",
       "<table border=\"1\" class=\"dataframe\">\n",
       "  <thead>\n",
       "    <tr style=\"text-align: right;\">\n",
       "      <th></th>\n",
       "      <th>test_id</th>\n",
       "      <th>reference_number</th>\n",
       "      <th>test_cas</th>\n",
       "      <th>test_grade</th>\n",
       "      <th>test_grade_comments</th>\n",
       "      <th>test_formulation</th>\n",
       "      <th>test_formulation_comments</th>\n",
       "      <th>test_radiolabel</th>\n",
       "      <th>test_radiolabel_comments</th>\n",
       "      <th>test_purity_mean_op</th>\n",
       "      <th>...</th>\n",
       "      <th>halflife_min_op</th>\n",
       "      <th>halflife_min</th>\n",
       "      <th>halflife_max_op</th>\n",
       "      <th>halflife_max</th>\n",
       "      <th>halflife_unit</th>\n",
       "      <th>halflife_comments</th>\n",
       "      <th>additional_comments</th>\n",
       "      <th>created_date</th>\n",
       "      <th>modified_date</th>\n",
       "      <th>published_date</th>\n",
       "    </tr>\n",
       "  </thead>\n",
       "  <tbody>\n",
       "    <tr>\n",
       "      <td>37</td>\n",
       "      <td>41</td>\n",
       "      <td>35015</td>\n",
       "      <td>11097691</td>\n",
       "      <td>NR</td>\n",
       "      <td>NaN</td>\n",
       "      <td>NR</td>\n",
       "      <td>NaN</td>\n",
       "      <td>NR</td>\n",
       "      <td>NaN</td>\n",
       "      <td>NaN</td>\n",
       "      <td>...</td>\n",
       "      <td>NaN</td>\n",
       "      <td>NC</td>\n",
       "      <td>NaN</td>\n",
       "      <td>NC</td>\n",
       "      <td>NC</td>\n",
       "      <td>NaN</td>\n",
       "      <td></td>\n",
       "      <td>01/28/1998</td>\n",
       "      <td>07/20/2012</td>\n",
       "      <td>09/14/2012</td>\n",
       "    </tr>\n",
       "    <tr>\n",
       "      <td>38</td>\n",
       "      <td>42</td>\n",
       "      <td>35015</td>\n",
       "      <td>11097691</td>\n",
       "      <td>NR</td>\n",
       "      <td>NaN</td>\n",
       "      <td>NR</td>\n",
       "      <td>NaN</td>\n",
       "      <td>NR</td>\n",
       "      <td>NaN</td>\n",
       "      <td>NaN</td>\n",
       "      <td>...</td>\n",
       "      <td>NaN</td>\n",
       "      <td>NC</td>\n",
       "      <td>NaN</td>\n",
       "      <td>NC</td>\n",
       "      <td>NC</td>\n",
       "      <td>NaN</td>\n",
       "      <td></td>\n",
       "      <td>01/28/1998</td>\n",
       "      <td>07/20/2012</td>\n",
       "      <td>09/14/2012</td>\n",
       "    </tr>\n",
       "    <tr>\n",
       "      <td>145</td>\n",
       "      <td>160</td>\n",
       "      <td>35056</td>\n",
       "      <td>86884</td>\n",
       "      <td>NR</td>\n",
       "      <td>NaN</td>\n",
       "      <td>NR</td>\n",
       "      <td>NaN</td>\n",
       "      <td>NR</td>\n",
       "      <td>NaN</td>\n",
       "      <td>NaN</td>\n",
       "      <td>...</td>\n",
       "      <td>NaN</td>\n",
       "      <td>NC</td>\n",
       "      <td>NaN</td>\n",
       "      <td>NC</td>\n",
       "      <td>NC</td>\n",
       "      <td>NaN</td>\n",
       "      <td></td>\n",
       "      <td>01/28/1998</td>\n",
       "      <td>07/20/2012</td>\n",
       "      <td>09/14/2012</td>\n",
       "    </tr>\n",
       "    <tr>\n",
       "      <td>146</td>\n",
       "      <td>161</td>\n",
       "      <td>35056</td>\n",
       "      <td>86884</td>\n",
       "      <td>NR</td>\n",
       "      <td>NaN</td>\n",
       "      <td>NR</td>\n",
       "      <td>NaN</td>\n",
       "      <td>NR</td>\n",
       "      <td>NaN</td>\n",
       "      <td>NaN</td>\n",
       "      <td>...</td>\n",
       "      <td>NaN</td>\n",
       "      <td>NC</td>\n",
       "      <td>NaN</td>\n",
       "      <td>NC</td>\n",
       "      <td>NC</td>\n",
       "      <td>NaN</td>\n",
       "      <td></td>\n",
       "      <td>01/28/1998</td>\n",
       "      <td>07/20/2012</td>\n",
       "      <td>09/14/2012</td>\n",
       "    </tr>\n",
       "    <tr>\n",
       "      <td>147</td>\n",
       "      <td>162</td>\n",
       "      <td>35056</td>\n",
       "      <td>86884</td>\n",
       "      <td>NR</td>\n",
       "      <td>NaN</td>\n",
       "      <td>NR</td>\n",
       "      <td>NaN</td>\n",
       "      <td>NR</td>\n",
       "      <td>NaN</td>\n",
       "      <td>NaN</td>\n",
       "      <td>...</td>\n",
       "      <td>NaN</td>\n",
       "      <td>NC</td>\n",
       "      <td>NaN</td>\n",
       "      <td>NC</td>\n",
       "      <td>NC</td>\n",
       "      <td>NaN</td>\n",
       "      <td></td>\n",
       "      <td>01/28/1998</td>\n",
       "      <td>07/20/2012</td>\n",
       "      <td>09/14/2012</td>\n",
       "    </tr>\n",
       "  </tbody>\n",
       "</table>\n",
       "<p>5 rows × 122 columns</p>\n",
       "</div>"
      ],
      "text/plain": [
       "     test_id  reference_number  test_cas test_grade test_grade_comments  \\\n",
       "37        41             35015  11097691         NR                 NaN   \n",
       "38        42             35015  11097691         NR                 NaN   \n",
       "145      160             35056     86884         NR                 NaN   \n",
       "146      161             35056     86884         NR                 NaN   \n",
       "147      162             35056     86884         NR                 NaN   \n",
       "\n",
       "    test_formulation test_formulation_comments test_radiolabel  \\\n",
       "37                NR                       NaN              NR   \n",
       "38                NR                       NaN              NR   \n",
       "145               NR                       NaN              NR   \n",
       "146               NR                       NaN              NR   \n",
       "147               NR                       NaN              NR   \n",
       "\n",
       "    test_radiolabel_comments test_purity_mean_op  ... halflife_min_op  \\\n",
       "37                       NaN                 NaN  ...             NaN   \n",
       "38                       NaN                 NaN  ...             NaN   \n",
       "145                      NaN                 NaN  ...             NaN   \n",
       "146                      NaN                 NaN  ...             NaN   \n",
       "147                      NaN                 NaN  ...             NaN   \n",
       "\n",
       "    halflife_min halflife_max_op halflife_max halflife_unit halflife_comments  \\\n",
       "37            NC             NaN           NC            NC               NaN   \n",
       "38            NC             NaN           NC            NC               NaN   \n",
       "145           NC             NaN           NC            NC               NaN   \n",
       "146           NC             NaN           NC            NC               NaN   \n",
       "147           NC             NaN           NC            NC               NaN   \n",
       "\n",
       "    additional_comments  created_date modified_date published_date  \n",
       "37                         01/28/1998    07/20/2012     09/14/2012  \n",
       "38                         01/28/1998    07/20/2012     09/14/2012  \n",
       "145                        01/28/1998    07/20/2012     09/14/2012  \n",
       "146                        01/28/1998    07/20/2012     09/14/2012  \n",
       "147                        01/28/1998    07/20/2012     09/14/2012  \n",
       "\n",
       "[5 rows x 122 columns]"
      ]
     },
     "execution_count": 134,
     "metadata": {},
     "output_type": "execute_result"
    }
   ],
   "source": [
    "# No embrions\n",
    "test = test[test.organism_lifestage != \"EM\"]\n",
    "test.head()"
   ]
  },
  {
   "cell_type": "code",
   "execution_count": 135,
   "metadata": {},
   "outputs": [
    {
     "data": {
      "text/html": [
       "<div>\n",
       "<style scoped>\n",
       "    .dataframe tbody tr th:only-of-type {\n",
       "        vertical-align: middle;\n",
       "    }\n",
       "\n",
       "    .dataframe tbody tr th {\n",
       "        vertical-align: top;\n",
       "    }\n",
       "\n",
       "    .dataframe thead th {\n",
       "        text-align: right;\n",
       "    }\n",
       "</style>\n",
       "<table border=\"1\" class=\"dataframe\">\n",
       "  <thead>\n",
       "    <tr style=\"text-align: right;\">\n",
       "      <th></th>\n",
       "      <th>species_number</th>\n",
       "      <th>common_name</th>\n",
       "      <th>latin_name</th>\n",
       "      <th>kingdom</th>\n",
       "      <th>phylum_division</th>\n",
       "      <th>subphylum_div</th>\n",
       "      <th>superclass</th>\n",
       "      <th>class</th>\n",
       "      <th>tax_order</th>\n",
       "      <th>family</th>\n",
       "      <th>genus</th>\n",
       "      <th>species</th>\n",
       "      <th>subspecies</th>\n",
       "      <th>variety</th>\n",
       "      <th>ecotox_group</th>\n",
       "    </tr>\n",
       "  </thead>\n",
       "  <tbody>\n",
       "    <tr>\n",
       "      <td>0</td>\n",
       "      <td>1</td>\n",
       "      <td>Fathead Minnow</td>\n",
       "      <td>Pimephales promelas</td>\n",
       "      <td>Animalia</td>\n",
       "      <td>Chordata</td>\n",
       "      <td>Vertebrata</td>\n",
       "      <td>Osteichthyes</td>\n",
       "      <td>Actinopterygii</td>\n",
       "      <td>Cypriniformes</td>\n",
       "      <td>Cyprinidae</td>\n",
       "      <td>Pimephales</td>\n",
       "      <td>promelas</td>\n",
       "      <td>NaN</td>\n",
       "      <td>NaN</td>\n",
       "      <td>Fish,Standard Test Species</td>\n",
       "    </tr>\n",
       "    <tr>\n",
       "      <td>1</td>\n",
       "      <td>2</td>\n",
       "      <td>Bluegill</td>\n",
       "      <td>Lepomis macrochirus</td>\n",
       "      <td>Animalia</td>\n",
       "      <td>Chordata</td>\n",
       "      <td>Vertebrata</td>\n",
       "      <td>Osteichthyes</td>\n",
       "      <td>Actinopterygii</td>\n",
       "      <td>Perciformes</td>\n",
       "      <td>Centrarchidae</td>\n",
       "      <td>Lepomis</td>\n",
       "      <td>macrochirus</td>\n",
       "      <td>NaN</td>\n",
       "      <td>NaN</td>\n",
       "      <td>Fish,Standard Test Species</td>\n",
       "    </tr>\n",
       "    <tr>\n",
       "      <td>2</td>\n",
       "      <td>3</td>\n",
       "      <td>Brook Trout</td>\n",
       "      <td>Salvelinus fontinalis</td>\n",
       "      <td>Animalia</td>\n",
       "      <td>Chordata</td>\n",
       "      <td>Vertebrata</td>\n",
       "      <td>Osteichthyes</td>\n",
       "      <td>Actinopterygii</td>\n",
       "      <td>Salmoniformes</td>\n",
       "      <td>Salmonidae</td>\n",
       "      <td>Salvelinus</td>\n",
       "      <td>fontinalis</td>\n",
       "      <td>NaN</td>\n",
       "      <td>NaN</td>\n",
       "      <td>Fish,Standard Test Species</td>\n",
       "    </tr>\n",
       "    <tr>\n",
       "      <td>3</td>\n",
       "      <td>4</td>\n",
       "      <td>Rainbow Trout</td>\n",
       "      <td>Oncorhynchus mykiss</td>\n",
       "      <td>Animalia</td>\n",
       "      <td>Chordata</td>\n",
       "      <td>Vertebrata</td>\n",
       "      <td>Osteichthyes</td>\n",
       "      <td>Actinopterygii</td>\n",
       "      <td>Salmoniformes</td>\n",
       "      <td>Salmonidae</td>\n",
       "      <td>Oncorhynchus</td>\n",
       "      <td>mykiss</td>\n",
       "      <td>NaN</td>\n",
       "      <td>NaN</td>\n",
       "      <td>Fish,Standard Test Species,U.S. Exotic/Nuisanc...</td>\n",
       "    </tr>\n",
       "    <tr>\n",
       "      <td>12</td>\n",
       "      <td>13</td>\n",
       "      <td>Hooknose</td>\n",
       "      <td>Agonus cataphractus</td>\n",
       "      <td>Animalia</td>\n",
       "      <td>Chordata</td>\n",
       "      <td>Vertebrata</td>\n",
       "      <td>Osteichthyes</td>\n",
       "      <td>Actinopterygii</td>\n",
       "      <td>Scorpaeniformes</td>\n",
       "      <td>Agonidae</td>\n",
       "      <td>Agonus</td>\n",
       "      <td>cataphractus</td>\n",
       "      <td>NaN</td>\n",
       "      <td>NaN</td>\n",
       "      <td>Fish</td>\n",
       "    </tr>\n",
       "    <tr>\n",
       "      <td>...</td>\n",
       "      <td>...</td>\n",
       "      <td>...</td>\n",
       "      <td>...</td>\n",
       "      <td>...</td>\n",
       "      <td>...</td>\n",
       "      <td>...</td>\n",
       "      <td>...</td>\n",
       "      <td>...</td>\n",
       "      <td>...</td>\n",
       "      <td>...</td>\n",
       "      <td>...</td>\n",
       "      <td>...</td>\n",
       "      <td>...</td>\n",
       "      <td>...</td>\n",
       "      <td>...</td>\n",
       "    </tr>\n",
       "    <tr>\n",
       "      <td>26089</td>\n",
       "      <td>51433</td>\n",
       "      <td>Janitor Fish</td>\n",
       "      <td>Pterygoplichthys sp.</td>\n",
       "      <td>Animalia</td>\n",
       "      <td>Chordata</td>\n",
       "      <td>Vertebrata</td>\n",
       "      <td>Osteichthyes</td>\n",
       "      <td>Actinopterygii</td>\n",
       "      <td>Siluriformes</td>\n",
       "      <td>Loricariidae</td>\n",
       "      <td>Pterygoplichthys</td>\n",
       "      <td>sp.</td>\n",
       "      <td>NaN</td>\n",
       "      <td>NaN</td>\n",
       "      <td>Fish</td>\n",
       "    </tr>\n",
       "    <tr>\n",
       "      <td>26090</td>\n",
       "      <td>51438</td>\n",
       "      <td>Sea Catfishes</td>\n",
       "      <td>Genidens sp.</td>\n",
       "      <td>Animalia</td>\n",
       "      <td>Chordata</td>\n",
       "      <td>Vertebrata</td>\n",
       "      <td>Osteichthyes</td>\n",
       "      <td>Actinopterygii</td>\n",
       "      <td>Siluriformes</td>\n",
       "      <td>Ariidae</td>\n",
       "      <td>Genidens</td>\n",
       "      <td>sp.</td>\n",
       "      <td>NaN</td>\n",
       "      <td>NaN</td>\n",
       "      <td>Fish</td>\n",
       "    </tr>\n",
       "    <tr>\n",
       "      <td>26226</td>\n",
       "      <td>51997</td>\n",
       "      <td>Tetra</td>\n",
       "      <td>Astyanax lacustris</td>\n",
       "      <td>Animalia</td>\n",
       "      <td>Chordata</td>\n",
       "      <td>Vertebrata</td>\n",
       "      <td>Osteichthyes</td>\n",
       "      <td>Actinopterygii</td>\n",
       "      <td>Characiformes</td>\n",
       "      <td>Characidae</td>\n",
       "      <td>Astyanax</td>\n",
       "      <td>lacustris</td>\n",
       "      <td>NaN</td>\n",
       "      <td>NaN</td>\n",
       "      <td>Fish</td>\n",
       "    </tr>\n",
       "    <tr>\n",
       "      <td>26227</td>\n",
       "      <td>51998</td>\n",
       "      <td>White Bream</td>\n",
       "      <td>Blicca bjoerkna</td>\n",
       "      <td>Animalia</td>\n",
       "      <td>Chordata</td>\n",
       "      <td>Vertebrata</td>\n",
       "      <td>Osteichthyes</td>\n",
       "      <td>Actinopterygii</td>\n",
       "      <td>Cypriniformes</td>\n",
       "      <td>Cyprinidae</td>\n",
       "      <td>Blicca</td>\n",
       "      <td>bjoerkna</td>\n",
       "      <td>NaN</td>\n",
       "      <td>NaN</td>\n",
       "      <td>Fish</td>\n",
       "    </tr>\n",
       "    <tr>\n",
       "      <td>26228</td>\n",
       "      <td>51999</td>\n",
       "      <td>Amur Sleeper Fish</td>\n",
       "      <td>Perccottus glenii</td>\n",
       "      <td>Animalia</td>\n",
       "      <td>Chordata</td>\n",
       "      <td>Vertebrata</td>\n",
       "      <td>Osteichthyes</td>\n",
       "      <td>Actinopterygii</td>\n",
       "      <td>Perciformes</td>\n",
       "      <td>Odontobutidae</td>\n",
       "      <td>Perccottus</td>\n",
       "      <td>glenii</td>\n",
       "      <td>NaN</td>\n",
       "      <td>NaN</td>\n",
       "      <td>Fish</td>\n",
       "    </tr>\n",
       "  </tbody>\n",
       "</table>\n",
       "<p>2018 rows × 15 columns</p>\n",
       "</div>"
      ],
      "text/plain": [
       "       species_number        common_name             latin_name   kingdom  \\\n",
       "0                   1     Fathead Minnow    Pimephales promelas  Animalia   \n",
       "1                   2           Bluegill    Lepomis macrochirus  Animalia   \n",
       "2                   3        Brook Trout  Salvelinus fontinalis  Animalia   \n",
       "3                   4      Rainbow Trout    Oncorhynchus mykiss  Animalia   \n",
       "12                 13           Hooknose    Agonus cataphractus  Animalia   \n",
       "...               ...                ...                    ...       ...   \n",
       "26089           51433       Janitor Fish   Pterygoplichthys sp.  Animalia   \n",
       "26090           51438     Sea Catfishes            Genidens sp.  Animalia   \n",
       "26226           51997              Tetra     Astyanax lacustris  Animalia   \n",
       "26227           51998       White Bream         Blicca bjoerkna  Animalia   \n",
       "26228           51999  Amur Sleeper Fish      Perccottus glenii  Animalia   \n",
       "\n",
       "      phylum_division subphylum_div    superclass           class  \\\n",
       "0            Chordata    Vertebrata  Osteichthyes  Actinopterygii   \n",
       "1            Chordata    Vertebrata  Osteichthyes  Actinopterygii   \n",
       "2            Chordata    Vertebrata  Osteichthyes  Actinopterygii   \n",
       "3            Chordata    Vertebrata  Osteichthyes  Actinopterygii   \n",
       "12           Chordata    Vertebrata  Osteichthyes  Actinopterygii   \n",
       "...               ...           ...           ...             ...   \n",
       "26089        Chordata    Vertebrata  Osteichthyes  Actinopterygii   \n",
       "26090        Chordata    Vertebrata  Osteichthyes  Actinopterygii   \n",
       "26226        Chordata    Vertebrata  Osteichthyes  Actinopterygii   \n",
       "26227        Chordata    Vertebrata  Osteichthyes  Actinopterygii   \n",
       "26228        Chordata    Vertebrata  Osteichthyes  Actinopterygii   \n",
       "\n",
       "             tax_order         family             genus       species  \\\n",
       "0        Cypriniformes     Cyprinidae        Pimephales      promelas   \n",
       "1          Perciformes  Centrarchidae           Lepomis   macrochirus   \n",
       "2        Salmoniformes     Salmonidae        Salvelinus    fontinalis   \n",
       "3        Salmoniformes     Salmonidae      Oncorhynchus        mykiss   \n",
       "12     Scorpaeniformes       Agonidae            Agonus  cataphractus   \n",
       "...                ...            ...               ...           ...   \n",
       "26089     Siluriformes   Loricariidae  Pterygoplichthys           sp.   \n",
       "26090     Siluriformes        Ariidae          Genidens           sp.   \n",
       "26226    Characiformes     Characidae          Astyanax     lacustris   \n",
       "26227    Cypriniformes     Cyprinidae            Blicca      bjoerkna   \n",
       "26228      Perciformes  Odontobutidae        Perccottus        glenii   \n",
       "\n",
       "      subspecies variety                                       ecotox_group  \n",
       "0            NaN     NaN                         Fish,Standard Test Species  \n",
       "1            NaN     NaN                         Fish,Standard Test Species  \n",
       "2            NaN     NaN                         Fish,Standard Test Species  \n",
       "3            NaN     NaN  Fish,Standard Test Species,U.S. Exotic/Nuisanc...  \n",
       "12           NaN     NaN                                               Fish  \n",
       "...          ...     ...                                                ...  \n",
       "26089        NaN     NaN                                               Fish  \n",
       "26090        NaN     NaN                                               Fish  \n",
       "26226        NaN     NaN                                               Fish  \n",
       "26227        NaN     NaN                                               Fish  \n",
       "26228        NaN     NaN                                               Fish  \n",
       "\n",
       "[2018 rows x 15 columns]"
      ]
     },
     "execution_count": 135,
     "metadata": {},
     "output_type": "execute_result"
    }
   ],
   "source": [
    "# Remove null and considering only Fish\n",
    "species = species[~species.ecotox_group.isnull()]\n",
    "species_fish = species[species.ecotox_group.str.contains(\"Fish\")]\n",
    "species_fish"
   ]
  },
  {
   "cell_type": "markdown",
   "metadata": {},
   "source": [
    "## Looking for null values, outliers and strange units in the new datasets"
   ]
  },
  {
   "cell_type": "markdown",
   "metadata": {},
   "source": [
    "### CAS : Foreign key to CHEMICALS"
   ]
  },
  {
   "cell_type": "code",
   "execution_count": 136,
   "metadata": {
    "jupyter": {
     "outputs_hidden": true
    },
    "scrolled": true
   },
   "outputs": [
    {
     "data": {
      "text/plain": [
       "0"
      ]
     },
     "execution_count": 136,
     "metadata": {},
     "output_type": "execute_result"
    }
   ],
   "source": [
    "# It's an index -> shouldn't be null values\n",
    "sum(test['test_cas'].isnull())"
   ]
  },
  {
   "cell_type": "markdown",
   "metadata": {},
   "source": [
    "No sense talking about outliers (possible with ECOTOX_GROUP when we will talk about the CAS characteristics)"
   ]
  },
  {
   "cell_type": "markdown",
   "metadata": {},
   "source": [
    "**Defining a function to count the NaN and the possible outputs for one of the interested big features**"
   ]
  },
  {
   "cell_type": "code",
   "execution_count": 145,
   "metadata": {},
   "outputs": [],
   "source": [
    "def null_output_counts(feature, dataframe):\n",
    "    \n",
    "    # Find columns that start with the interesting feature\n",
    "    cols = list(dataframe.columns)\n",
    "    features_interested = [i for i in cols if i.startswith(feature)]\n",
    "    df_nan  = pd.DataFrame (index = features_interested, columns = ['null_values_inc_NC_NR%', '#outputs'])\n",
    "    \n",
    "    #Count total NaN + NR + NC\n",
    "    for i in features_interested:\n",
    "        df_nan['null_values_inc_NC_NR%'][i] = (sum(dataframe[i].isnull()) + len(dataframe[dataframe[i] == \"NR\"]) + len(dataframe[dataframe[i] ==\"NC\"]))/len(dataframe)*100\n",
    "        df_nan['#outputs'][i] = len(dataframe[i].unique())\n",
    "    return df_nan, features_interested"
   ]
  },
  {
   "cell_type": "markdown",
   "metadata": {},
   "source": [
    "### ORGANISMS"
   ]
  },
  {
   "cell_type": "code",
   "execution_count": 212,
   "metadata": {
    "jupyter": {
     "outputs_hidden": true
    }
   },
   "outputs": [
    {
     "data": {
      "text/html": [
       "<div>\n",
       "<style scoped>\n",
       "    .dataframe tbody tr th:only-of-type {\n",
       "        vertical-align: middle;\n",
       "    }\n",
       "\n",
       "    .dataframe tbody tr th {\n",
       "        vertical-align: top;\n",
       "    }\n",
       "\n",
       "    .dataframe thead th {\n",
       "        text-align: right;\n",
       "    }\n",
       "</style>\n",
       "<table border=\"1\" class=\"dataframe\">\n",
       "  <thead>\n",
       "    <tr style=\"text-align: right;\">\n",
       "      <th></th>\n",
       "      <th>null_values_inc_NC_NR%</th>\n",
       "      <th>#outputs</th>\n",
       "    </tr>\n",
       "  </thead>\n",
       "  <tbody>\n",
       "    <tr>\n",
       "      <td>organism_habitat</td>\n",
       "      <td>0</td>\n",
       "      <td>3</td>\n",
       "    </tr>\n",
       "    <tr>\n",
       "      <td>organism_source</td>\n",
       "      <td>84.5538</td>\n",
       "      <td>10</td>\n",
       "    </tr>\n",
       "    <tr>\n",
       "      <td>organism_source_comments</td>\n",
       "      <td>95.4506</td>\n",
       "      <td>1376</td>\n",
       "    </tr>\n",
       "    <tr>\n",
       "      <td>organism_lifestage</td>\n",
       "      <td>52.0502</td>\n",
       "      <td>99</td>\n",
       "    </tr>\n",
       "    <tr>\n",
       "      <td>organism_lifestage_comments</td>\n",
       "      <td>99.6641</td>\n",
       "      <td>64</td>\n",
       "    </tr>\n",
       "    <tr>\n",
       "      <td>organism_age_mean_op</td>\n",
       "      <td>91.8253</td>\n",
       "      <td>6</td>\n",
       "    </tr>\n",
       "    <tr>\n",
       "      <td>organism_age_mean</td>\n",
       "      <td>76.0539</td>\n",
       "      <td>170</td>\n",
       "    </tr>\n",
       "    <tr>\n",
       "      <td>organism_age_min_op</td>\n",
       "      <td>99.7163</td>\n",
       "      <td>4</td>\n",
       "    </tr>\n",
       "    <tr>\n",
       "      <td>organism_age_min</td>\n",
       "      <td>92.3144</td>\n",
       "      <td>98</td>\n",
       "    </tr>\n",
       "    <tr>\n",
       "      <td>organism_age_max_op</td>\n",
       "      <td>99.7932</td>\n",
       "      <td>5</td>\n",
       "    </tr>\n",
       "    <tr>\n",
       "      <td>organism_age_max</td>\n",
       "      <td>92.3144</td>\n",
       "      <td>105</td>\n",
       "    </tr>\n",
       "    <tr>\n",
       "      <td>organism_age_unit</td>\n",
       "      <td>68.3622</td>\n",
       "      <td>49</td>\n",
       "    </tr>\n",
       "    <tr>\n",
       "      <td>organism_init_wt_mean_op</td>\n",
       "      <td>99.9639</td>\n",
       "      <td>5</td>\n",
       "    </tr>\n",
       "    <tr>\n",
       "      <td>organism_init_wt_mean</td>\n",
       "      <td>97.2224</td>\n",
       "      <td>669</td>\n",
       "    </tr>\n",
       "    <tr>\n",
       "      <td>organism_init_wt_min_op</td>\n",
       "      <td>99.9946</td>\n",
       "      <td>3</td>\n",
       "    </tr>\n",
       "    <tr>\n",
       "      <td>organism_init_wt_min</td>\n",
       "      <td>99.361</td>\n",
       "      <td>111</td>\n",
       "    </tr>\n",
       "    <tr>\n",
       "      <td>organism_init_wt_max_op</td>\n",
       "      <td>99.994</td>\n",
       "      <td>4</td>\n",
       "    </tr>\n",
       "    <tr>\n",
       "      <td>organism_init_wt_max</td>\n",
       "      <td>99.361</td>\n",
       "      <td>128</td>\n",
       "    </tr>\n",
       "    <tr>\n",
       "      <td>organism_init_wt_unit</td>\n",
       "      <td>96.6329</td>\n",
       "      <td>5</td>\n",
       "    </tr>\n",
       "    <tr>\n",
       "      <td>organism_characteristics</td>\n",
       "      <td>44.2582</td>\n",
       "      <td>14290</td>\n",
       "    </tr>\n",
       "    <tr>\n",
       "      <td>organism_gender</td>\n",
       "      <td>98.4329</td>\n",
       "      <td>5</td>\n",
       "    </tr>\n",
       "  </tbody>\n",
       "</table>\n",
       "</div>"
      ],
      "text/plain": [
       "                            null_values_inc_NC_NR% #outputs\n",
       "organism_habitat                                 0        3\n",
       "organism_source                            84.5538       10\n",
       "organism_source_comments                   95.4506     1376\n",
       "organism_lifestage                         52.0502       99\n",
       "organism_lifestage_comments                99.6641       64\n",
       "organism_age_mean_op                       91.8253        6\n",
       "organism_age_mean                          76.0539      170\n",
       "organism_age_min_op                        99.7163        4\n",
       "organism_age_min                           92.3144       98\n",
       "organism_age_max_op                        99.7932        5\n",
       "organism_age_max                           92.3144      105\n",
       "organism_age_unit                          68.3622       49\n",
       "organism_init_wt_mean_op                   99.9639        5\n",
       "organism_init_wt_mean                      97.2224      669\n",
       "organism_init_wt_min_op                    99.9946        3\n",
       "organism_init_wt_min                        99.361      111\n",
       "organism_init_wt_max_op                     99.994        4\n",
       "organism_init_wt_max                        99.361      128\n",
       "organism_init_wt_unit                      96.6329        5\n",
       "organism_characteristics                   44.2582    14290\n",
       "organism_gender                            98.4329        5"
      ]
     },
     "execution_count": 212,
     "metadata": {},
     "output_type": "execute_result"
    }
   ],
   "source": [
    "# Apply defined function to organism\n",
    "df_org_nan, org_list = null_output_counts(\"organism\", test)\n",
    "df_org_nan"
   ]
  },
  {
   "cell_type": "markdown",
   "metadata": {},
   "source": [
    "**Usable features**: *organism_lifestage*, *organism_age_mean* (?)"
   ]
  },
  {
   "cell_type": "markdown",
   "metadata": {},
   "source": [
    "Good to see at the correlation, need usable **numeric** features.  \n",
    "Considering the organism_lifestage and age_mean (with age unit feature needed)"
   ]
  },
  {
   "cell_type": "code",
   "execution_count": 193,
   "metadata": {},
   "outputs": [],
   "source": [
    "#consider only interesting features\n",
    "org_intrs = [\"organism_lifestage\", \"organism_age_mean\", \"organism_age_unit\"]\n",
    "df_org = test[org_intrs]"
   ]
  },
  {
   "cell_type": "code",
   "execution_count": 199,
   "metadata": {},
   "outputs": [
    {
     "data": {
      "text/plain": [
       "NR    71832\n",
       "LV    16146\n",
       "AD    11400\n",
       "JV    11170\n",
       "NC     5956\n",
       "NE     5738\n",
       "EX     3788\n",
       "FI     3419\n",
       "FY     2372\n",
       "EG     2108\n",
       "TA     1140\n",
       "MA     1075\n",
       "IN     1007\n",
       "YO      987\n",
       "MX      919\n",
       "SD      891\n",
       "NU      748\n",
       "GL      647\n",
       "SF      556\n",
       "NY      553\n",
       "Name: organism_lifestage, dtype: int64"
      ]
     },
     "execution_count": 199,
     "metadata": {},
     "output_type": "execute_result"
    }
   ],
   "source": [
    "df_org.organism_lifestage.value_counts(dropna=False).head(20)"
   ]
  },
  {
   "cell_type": "markdown",
   "metadata": {},
   "source": [
    "A lot of NA and NC, but once dropped/imputed (I don't see how imputing a categorical like this one) seems a useful feature"
   ]
  },
  {
   "cell_type": "code",
   "execution_count": 194,
   "metadata": {
    "scrolled": true
   },
   "outputs": [
    {
     "data": {
      "text/plain": [
       "NR      97911\n",
       "h       13099\n",
       "d       12504\n",
       "ins      9382\n",
       "NC       4250\n",
       "mo       3498\n",
       "wk       3375\n",
       "stg      1214\n",
       "dph      1175\n",
       "yr        374\n",
       "go        326\n",
       "yc        272\n",
       "hph       252\n",
       "ls        234\n",
       "dpu       193\n",
       "hpe       178\n",
       "ge        170\n",
       "hpf       153\n",
       "dpe       147\n",
       "fd        117\n",
       "dpf       101\n",
       "gs         88\n",
       "nf         72\n",
       "LSI        65\n",
       "mpf        52\n",
       "wpe        46\n",
       "ac         40\n",
       "mpp        24\n",
       "cs         21\n",
       "wph        18\n",
       "dps        16\n",
       "tls        15\n",
       "hbf         9\n",
       "sst         7\n",
       "dpw         7\n",
       "mph         6\n",
       "NaN         5\n",
       "hpr         5\n",
       "dpp         5\n",
       "gts         5\n",
       "brd         4\n",
       "su          3\n",
       "mi          2\n",
       "dpmm        2\n",
       "dpo         2\n",
       "moph        1\n",
       "mopm        1\n",
       "dpys        1\n",
       "dpr         1\n",
       "Name: organism_age_unit, dtype: int64"
      ]
     },
     "execution_count": 194,
     "metadata": {},
     "output_type": "execute_result"
    }
   ],
   "source": [
    "organism_unit_counts = df_org.organism_age_unit.value_counts(dropna=False)\n",
    "organism_unit_counts"
   ]
  },
  {
   "cell_type": "markdown",
   "metadata": {},
   "source": [
    "Also now, lot of strage unit variables.  \n",
    "Considering NR and NC to see if there's a match with missing means:"
   ]
  },
  {
   "cell_type": "code",
   "execution_count": 200,
   "metadata": {},
   "outputs": [
    {
     "data": {
      "text/plain": [
       "NC    4250\n",
       "Name: organism_age_mean, dtype: int64"
      ]
     },
     "execution_count": 200,
     "metadata": {},
     "output_type": "execute_result"
    }
   ],
   "source": [
    "df_org[df_org.organism_age_unit == \"NC\"].organism_age_mean.value_counts(dropna=False)"
   ]
  },
  {
   "cell_type": "code",
   "execution_count": 201,
   "metadata": {},
   "outputs": [
    {
     "data": {
      "text/plain": [
       "NR    97910\n",
       "3         1\n",
       "Name: organism_age_mean, dtype: int64"
      ]
     },
     "execution_count": 201,
     "metadata": {},
     "output_type": "execute_result"
    }
   ],
   "source": [
    "df_org[df_org.organism_age_unit == \"NR\"].organism_age_mean.value_counts(dropna=False)"
   ]
  },
  {
   "cell_type": "markdown",
   "metadata": {},
   "source": [
    "NC totally match, NR not (But without unit...3 what?)"
   ]
  },
  {
   "cell_type": "markdown",
   "metadata": {},
   "source": [
    "Some strange unit values used here:\n",
    "- ins: instar\n",
    "- stg: stage \n",
    "- dph: days post hatch\n",
    "- go: gosner stage\n",
    "- yc: year class\n",
    "- hph: hours post hatch\n",
    "\n",
    "Full list in **data/DataCodes.pdf (Appendix I)**"
   ]
  },
  {
   "cell_type": "markdown",
   "metadata": {},
   "source": [
    "Looking to the top cases:"
   ]
  },
  {
   "cell_type": "code",
   "execution_count": 204,
   "metadata": {},
   "outputs": [
    {
     "data": {
      "text/plain": [
       "4          4120\n",
       "3          1690\n",
       "1          1249\n",
       "NR         1210\n",
       "2           953\n",
       "5            80\n",
       "6            33\n",
       "NaN           9\n",
       "12            8\n",
       "Z3            7\n",
       "4TH           6\n",
       "3RD           3\n",
       "13            2\n",
       "7             2\n",
       "LAST          2\n",
       "Z1            2\n",
       "8             1\n",
       "3RD-4TH       1\n",
       "10            1\n",
       "11            1\n",
       "9             1\n",
       "LATE          1\n",
       "Name: organism_age_mean, dtype: int64"
      ]
     },
     "execution_count": 204,
     "metadata": {},
     "output_type": "execute_result"
    }
   ],
   "source": [
    "df_org[df_org.organism_age_unit == \"ins\"].organism_age_mean.value_counts(dropna=False)"
   ]
  },
  {
   "cell_type": "code",
   "execution_count": 205,
   "metadata": {},
   "outputs": [
    {
     "data": {
      "text/plain": [
       "4         331\n",
       "1         229\n",
       "2         150\n",
       "NR        129\n",
       "3          99\n",
       "25         51\n",
       "8          32\n",
       "6          24\n",
       "5          23\n",
       "7          12\n",
       "10         12\n",
       "26         11\n",
       "46         11\n",
       "C          10\n",
       "9           7\n",
       "C OR D      6\n",
       "6A          6\n",
       "21          6\n",
       "CI-CIV      4\n",
       "11          4\n",
       "53          4\n",
       "Z1          4\n",
       "49          4\n",
       "47          4\n",
       "45          4\n",
       "48.5        4\n",
       "15          4\n",
       "20          3\n",
       "12          3\n",
       "C1-C3       2\n",
       "39          2\n",
       "28          2\n",
       "13          2\n",
       "42          2\n",
       "14          2\n",
       "D3-D4       1\n",
       "16          1\n",
       "C4          1\n",
       "30          1\n",
       "35          1\n",
       "D1-D2       1\n",
       "L4          1\n",
       "A-B         1\n",
       "24          1\n",
       "D0          1\n",
       "54          1\n",
       "Name: organism_age_mean, dtype: int64"
      ]
     },
     "execution_count": 205,
     "metadata": {},
     "output_type": "execute_result"
    }
   ],
   "source": [
    "df_org[df_org.organism_age_unit == \"stg\"].organism_age_mean.value_counts(dropna=False)"
   ]
  },
  {
   "cell_type": "code",
   "execution_count": 206,
   "metadata": {},
   "outputs": [
    {
     "data": {
      "text/plain": [
       "NR     465\n",
       "14     254\n",
       "4       50\n",
       "1       38\n",
       "7       38\n",
       "      ... \n",
       "167      1\n",
       "46       1\n",
       "43       1\n",
       "41       1\n",
       "74       1\n",
       "Name: organism_age_mean, Length: 63, dtype: int64"
      ]
     },
     "execution_count": 206,
     "metadata": {},
     "output_type": "execute_result"
    }
   ],
   "source": [
    "df_org[df_org.organism_age_unit == \"dph\"].organism_age_mean.value_counts(dropna=False)"
   ]
  },
  {
   "cell_type": "code",
   "execution_count": 207,
   "metadata": {},
   "outputs": [
    {
     "data": {
      "text/plain": [
       "25    174\n",
       "NR    110\n",
       "26     20\n",
       "36      8\n",
       "19      5\n",
       "46      4\n",
       "11      2\n",
       "21      1\n",
       "29      1\n",
       "33      1\n",
       "Name: organism_age_mean, dtype: int64"
      ]
     },
     "execution_count": 207,
     "metadata": {},
     "output_type": "execute_result"
    }
   ],
   "source": [
    "df_org[df_org.organism_age_unit == \"go\"].organism_age_mean.value_counts(dropna=False)"
   ]
  },
  {
   "cell_type": "code",
   "execution_count": 208,
   "metadata": {},
   "outputs": [
    {
     "data": {
      "text/plain": [
       "2    152\n",
       "1    120\n",
       "Name: organism_age_mean, dtype: int64"
      ]
     },
     "execution_count": 208,
     "metadata": {},
     "output_type": "execute_result"
    }
   ],
   "source": [
    "df_org[df_org.organism_age_unit == \"yc\"].organism_age_mean.value_counts(dropna=False)"
   ]
  },
  {
   "cell_type": "code",
   "execution_count": 210,
   "metadata": {
    "scrolled": true
   },
   "outputs": [
    {
     "data": {
      "text/plain": [
       "24    181\n",
       "8      17\n",
       "12     16\n",
       "NR     10\n",
       "1       9\n",
       "72      6\n",
       "4       4\n",
       "7       4\n",
       "48      2\n",
       "2       2\n",
       "3       1\n",
       "Name: organism_age_mean, dtype: int64"
      ]
     },
     "execution_count": 210,
     "metadata": {},
     "output_type": "execute_result"
    }
   ],
   "source": [
    "df_org[df_org.organism_age_unit == \"hph\"].organism_age_mean.value_counts(dropna=False)"
   ]
  },
  {
   "cell_type": "code",
   "execution_count": 211,
   "metadata": {},
   "outputs": [
    {
     "data": {
      "text/plain": [
       "NR    138\n",
       "2      38\n",
       "4      30\n",
       "1      16\n",
       "3      11\n",
       "6       1\n",
       "Name: organism_age_mean, dtype: int64"
      ]
     },
     "execution_count": 211,
     "metadata": {},
     "output_type": "execute_result"
    }
   ],
   "source": [
    "df_org[df_org.organism_age_unit == \"ls\"].organism_age_mean.value_counts(dropna=False)"
   ]
  },
  {
   "cell_type": "markdown",
   "metadata": {},
   "source": [
    "**Here we don't have a lot of NaN**:\n",
    "in my opinion if we want to use this feature we need to:\n",
    "1. Put all in the same unit of measure or\n",
    "2. Categorize the most important units"
   ]
  },
  {
   "cell_type": "markdown",
   "metadata": {},
   "source": [
    "### EXPOSURES"
   ]
  },
  {
   "cell_type": "code",
   "execution_count": 213,
   "metadata": {
    "jupyter": {
     "outputs_hidden": true
    },
    "scrolled": true
   },
   "outputs": [
    {
     "data": {
      "text/html": [
       "<div>\n",
       "<style scoped>\n",
       "    .dataframe tbody tr th:only-of-type {\n",
       "        vertical-align: middle;\n",
       "    }\n",
       "\n",
       "    .dataframe tbody tr th {\n",
       "        vertical-align: top;\n",
       "    }\n",
       "\n",
       "    .dataframe thead th {\n",
       "        text-align: right;\n",
       "    }\n",
       "</style>\n",
       "<table border=\"1\" class=\"dataframe\">\n",
       "  <thead>\n",
       "    <tr style=\"text-align: right;\">\n",
       "      <th></th>\n",
       "      <th>null_values_inc_NC_NR%</th>\n",
       "      <th>#outputs</th>\n",
       "    </tr>\n",
       "  </thead>\n",
       "  <tbody>\n",
       "    <tr>\n",
       "      <td>exposure_duration_mean_op</td>\n",
       "      <td>99.6701</td>\n",
       "      <td>6</td>\n",
       "    </tr>\n",
       "    <tr>\n",
       "      <td>exposure_duration_mean</td>\n",
       "      <td>73.6149</td>\n",
       "      <td>176</td>\n",
       "    </tr>\n",
       "    <tr>\n",
       "      <td>exposure_duration_min_op</td>\n",
       "      <td>99.9973</td>\n",
       "      <td>2</td>\n",
       "    </tr>\n",
       "    <tr>\n",
       "      <td>exposure_duration_min</td>\n",
       "      <td>99.4814</td>\n",
       "      <td>31</td>\n",
       "    </tr>\n",
       "    <tr>\n",
       "      <td>exposure_duration_max_op</td>\n",
       "      <td>99.9973</td>\n",
       "      <td>2</td>\n",
       "    </tr>\n",
       "    <tr>\n",
       "      <td>exposure_duration_max</td>\n",
       "      <td>99.4814</td>\n",
       "      <td>38</td>\n",
       "    </tr>\n",
       "    <tr>\n",
       "      <td>exposure_duration_unit</td>\n",
       "      <td>72.7731</td>\n",
       "      <td>29</td>\n",
       "    </tr>\n",
       "    <tr>\n",
       "      <td>exposure_duration_comments</td>\n",
       "      <td>99.8247</td>\n",
       "      <td>18</td>\n",
       "    </tr>\n",
       "    <tr>\n",
       "      <td>exposure_type</td>\n",
       "      <td>8.4424</td>\n",
       "      <td>62</td>\n",
       "    </tr>\n",
       "    <tr>\n",
       "      <td>exposure_type_comments</td>\n",
       "      <td>99.8802</td>\n",
       "      <td>8</td>\n",
       "    </tr>\n",
       "  </tbody>\n",
       "</table>\n",
       "</div>"
      ],
      "text/plain": [
       "                           null_values_inc_NC_NR% #outputs\n",
       "exposure_duration_mean_op                 99.6701        6\n",
       "exposure_duration_mean                    73.6149      176\n",
       "exposure_duration_min_op                  99.9973        2\n",
       "exposure_duration_min                     99.4814       31\n",
       "exposure_duration_max_op                  99.9973        2\n",
       "exposure_duration_max                     99.4814       38\n",
       "exposure_duration_unit                    72.7731       29\n",
       "exposure_duration_comments                99.8247       18\n",
       "exposure_type                              8.4424       62\n",
       "exposure_type_comments                    99.8802        8"
      ]
     },
     "execution_count": 213,
     "metadata": {},
     "output_type": "execute_result"
    }
   ],
   "source": [
    "# Computing dataframe for exposure\n",
    "df_exp_nan, exp_list = null_output_counts(\"exposure\", test)\n",
    "df_exp_nan"
   ]
  },
  {
   "cell_type": "markdown",
   "metadata": {},
   "source": [
    "**73%** of the exposure_duration_mean (most interesting feature here are **missing**).  \n",
    "Moving on considering duration_unit and mean "
   ]
  },
  {
   "cell_type": "code",
   "execution_count": 164,
   "metadata": {},
   "outputs": [],
   "source": [
    "exp_intrs = [\"exposure_duration_unit\", \"exposure_duration_mean\"]\n",
    "df_exp = test[exp_intrs]"
   ]
  },
  {
   "cell_type": "markdown",
   "metadata": {},
   "source": [
    "Counting the number of each value:"
   ]
  },
  {
   "cell_type": "code",
   "execution_count": 161,
   "metadata": {
    "scrolled": false
   },
   "outputs": [
    {
     "data": {
      "text/plain": [
       "NC      108744\n",
       "h        27017\n",
       "d        11308\n",
       "wk        1275\n",
       "mi         385\n",
       "em         260\n",
       "ht          93\n",
       "dpe         57\n",
       "cd          56\n",
       "s           45\n",
       "lva         41\n",
       "mo          36\n",
       "lvp         22\n",
       "wpe         21\n",
       "NaN         14\n",
       "dph         11\n",
       "yr           9\n",
       "dpgm         8\n",
       "ma           8\n",
       "ins          7\n",
       "ge           6\n",
       "hv           6\n",
       "ep           6\n",
       "brd          3\n",
       "gm           3\n",
       "hpf          2\n",
       "lf           2\n",
       "hpe          2\n",
       "stg          1\n",
       "Name: exposure_duration_unit, dtype: int64"
      ]
     },
     "execution_count": 161,
     "metadata": {},
     "output_type": "execute_result"
    }
   ],
   "source": [
    "exposure_duration_unit_counts = df_exp.exposure_duration_unit.value_counts(dropna=False)\n",
    "exposure_duration_unit_counts"
   ]
  },
  {
   "cell_type": "markdown",
   "metadata": {},
   "source": [
    "**108744 NC + 14 NaN**.  \n",
    "Reflecting in exposure_duration_mean:"
   ]
  },
  {
   "cell_type": "code",
   "execution_count": 167,
   "metadata": {},
   "outputs": [
    {
     "data": {
      "text/plain": [
       "NC    108744\n",
       "Name: exposure_duration_mean, dtype: int64"
      ]
     },
     "execution_count": 167,
     "metadata": {},
     "output_type": "execute_result"
    }
   ],
   "source": [
    "df_exp[df_exp.exposure_duration_unit == \"NC\"].exposure_duration_mean.value_counts(dropna=False)"
   ]
  },
  {
   "cell_type": "markdown",
   "metadata": {},
   "source": [
    "Same number: **all NC** from one side have the same NC in duration_mean"
   ]
  },
  {
   "cell_type": "markdown",
   "metadata": {},
   "source": [
    "Duration unit meanings:\n",
    "- h/d/wk/mi/s/mo/yr = hour/day/weeks/minute/seconds/month/years\n",
    "- em: to emergence\n",
    "- ht: until hatch\n",
    "- dpe: days post-emergence\n",
    "- cd: colony diameter\n",
    "- lva: larva to adult\n",
    "- lvp: larva to pupa\n",
    "- wpe: weeks post emergence\n",
    "- dph: days post hatch\n",
    "- dpgm: days post germination\n",
    "- ma: to maturity\n",
    "- ins: instar\n",
    "- ge: generation\n",
    "- hv: harvest\n",
    "- ep: egg to pupation\n",
    "- brd: brood or litter\n",
    "- hpf: hours post fertilization\n",
    "- lf: lifetime (no associated numeric value)\n",
    "- hpe: hours post emergence\n",
    "- stg: stage  \n",
    "\n",
    "Full list in **data/DataCodes.pdf (Appendix I)**\n",
    "\n",
    "Considering the top cases for strange units:"
   ]
  },
  {
   "cell_type": "code",
   "execution_count": 168,
   "metadata": {},
   "outputs": [
    {
     "data": {
      "text/plain": [
       "NaN    246\n",
       "NR      14\n",
       "Name: exposure_duration_mean, dtype: int64"
      ]
     },
     "execution_count": 168,
     "metadata": {},
     "output_type": "execute_result"
    }
   ],
   "source": [
    "df_exp[df_exp.exposure_duration_unit == \"em\"].exposure_duration_mean.value_counts(dropna=False)"
   ]
  },
  {
   "cell_type": "code",
   "execution_count": 169,
   "metadata": {},
   "outputs": [
    {
     "data": {
      "text/plain": [
       "NaN    85\n",
       "NR      8\n",
       "Name: exposure_duration_mean, dtype: int64"
      ]
     },
     "execution_count": 169,
     "metadata": {},
     "output_type": "execute_result"
    }
   ],
   "source": [
    "df_exp[df_exp.exposure_duration_unit == \"ht\"].exposure_duration_mean.value_counts(dropna=False)"
   ]
  },
  {
   "cell_type": "code",
   "execution_count": 170,
   "metadata": {},
   "outputs": [
    {
     "data": {
      "text/plain": [
       "14    48\n",
       "2      4\n",
       "3      4\n",
       "5      1\n",
       "Name: exposure_duration_mean, dtype: int64"
      ]
     },
     "execution_count": 170,
     "metadata": {},
     "output_type": "execute_result"
    }
   ],
   "source": [
    "df_exp[df_exp.exposure_duration_unit == \"dpe\"].exposure_duration_mean.value_counts(dropna=False)"
   ]
  },
  {
   "cell_type": "code",
   "execution_count": 171,
   "metadata": {},
   "outputs": [
    {
     "data": {
      "text/plain": [
       "NaN    56\n",
       "Name: exposure_duration_mean, dtype: int64"
      ]
     },
     "execution_count": 171,
     "metadata": {},
     "output_type": "execute_result"
    }
   ],
   "source": [
    "df_exp[df_exp.exposure_duration_unit == \"cd\"].exposure_duration_mean.value_counts(dropna=False)"
   ]
  },
  {
   "cell_type": "code",
   "execution_count": 173,
   "metadata": {},
   "outputs": [
    {
     "data": {
      "text/plain": [
       "NaN    41\n",
       "Name: exposure_duration_mean, dtype: int64"
      ]
     },
     "execution_count": 173,
     "metadata": {},
     "output_type": "execute_result"
    }
   ],
   "source": [
    "df_exp[df_exp.exposure_duration_unit == \"lva\"].exposure_duration_mean.value_counts(dropna=False)"
   ]
  },
  {
   "cell_type": "code",
   "execution_count": 174,
   "metadata": {},
   "outputs": [
    {
     "data": {
      "text/plain": [
       "NaN    22\n",
       "Name: exposure_duration_mean, dtype: int64"
      ]
     },
     "execution_count": 174,
     "metadata": {},
     "output_type": "execute_result"
    }
   ],
   "source": [
    "df_exp[df_exp.exposure_duration_unit == \"lvp\"].exposure_duration_mean.value_counts(dropna=False)"
   ]
  },
  {
   "cell_type": "code",
   "execution_count": 175,
   "metadata": {},
   "outputs": [
    {
     "data": {
      "text/plain": [
       "28    8\n",
       "4     2\n",
       "1     1\n",
       "Name: exposure_duration_mean, dtype: int64"
      ]
     },
     "execution_count": 175,
     "metadata": {},
     "output_type": "execute_result"
    }
   ],
   "source": [
    "df_exp[df_exp.exposure_duration_unit == \"dph\"].exposure_duration_mean.value_counts(dropna=False)"
   ]
  },
  {
   "cell_type": "code",
   "execution_count": 176,
   "metadata": {},
   "outputs": [
    {
     "data": {
      "text/plain": [
       "21    8\n",
       "Name: exposure_duration_mean, dtype: int64"
      ]
     },
     "execution_count": 176,
     "metadata": {},
     "output_type": "execute_result"
    }
   ],
   "source": [
    "df_exp[df_exp.exposure_duration_unit == \"dpgm\"].exposure_duration_mean.value_counts(dropna=False)"
   ]
  },
  {
   "cell_type": "code",
   "execution_count": 177,
   "metadata": {},
   "outputs": [
    {
     "data": {
      "text/plain": [
       "NaN    8\n",
       "Name: exposure_duration_mean, dtype: int64"
      ]
     },
     "execution_count": 177,
     "metadata": {},
     "output_type": "execute_result"
    }
   ],
   "source": [
    "df_exp[df_exp.exposure_duration_unit == \"ma\"].exposure_duration_mean.value_counts(dropna=False)"
   ]
  },
  {
   "cell_type": "markdown",
   "metadata": {},
   "source": [
    "**Many of this cases have just NaN or NR** -> What should we do with this feature?"
   ]
  },
  {
   "cell_type": "markdown",
   "metadata": {},
   "source": [
    "### CONCENTRATIONS"
   ]
  },
  {
   "cell_type": "code",
   "execution_count": 216,
   "metadata": {
    "jupyter": {
     "outputs_hidden": true
    }
   },
   "outputs": [
    {
     "data": {
      "text/html": [
       "<div>\n",
       "<style scoped>\n",
       "    .dataframe tbody tr th:only-of-type {\n",
       "        vertical-align: middle;\n",
       "    }\n",
       "\n",
       "    .dataframe tbody tr th {\n",
       "        vertical-align: top;\n",
       "    }\n",
       "\n",
       "    .dataframe thead th {\n",
       "        text-align: right;\n",
       "    }\n",
       "</style>\n",
       "<table border=\"1\" class=\"dataframe\">\n",
       "  <thead>\n",
       "    <tr style=\"text-align: right;\">\n",
       "      <th></th>\n",
       "      <th>null_values_inc_NC_NR%</th>\n",
       "      <th>#outputs</th>\n",
       "    </tr>\n",
       "  </thead>\n",
       "  <tbody>\n",
       "    <tr>\n",
       "      <td>conc1_type</td>\n",
       "      <td>3.81489</td>\n",
       "      <td>8</td>\n",
       "    </tr>\n",
       "    <tr>\n",
       "      <td>conc1_mean_op</td>\n",
       "      <td>89.7413</td>\n",
       "      <td>6</td>\n",
       "    </tr>\n",
       "    <tr>\n",
       "      <td>conc1_mean</td>\n",
       "      <td>4.37073</td>\n",
       "      <td>22896</td>\n",
       "    </tr>\n",
       "    <tr>\n",
       "      <td>conc1_min_op</td>\n",
       "      <td>96.6921</td>\n",
       "      <td>5</td>\n",
       "    </tr>\n",
       "    <tr>\n",
       "      <td>conc1_min</td>\n",
       "      <td>49.3594</td>\n",
       "      <td>15014</td>\n",
       "    </tr>\n",
       "    <tr>\n",
       "      <td>conc1_max_op</td>\n",
       "      <td>96.6824</td>\n",
       "      <td>5</td>\n",
       "    </tr>\n",
       "    <tr>\n",
       "      <td>conc1_max</td>\n",
       "      <td>49.3588</td>\n",
       "      <td>17726</td>\n",
       "    </tr>\n",
       "    <tr>\n",
       "      <td>conc1_unit</td>\n",
       "      <td>0.0307798</td>\n",
       "      <td>239</td>\n",
       "    </tr>\n",
       "    <tr>\n",
       "      <td>conc1_comments</td>\n",
       "      <td>93.6974</td>\n",
       "      <td>598</td>\n",
       "    </tr>\n",
       "    <tr>\n",
       "      <td>conc2_type</td>\n",
       "      <td>98.8509</td>\n",
       "      <td>6</td>\n",
       "    </tr>\n",
       "    <tr>\n",
       "      <td>conc2_mean_op</td>\n",
       "      <td>99.965</td>\n",
       "      <td>5</td>\n",
       "    </tr>\n",
       "    <tr>\n",
       "      <td>conc2_mean</td>\n",
       "      <td>98.9625</td>\n",
       "      <td>1178</td>\n",
       "    </tr>\n",
       "    <tr>\n",
       "      <td>conc2_min_op</td>\n",
       "      <td>99.9614</td>\n",
       "      <td>2</td>\n",
       "    </tr>\n",
       "    <tr>\n",
       "      <td>conc2_min</td>\n",
       "      <td>99.2987</td>\n",
       "      <td>855</td>\n",
       "    </tr>\n",
       "    <tr>\n",
       "      <td>conc2_max_op</td>\n",
       "      <td>99.9614</td>\n",
       "      <td>2</td>\n",
       "    </tr>\n",
       "    <tr>\n",
       "      <td>conc2_max</td>\n",
       "      <td>99.2987</td>\n",
       "      <td>892</td>\n",
       "    </tr>\n",
       "    <tr>\n",
       "      <td>conc2_unit</td>\n",
       "      <td>98.9131</td>\n",
       "      <td>16</td>\n",
       "    </tr>\n",
       "    <tr>\n",
       "      <td>conc2_comments</td>\n",
       "      <td>99.9264</td>\n",
       "      <td>12</td>\n",
       "    </tr>\n",
       "    <tr>\n",
       "      <td>conc3_type</td>\n",
       "      <td>99.9837</td>\n",
       "      <td>2</td>\n",
       "    </tr>\n",
       "    <tr>\n",
       "      <td>conc3_mean_op</td>\n",
       "      <td>100</td>\n",
       "      <td>1</td>\n",
       "    </tr>\n",
       "    <tr>\n",
       "      <td>conc3_mean</td>\n",
       "      <td>99.9837</td>\n",
       "      <td>28</td>\n",
       "    </tr>\n",
       "    <tr>\n",
       "      <td>conc3_min_op</td>\n",
       "      <td>100</td>\n",
       "      <td>1</td>\n",
       "    </tr>\n",
       "    <tr>\n",
       "      <td>conc3_min</td>\n",
       "      <td>99.9837</td>\n",
       "      <td>27</td>\n",
       "    </tr>\n",
       "    <tr>\n",
       "      <td>conc3_max_op</td>\n",
       "      <td>100</td>\n",
       "      <td>1</td>\n",
       "    </tr>\n",
       "    <tr>\n",
       "      <td>conc3_max</td>\n",
       "      <td>99.9837</td>\n",
       "      <td>28</td>\n",
       "    </tr>\n",
       "    <tr>\n",
       "      <td>conc3_unit</td>\n",
       "      <td>99.9837</td>\n",
       "      <td>3</td>\n",
       "    </tr>\n",
       "    <tr>\n",
       "      <td>conc3_comments</td>\n",
       "      <td>99.9988</td>\n",
       "      <td>2</td>\n",
       "    </tr>\n",
       "  </tbody>\n",
       "</table>\n",
       "</div>"
      ],
      "text/plain": [
       "               null_values_inc_NC_NR% #outputs\n",
       "conc1_type                    3.81489        8\n",
       "conc1_mean_op                 89.7413        6\n",
       "conc1_mean                    4.37073    22896\n",
       "conc1_min_op                  96.6921        5\n",
       "conc1_min                     49.3594    15014\n",
       "conc1_max_op                  96.6824        5\n",
       "conc1_max                     49.3588    17726\n",
       "conc1_unit                  0.0307798      239\n",
       "conc1_comments                93.6974      598\n",
       "conc2_type                    98.8509        6\n",
       "conc2_mean_op                  99.965        5\n",
       "conc2_mean                    98.9625     1178\n",
       "conc2_min_op                  99.9614        2\n",
       "conc2_min                     99.2987      855\n",
       "conc2_max_op                  99.9614        2\n",
       "conc2_max                     99.2987      892\n",
       "conc2_unit                    98.9131       16\n",
       "conc2_comments                99.9264       12\n",
       "conc3_type                    99.9837        2\n",
       "conc3_mean_op                     100        1\n",
       "conc3_mean                    99.9837       28\n",
       "conc3_min_op                      100        1\n",
       "conc3_min                     99.9837       27\n",
       "conc3_max_op                      100        1\n",
       "conc3_max                     99.9837       28\n",
       "conc3_unit                    99.9837        3\n",
       "conc3_comments                99.9988        2"
      ]
     },
     "execution_count": 216,
     "metadata": {},
     "output_type": "execute_result"
    }
   ],
   "source": [
    "# Computing dataframe for concentrations\n",
    "df_conc_nan, conc_list = null_output_counts(\"conc\", results)\n",
    "df_conc_nan"
   ]
  },
  {
   "cell_type": "markdown",
   "metadata": {},
   "source": [
    "Only **conc1 seems useful**:"
   ]
  },
  {
   "cell_type": "code",
   "execution_count": 217,
   "metadata": {},
   "outputs": [
    {
     "data": {
      "text/html": [
       "<div>\n",
       "<style scoped>\n",
       "    .dataframe tbody tr th:only-of-type {\n",
       "        vertical-align: middle;\n",
       "    }\n",
       "\n",
       "    .dataframe tbody tr th {\n",
       "        vertical-align: top;\n",
       "    }\n",
       "\n",
       "    .dataframe thead th {\n",
       "        text-align: right;\n",
       "    }\n",
       "</style>\n",
       "<table border=\"1\" class=\"dataframe\">\n",
       "  <thead>\n",
       "    <tr style=\"text-align: right;\">\n",
       "      <th></th>\n",
       "      <th>null_values_inc_NC_NR%</th>\n",
       "      <th>#outputs</th>\n",
       "    </tr>\n",
       "  </thead>\n",
       "  <tbody>\n",
       "    <tr>\n",
       "      <td>conc1_type</td>\n",
       "      <td>3.81489</td>\n",
       "      <td>8</td>\n",
       "    </tr>\n",
       "    <tr>\n",
       "      <td>conc1_mean_op</td>\n",
       "      <td>89.7413</td>\n",
       "      <td>6</td>\n",
       "    </tr>\n",
       "    <tr>\n",
       "      <td>conc1_mean</td>\n",
       "      <td>4.37073</td>\n",
       "      <td>22896</td>\n",
       "    </tr>\n",
       "    <tr>\n",
       "      <td>conc1_min_op</td>\n",
       "      <td>96.6921</td>\n",
       "      <td>5</td>\n",
       "    </tr>\n",
       "    <tr>\n",
       "      <td>conc1_min</td>\n",
       "      <td>49.3594</td>\n",
       "      <td>15014</td>\n",
       "    </tr>\n",
       "    <tr>\n",
       "      <td>conc1_max_op</td>\n",
       "      <td>96.6824</td>\n",
       "      <td>5</td>\n",
       "    </tr>\n",
       "    <tr>\n",
       "      <td>conc1_max</td>\n",
       "      <td>49.3588</td>\n",
       "      <td>17726</td>\n",
       "    </tr>\n",
       "    <tr>\n",
       "      <td>conc1_unit</td>\n",
       "      <td>0.0307798</td>\n",
       "      <td>239</td>\n",
       "    </tr>\n",
       "    <tr>\n",
       "      <td>conc1_comments</td>\n",
       "      <td>93.6974</td>\n",
       "      <td>598</td>\n",
       "    </tr>\n",
       "  </tbody>\n",
       "</table>\n",
       "</div>"
      ],
      "text/plain": [
       "               null_values_inc_NC_NR% #outputs\n",
       "conc1_type                    3.81489        8\n",
       "conc1_mean_op                 89.7413        6\n",
       "conc1_mean                    4.37073    22896\n",
       "conc1_min_op                  96.6921        5\n",
       "conc1_min                     49.3594    15014\n",
       "conc1_max_op                  96.6824        5\n",
       "conc1_max                     49.3588    17726\n",
       "conc1_unit                  0.0307798      239\n",
       "conc1_comments                93.6974      598"
      ]
     },
     "execution_count": 217,
     "metadata": {},
     "output_type": "execute_result"
    }
   ],
   "source": [
    "# Computing dataframe for concentration 1\n",
    "df_conc_nan, conc_list = null_output_counts(\"conc1\", results)\n",
    "df_conc_nan"
   ]
  },
  {
   "cell_type": "markdown",
   "metadata": {},
   "source": [
    "As usual, considering the **mean and unit**. Useful to look also to type:"
   ]
  },
  {
   "cell_type": "code",
   "execution_count": 218,
   "metadata": {},
   "outputs": [],
   "source": [
    "conc_intrs = ['conc1_type', 'conc1_mean', 'conc1_unit']\n",
    "df_conc = results[conc_intrs]"
   ]
  },
  {
   "cell_type": "code",
   "execution_count": 220,
   "metadata": {},
   "outputs": [
    {
     "data": {
      "text/plain": [
       "A     70512\n",
       "F     43190\n",
       "T     41105\n",
       "NC     6307\n",
       "D      3294\n",
       "U       972\n",
       "L       299\n",
       "NR       14\n",
       "Name: conc1_type, dtype: int64"
      ]
     },
     "execution_count": 220,
     "metadata": {},
     "output_type": "execute_result"
    }
   ],
   "source": [
    "df_conc.conc1_type.value_counts()"
   ]
  },
  {
   "cell_type": "markdown",
   "metadata": {},
   "source": [
    "**Small number of NaN, few categories: could be useful as categorical**\n",
    "Definitions:\n",
    "- A: Active ingredients\n",
    "- F: Formulation\n",
    "- D: Dissolved\n",
    "- L: Labile\n",
    "- T: Total\n",
    "- U: Unionized"
   ]
  },
  {
   "cell_type": "markdown",
   "metadata": {},
   "source": [
    "Considering now units:"
   ]
  },
  {
   "cell_type": "code",
   "execution_count": 224,
   "metadata": {},
   "outputs": [
    {
     "data": {
      "text/plain": [
       "ug/L             78499\n",
       "mg/L             30896\n",
       "ppm              14452\n",
       "AI ug/L           6174\n",
       "AI mg/L           5170\n",
       "                 ...  \n",
       "mg/L/h               1\n",
       "mg/L 10 mi           1\n",
       "ng/g egg             1\n",
       "nmol/kg              1\n",
       "AI ug/100 cm2        1\n",
       "Name: conc1_unit, Length: 239, dtype: int64"
      ]
     },
     "execution_count": 224,
     "metadata": {},
     "output_type": "execute_result"
    }
   ],
   "source": [
    "conc_unit_counts = df_conc.conc1_unit.value_counts(dropna=False)\n",
    "conc_unit_counts"
   ]
  },
  {
   "cell_type": "markdown",
   "metadata": {},
   "source": [
    "**239 different concentrations**: how to deal with all these different units?  \n",
    "**_AI_** is active ingredients -> What's the difference with the normal case?"
   ]
  },
  {
   "cell_type": "code",
   "execution_count": 227,
   "metadata": {},
   "outputs": [
    {
     "data": {
      "text/plain": [
       "ug/L              78499\n",
       "mg/L              30896\n",
       "ppm               14452\n",
       "AI ug/L            6174\n",
       "AI mg/L            5170\n",
       "ppb                4052\n",
       "uM                 2356\n",
       "ug/ml              1716\n",
       "mg/kg              1461\n",
       "ul/L               1355\n",
       "mM                 1069\n",
       "umol/L             1056\n",
       "AI ppm food        1055\n",
       "AI ppm              916\n",
       "mg/kg soil          827\n",
       "mg/kg dry soil      824\n",
       "%                   695\n",
       "nM                  628\n",
       "AI ug/ml            573\n",
       "ng/L                507\n",
       "ug/cm2              490\n",
       "ug/g soil           446\n",
       "AI %                426\n",
       "mmol/L              422\n",
       "g/L                 388\n",
       "mg/ml               386\n",
       "ae mg/L             380\n",
       "M                   378\n",
       "nmol/L              363\n",
       "ug/eu               358\n",
       "Name: conc1_unit, dtype: int64"
      ]
     },
     "execution_count": 227,
     "metadata": {},
     "output_type": "execute_result"
    }
   ],
   "source": [
    "conc_unit_counts.head(30)"
   ]
  },
  {
   "cell_type": "markdown",
   "metadata": {},
   "source": [
    "As we see, there are a lot of different unit and all makes sense. More details in **data/DataCodes.pdf (Appendix N & W)**"
   ]
  },
  {
   "cell_type": "markdown",
   "metadata": {},
   "source": [
    "A closer look to the first case:"
   ]
  },
  {
   "cell_type": "code",
   "execution_count": 225,
   "metadata": {
    "scrolled": true
   },
   "outputs": [
    {
     "data": {
      "text/plain": [
       "NR         3885\n",
       "1000        758\n",
       "10000       683\n",
       "100000      544\n",
       "100         485\n",
       "           ... \n",
       "5.40          1\n",
       "7460000       1\n",
       "552.8         1\n",
       "305900        1\n",
       "55190         1\n",
       "Name: conc1_mean, Length: 12428, dtype: int64"
      ]
     },
     "execution_count": 225,
     "metadata": {},
     "output_type": "execute_result"
    }
   ],
   "source": [
    "df_conc[df_conc.conc1_unit == \"ug/L\"].conc1_mean.value_counts(dropna=False)"
   ]
  },
  {
   "cell_type": "markdown",
   "metadata": {},
   "source": [
    "**Concentration is a variable we need for sure**. We should fix it, proposed solutions are the same as for organisms:\n",
    "- Considering a categorical definition\n",
    "- All in the same units"
   ]
  }
 ],
 "metadata": {
  "kernelspec": {
   "display_name": "Python 3",
   "language": "python",
   "name": "python3"
  },
  "language_info": {
   "codemirror_mode": {
    "name": "ipython",
    "version": 3
   },
   "file_extension": ".py",
   "mimetype": "text/x-python",
   "name": "python",
   "nbconvert_exporter": "python",
   "pygments_lexer": "ipython3",
   "version": "3.7.4"
  },
  "latex_envs": {
   "LaTeX_envs_menu_present": true,
   "autoclose": false,
   "autocomplete": true,
   "bibliofile": "biblio.bib",
   "cite_by": "apalike",
   "current_citInitial": 1,
   "eqLabelWithNumbers": true,
   "eqNumInitial": 1,
   "hotkeys": {
    "equation": "Ctrl-E",
    "itemize": "Ctrl-I"
   },
   "labels_anchors": false,
   "latex_user_defs": false,
   "report_style_numbering": false,
   "user_envs_cfg": false
  },
  "varInspector": {
   "cols": {
    "lenName": 16,
    "lenType": 16,
    "lenVar": 40
   },
   "kernels_config": {
    "python": {
     "delete_cmd_postfix": "",
     "delete_cmd_prefix": "del ",
     "library": "var_list.py",
     "varRefreshCmd": "print(var_dic_list())"
    },
    "r": {
     "delete_cmd_postfix": ") ",
     "delete_cmd_prefix": "rm(",
     "library": "var_list.r",
     "varRefreshCmd": "cat(var_dic_list()) "
    }
   },
   "types_to_exclude": [
    "module",
    "function",
    "builtin_function_or_method",
    "instance",
    "_Feature"
   ],
   "window_display": false
  }
 },
 "nbformat": 4,
 "nbformat_minor": 4
}
