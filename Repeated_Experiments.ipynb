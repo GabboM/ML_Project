{
 "cells": [
  {
   "cell_type": "code",
   "execution_count": 1,
   "metadata": {},
   "outputs": [],
   "source": [
    "import pandas as pd\n",
    "import numpy as np\n",
    "import matplotlib.pyplot as plt\n",
    "import seaborn as sns\n",
    "import re\n",
    "from sklearn.preprocessing import StandardScaler\n",
    "from sklearn.preprocessing import MinMaxScaler"
   ]
  },
  {
   "cell_type": "code",
   "execution_count": 2,
   "metadata": {},
   "outputs": [],
   "source": [
    "from sklearn.model_selection import train_test_split\n",
    "from sklearn.neighbors import KNeighborsClassifier\n",
    "from sklearn.metrics import accuracy_score\n",
    "from sklearn.ensemble import RandomForestClassifier\n",
    "from sklearn.ensemble import GradientBoostingClassifier\n",
    "from sklearn.model_selection import GridSearchCV\n",
    "from sklearn.linear_model import RidgeCV\n",
    "from sklearn.metrics import mean_squared_error"
   ]
  },
  {
   "cell_type": "code",
   "execution_count": 3,
   "metadata": {},
   "outputs": [],
   "source": [
    "plt.rcParams['figure.figsize'] = (15, 8)"
   ]
  },
  {
   "cell_type": "code",
   "execution_count": 5,
   "metadata": {},
   "outputs": [],
   "source": [
    "base_db = pd.read_csv(\"output/base_db.csv\").drop(columns=\"Unnamed: 0\")"
   ]
  },
  {
   "cell_type": "markdown",
   "metadata": {},
   "source": [
    "# Repeated experiments"
   ]
  },
  {
   "cell_type": "markdown",
   "metadata": {},
   "source": [
    "**Considering only the top case duration experiments**"
   ]
  },
  {
   "cell_type": "code",
   "execution_count": 11,
   "metadata": {},
   "outputs": [
    {
     "data": {
      "text/plain": [
       "96.00     23807\n",
       "24.00     12040\n",
       "48.00      9878\n",
       "72.00      2949\n",
       "6.00        952\n",
       "          ...  \n",
       "720.00        1\n",
       "79.45         1\n",
       "0.35          1\n",
       "123.00        1\n",
       "142.00        1\n",
       "Name: obs_duration_mean, Length: 272, dtype: int64"
      ]
     },
     "execution_count": 11,
     "metadata": {},
     "output_type": "execute_result"
    }
   ],
   "source": [
    "base_db.obs_duration_mean.value_counts()"
   ]
  },
  {
   "cell_type": "code",
   "execution_count": 14,
   "metadata": {},
   "outputs": [
    {
     "data": {
      "text/plain": [
       "48674"
      ]
     },
     "execution_count": 14,
     "metadata": {},
     "output_type": "execute_result"
    }
   ],
   "source": [
    "base_db = base_db[base_db.obs_duration_mean.isin([96, 24, 48, 72])]\n",
    "base_db.index.size"
   ]
  },
  {
   "cell_type": "code",
   "execution_count": 28,
   "metadata": {},
   "outputs": [],
   "source": [
    "grouped_std = base_db.groupby([\"obs_duration_mean\", \"test_cas\", \"species\"]).std().dropna().reset_index()"
   ]
  },
  {
   "cell_type": "code",
   "execution_count": 53,
   "metadata": {},
   "outputs": [
    {
     "data": {
      "text/plain": [
       "6831    353482.679915\n",
       "5093     53103.719267\n",
       "4358     27734.305472\n",
       "5017     21791.676801\n",
       "4513     15563.420254\n",
       "            ...      \n",
       "7777         0.000000\n",
       "4860         0.000000\n",
       "6923         0.000000\n",
       "5270         0.000000\n",
       "5816         0.000000\n",
       "Name: conc1_mean, Length: 3638, dtype: float64"
      ]
     },
     "execution_count": 53,
     "metadata": {},
     "output_type": "execute_result"
    }
   ],
   "source": [
    "grouped_96h = grouped_std[grouped_std.obs_duration_mean==96]\n",
    "grouped_96h.conc1_mean.sort_values(ascending=False)"
   ]
  },
  {
   "cell_type": "code",
   "execution_count": 36,
   "metadata": {},
   "outputs": [
    {
     "data": {
      "text/plain": [
       "obs_duration_mean             96\n",
       "test_cas                 8012951\n",
       "species              macrochirus\n",
       "conc1_mean                353483\n",
       "Name: 6831, dtype: object"
      ]
     },
     "execution_count": 36,
     "metadata": {},
     "output_type": "execute_result"
    }
   ],
   "source": [
    "grouped_std.loc[6831]"
   ]
  },
  {
   "cell_type": "code",
   "execution_count": 38,
   "metadata": {},
   "outputs": [
    {
     "data": {
      "text/html": [
       "<div>\n",
       "<style scoped>\n",
       "    .dataframe tbody tr th:only-of-type {\n",
       "        vertical-align: middle;\n",
       "    }\n",
       "\n",
       "    .dataframe tbody tr th {\n",
       "        vertical-align: top;\n",
       "    }\n",
       "\n",
       "    .dataframe thead th {\n",
       "        text-align: right;\n",
       "    }\n",
       "</style>\n",
       "<table border=\"1\" class=\"dataframe\">\n",
       "  <thead>\n",
       "    <tr style=\"text-align: right;\">\n",
       "      <th></th>\n",
       "      <th>test_cas</th>\n",
       "      <th>exposure_type</th>\n",
       "      <th>obs_duration_mean</th>\n",
       "      <th>conc1_type</th>\n",
       "      <th>conc1_mean</th>\n",
       "      <th>class</th>\n",
       "      <th>tax_order</th>\n",
       "      <th>family</th>\n",
       "      <th>genus</th>\n",
       "      <th>species</th>\n",
       "      <th>organism_lifestage</th>\n",
       "      <th>organism_characteristics</th>\n",
       "      <th>ecotox_group</th>\n",
       "    </tr>\n",
       "  </thead>\n",
       "  <tbody>\n",
       "    <tr>\n",
       "      <td>21857</td>\n",
       "      <td>8012951</td>\n",
       "      <td>S</td>\n",
       "      <td>96.0</td>\n",
       "      <td>A</td>\n",
       "      <td>500000.0</td>\n",
       "      <td>Actinopterygii</td>\n",
       "      <td>Perciformes</td>\n",
       "      <td>Centrarchidae</td>\n",
       "      <td>Lepomis</td>\n",
       "      <td>macrochirus</td>\n",
       "      <td>NC</td>\n",
       "      <td>0.34 g</td>\n",
       "      <td>Fish,Standard Test Species</td>\n",
       "    </tr>\n",
       "    <tr>\n",
       "      <td>52635</td>\n",
       "      <td>8012951</td>\n",
       "      <td>S</td>\n",
       "      <td>96.0</td>\n",
       "      <td>A</td>\n",
       "      <td>100.0</td>\n",
       "      <td>Actinopterygii</td>\n",
       "      <td>Perciformes</td>\n",
       "      <td>Centrarchidae</td>\n",
       "      <td>Lepomis</td>\n",
       "      <td>macrochirus</td>\n",
       "      <td>NC</td>\n",
       "      <td>0.46 g</td>\n",
       "      <td>Fish,Standard Test Species</td>\n",
       "    </tr>\n",
       "  </tbody>\n",
       "</table>\n",
       "</div>"
      ],
      "text/plain": [
       "       test_cas exposure_type  obs_duration_mean conc1_type  conc1_mean  \\\n",
       "21857   8012951             S               96.0          A    500000.0   \n",
       "52635   8012951             S               96.0          A       100.0   \n",
       "\n",
       "                class    tax_order         family    genus      species  \\\n",
       "21857  Actinopterygii  Perciformes  Centrarchidae  Lepomis  macrochirus   \n",
       "52635  Actinopterygii  Perciformes  Centrarchidae  Lepomis  macrochirus   \n",
       "\n",
       "      organism_lifestage organism_characteristics                ecotox_group  \n",
       "21857                 NC                   0.34 g  Fish,Standard Test Species  \n",
       "52635                 NC                   0.46 g  Fish,Standard Test Species  "
      ]
     },
     "execution_count": 38,
     "metadata": {},
     "output_type": "execute_result"
    }
   ],
   "source": [
    "base_db[(base_db.obs_duration_mean==96) & (base_db.test_cas==8012951) & (base_db.species==\"macrochirus\")]"
   ]
  },
  {
   "cell_type": "code",
   "execution_count": null,
   "metadata": {},
   "outputs": [],
   "source": [
    "results_final= pd.read_pickle(\"data/results_final.pkl\")"
   ]
  },
  {
   "cell_type": "code",
   "execution_count": 48,
   "metadata": {},
   "outputs": [
    {
     "data": {
      "text/html": [
       "<div>\n",
       "<style scoped>\n",
       "    .dataframe tbody tr th:only-of-type {\n",
       "        vertical-align: middle;\n",
       "    }\n",
       "\n",
       "    .dataframe tbody tr th {\n",
       "        vertical-align: top;\n",
       "    }\n",
       "\n",
       "    .dataframe thead th {\n",
       "        text-align: right;\n",
       "    }\n",
       "</style>\n",
       "<table border=\"1\" class=\"dataframe\">\n",
       "  <thead>\n",
       "    <tr style=\"text-align: right;\">\n",
       "      <th></th>\n",
       "      <th>conc1_mean</th>\n",
       "      <th>conc1_unit</th>\n",
       "    </tr>\n",
       "  </thead>\n",
       "  <tbody>\n",
       "    <tr>\n",
       "      <td>25061</td>\n",
       "      <td>500000</td>\n",
       "      <td>ppm</td>\n",
       "    </tr>\n",
       "    <tr>\n",
       "      <td>36634</td>\n",
       "      <td>100</td>\n",
       "      <td>ppm</td>\n",
       "    </tr>\n",
       "    <tr>\n",
       "      <td>60143</td>\n",
       "      <td>100</td>\n",
       "      <td>ppm</td>\n",
       "    </tr>\n",
       "  </tbody>\n",
       "</table>\n",
       "</div>"
      ],
      "text/plain": [
       "      conc1_mean conc1_unit\n",
       "25061     500000        ppm\n",
       "36634        100        ppm\n",
       "60143        100        ppm"
      ]
     },
     "execution_count": 48,
     "metadata": {},
     "output_type": "execute_result"
    }
   ],
   "source": [
    "t = results_final[(results_final.test_cas==8012951) & (results_final.species==\"macrochirus\")]\n",
    "t[[\"conc1_mean\", \"conc1_unit\"]]"
   ]
  },
  {
   "cell_type": "code",
   "execution_count": 39,
   "metadata": {},
   "outputs": [
    {
     "data": {
      "text/plain": [
       "obs_duration_mean          96\n",
       "test_cas               111466\n",
       "species              promelas\n",
       "conc1_mean            53103.7\n",
       "Name: 5093, dtype: object"
      ]
     },
     "execution_count": 39,
     "metadata": {},
     "output_type": "execute_result"
    }
   ],
   "source": [
    "grouped_std.loc[5093]"
   ]
  },
  {
   "cell_type": "code",
   "execution_count": 41,
   "metadata": {},
   "outputs": [
    {
     "data": {
      "text/html": [
       "<div>\n",
       "<style scoped>\n",
       "    .dataframe tbody tr th:only-of-type {\n",
       "        vertical-align: middle;\n",
       "    }\n",
       "\n",
       "    .dataframe tbody tr th {\n",
       "        vertical-align: top;\n",
       "    }\n",
       "\n",
       "    .dataframe thead th {\n",
       "        text-align: right;\n",
       "    }\n",
       "</style>\n",
       "<table border=\"1\" class=\"dataframe\">\n",
       "  <thead>\n",
       "    <tr style=\"text-align: right;\">\n",
       "      <th></th>\n",
       "      <th>test_cas</th>\n",
       "      <th>exposure_type</th>\n",
       "      <th>obs_duration_mean</th>\n",
       "      <th>conc1_type</th>\n",
       "      <th>conc1_mean</th>\n",
       "      <th>class</th>\n",
       "      <th>tax_order</th>\n",
       "      <th>family</th>\n",
       "      <th>genus</th>\n",
       "      <th>species</th>\n",
       "      <th>organism_lifestage</th>\n",
       "      <th>organism_characteristics</th>\n",
       "      <th>ecotox_group</th>\n",
       "    </tr>\n",
       "  </thead>\n",
       "  <tbody>\n",
       "    <tr>\n",
       "      <td>18579</td>\n",
       "      <td>111466</td>\n",
       "      <td>S</td>\n",
       "      <td>96.0</td>\n",
       "      <td>F</td>\n",
       "      <td>100.0</td>\n",
       "      <td>Actinopterygii</td>\n",
       "      <td>Cypriniformes</td>\n",
       "      <td>Cyprinidae</td>\n",
       "      <td>Pimephales</td>\n",
       "      <td>promelas</td>\n",
       "      <td>NR</td>\n",
       "      <td>NR</td>\n",
       "      <td>Fish,Standard Test Species</td>\n",
       "    </tr>\n",
       "    <tr>\n",
       "      <td>51119</td>\n",
       "      <td>111466</td>\n",
       "      <td>F</td>\n",
       "      <td>96.0</td>\n",
       "      <td>A</td>\n",
       "      <td>75200.0</td>\n",
       "      <td>Actinopterygii</td>\n",
       "      <td>Cypriniformes</td>\n",
       "      <td>Cyprinidae</td>\n",
       "      <td>Pimephales</td>\n",
       "      <td>promelas</td>\n",
       "      <td>NR</td>\n",
       "      <td>19.1 MM, 0.102 G</td>\n",
       "      <td>Fish,Standard Test Species</td>\n",
       "    </tr>\n",
       "  </tbody>\n",
       "</table>\n",
       "</div>"
      ],
      "text/plain": [
       "       test_cas exposure_type  obs_duration_mean conc1_type  conc1_mean  \\\n",
       "18579    111466             S               96.0          F       100.0   \n",
       "51119    111466             F               96.0          A     75200.0   \n",
       "\n",
       "                class      tax_order      family       genus   species  \\\n",
       "18579  Actinopterygii  Cypriniformes  Cyprinidae  Pimephales  promelas   \n",
       "51119  Actinopterygii  Cypriniformes  Cyprinidae  Pimephales  promelas   \n",
       "\n",
       "      organism_lifestage organism_characteristics                ecotox_group  \n",
       "18579                 NR                       NR  Fish,Standard Test Species  \n",
       "51119                 NR         19.1 MM, 0.102 G  Fish,Standard Test Species  "
      ]
     },
     "execution_count": 41,
     "metadata": {},
     "output_type": "execute_result"
    }
   ],
   "source": [
    "base_db[(base_db.obs_duration_mean==96) & (base_db.test_cas==111466) & (base_db.species==\"promelas\")]"
   ]
  },
  {
   "cell_type": "code",
   "execution_count": 45,
   "metadata": {},
   "outputs": [],
   "source": [
    "t1 = results_final[(results_final.test_cas==111466) & (results_final.species==\"promelas\")]\n",
    "t1[[\"conc1_mean\", \"conc1_unit\"]]"
   ]
  },
  {
   "cell_type": "code",
   "execution_count": 54,
   "metadata": {},
   "outputs": [
    {
     "data": {
      "text/plain": [
       "<matplotlib.axes._subplots.AxesSubplot at 0x20a38a61ec8>"
      ]
     },
     "execution_count": 54,
     "metadata": {},
     "output_type": "execute_result"
    },
    {
     "data": {
      "image/png": "[encoded data removed]",
      "text/plain": [
       "<Figure size 1080x576 with 1 Axes>"
      ]
     },
     "metadata": {
      "needs_background": "light"
     },
     "output_type": "display_data"
    }
   ],
   "source": [
    "grouped_96h.conc1_mean.hist(bins=100)"
   ]
  },
  {
   "cell_type": "code",
   "execution_count": 69,
   "metadata": {},
   "outputs": [
    {
     "data": {
      "text/plain": [
       "3638"
      ]
     },
     "execution_count": 69,
     "metadata": {},
     "output_type": "execute_result"
    }
   ],
   "source": [
    "grouped_96h.index.size"
   ]
  },
  {
   "cell_type": "code",
   "execution_count": 68,
   "metadata": {},
   "outputs": [
    {
     "data": {
      "text/plain": [
       "3577"
      ]
     },
     "execution_count": 68,
     "metadata": {},
     "output_type": "execute_result"
    }
   ],
   "source": [
    "grouped96h_no_out = grouped_96h[~(grouped_96h.conc1_mean>1000)]\n",
    "grouped96h_no_out.index.size"
   ]
  },
  {
   "cell_type": "code",
   "execution_count": 66,
   "metadata": {},
   "outputs": [
    {
     "data": {
      "text/plain": [
       "<matplotlib.axes._subplots.AxesSubplot at 0x20a4971d4c8>"
      ]
     },
     "execution_count": 66,
     "metadata": {},
     "output_type": "execute_result"
    },
    {
     "data": {
      "image/png": "[encoded data removed]",
      "text/plain": [
       "<Figure size 1080x576 with 1 Axes>"
      ]
     },
     "metadata": {
      "needs_background": "light"
     },
     "output_type": "display_data"
    }
   ],
   "source": [
    "grouped96h_no_out.conc1_mean.hist(bins=100)"
   ]
  },
  {
   "cell_type": "code",
   "execution_count": 67,
   "metadata": {},
   "outputs": [
    {
     "data": {
      "text/html": [
       "<div>\n",
       "<style scoped>\n",
       "    .dataframe tbody tr th:only-of-type {\n",
       "        vertical-align: middle;\n",
       "    }\n",
       "\n",
       "    .dataframe tbody tr th {\n",
       "        vertical-align: top;\n",
       "    }\n",
       "\n",
       "    .dataframe thead th {\n",
       "        text-align: right;\n",
       "    }\n",
       "</style>\n",
       "<table border=\"1\" class=\"dataframe\">\n",
       "  <thead>\n",
       "    <tr style=\"text-align: right;\">\n",
       "      <th></th>\n",
       "      <th>obs_duration_mean</th>\n",
       "      <th>test_cas</th>\n",
       "      <th>species</th>\n",
       "      <th>conc1_mean</th>\n",
       "    </tr>\n",
       "  </thead>\n",
       "  <tbody>\n",
       "    <tr>\n",
       "      <td>4227</td>\n",
       "      <td>96.0</td>\n",
       "      <td>50000</td>\n",
       "      <td>carolinus</td>\n",
       "      <td>2.909181</td>\n",
       "    </tr>\n",
       "    <tr>\n",
       "      <td>4228</td>\n",
       "      <td>96.0</td>\n",
       "      <td>50000</td>\n",
       "      <td>macrochirus</td>\n",
       "      <td>0.919239</td>\n",
       "    </tr>\n",
       "    <tr>\n",
       "      <td>4230</td>\n",
       "      <td>96.0</td>\n",
       "      <td>50000</td>\n",
       "      <td>promelas</td>\n",
       "      <td>1.171893</td>\n",
       "    </tr>\n",
       "    <tr>\n",
       "      <td>4231</td>\n",
       "      <td>96.0</td>\n",
       "      <td>50000</td>\n",
       "      <td>punctatus</td>\n",
       "      <td>0.000000</td>\n",
       "    </tr>\n",
       "    <tr>\n",
       "      <td>4234</td>\n",
       "      <td>96.0</td>\n",
       "      <td>50282</td>\n",
       "      <td>marmoratus</td>\n",
       "      <td>2.573869</td>\n",
       "    </tr>\n",
       "    <tr>\n",
       "      <td>...</td>\n",
       "      <td>...</td>\n",
       "      <td>...</td>\n",
       "      <td>...</td>\n",
       "      <td>...</td>\n",
       "    </tr>\n",
       "    <tr>\n",
       "      <td>7857</td>\n",
       "      <td>96.0</td>\n",
       "      <td>177256698</td>\n",
       "      <td>tshawytscha</td>\n",
       "      <td>0.000000</td>\n",
       "    </tr>\n",
       "    <tr>\n",
       "      <td>7858</td>\n",
       "      <td>96.0</td>\n",
       "      <td>187166401</td>\n",
       "      <td>macrochirus</td>\n",
       "      <td>0.951766</td>\n",
       "    </tr>\n",
       "    <tr>\n",
       "      <td>7860</td>\n",
       "      <td>96.0</td>\n",
       "      <td>243973208</td>\n",
       "      <td>promelas</td>\n",
       "      <td>0.000000</td>\n",
       "    </tr>\n",
       "    <tr>\n",
       "      <td>7861</td>\n",
       "      <td>96.0</td>\n",
       "      <td>243973208</td>\n",
       "      <td>variegatus</td>\n",
       "      <td>0.000000</td>\n",
       "    </tr>\n",
       "    <tr>\n",
       "      <td>7862</td>\n",
       "      <td>96.0</td>\n",
       "      <td>245367775</td>\n",
       "      <td>affinis</td>\n",
       "      <td>0.051316</td>\n",
       "    </tr>\n",
       "  </tbody>\n",
       "</table>\n",
       "<p>2808 rows × 4 columns</p>\n",
       "</div>"
      ],
      "text/plain": [
       "      obs_duration_mean   test_cas      species  conc1_mean\n",
       "4227               96.0      50000    carolinus    2.909181\n",
       "4228               96.0      50000  macrochirus    0.919239\n",
       "4230               96.0      50000     promelas    1.171893\n",
       "4231               96.0      50000    punctatus    0.000000\n",
       "4234               96.0      50282   marmoratus    2.573869\n",
       "...                 ...        ...          ...         ...\n",
       "7857               96.0  177256698  tshawytscha    0.000000\n",
       "7858               96.0  187166401  macrochirus    0.951766\n",
       "7860               96.0  243973208     promelas    0.000000\n",
       "7861               96.0  243973208   variegatus    0.000000\n",
       "7862               96.0  245367775      affinis    0.051316\n",
       "\n",
       "[2808 rows x 4 columns]"
      ]
     },
     "execution_count": 67,
     "metadata": {},
     "output_type": "execute_result"
    }
   ],
   "source": [
    "grouped96h_no_out[grouped96h_no_out.conc1_mean<10]"
   ]
  },
  {
   "cell_type": "code",
   "execution_count": 70,
   "metadata": {},
   "outputs": [
    {
     "data": {
      "text/plain": [
       "524     118952.849066\n",
       "518      29965.980711\n",
       "104      18738.329701\n",
       "230      18027.756377\n",
       "220      10487.769067\n",
       "            ...      \n",
       "1689         0.000000\n",
       "867          0.000000\n",
       "1765         0.000000\n",
       "1459         0.000000\n",
       "1193         0.000000\n",
       "Name: conc1_mean, Length: 1891, dtype: float64"
      ]
     },
     "execution_count": 70,
     "metadata": {},
     "output_type": "execute_result"
    }
   ],
   "source": [
    "grouped_24h = grouped_std[grouped_std.obs_duration_mean==24]\n",
    "grouped_24h.conc1_mean.sort_values(ascending=False)"
   ]
  },
  {
   "cell_type": "code",
   "execution_count": 71,
   "metadata": {},
   "outputs": [
    {
     "data": {
      "text/plain": [
       "obs_duration_mean             24\n",
       "test_cas                  108872\n",
       "species              crysoleucas\n",
       "conc1_mean                118953\n",
       "Name: 524, dtype: object"
      ]
     },
     "execution_count": 71,
     "metadata": {},
     "output_type": "execute_result"
    }
   ],
   "source": [
    "grouped_std.loc[524]"
   ]
  },
  {
   "cell_type": "code",
   "execution_count": 72,
   "metadata": {},
   "outputs": [
    {
     "data": {
      "text/html": [
       "<div>\n",
       "<style scoped>\n",
       "    .dataframe tbody tr th:only-of-type {\n",
       "        vertical-align: middle;\n",
       "    }\n",
       "\n",
       "    .dataframe tbody tr th {\n",
       "        vertical-align: top;\n",
       "    }\n",
       "\n",
       "    .dataframe thead th {\n",
       "        text-align: right;\n",
       "    }\n",
       "</style>\n",
       "<table border=\"1\" class=\"dataframe\">\n",
       "  <thead>\n",
       "    <tr style=\"text-align: right;\">\n",
       "      <th></th>\n",
       "      <th>test_cas</th>\n",
       "      <th>exposure_type</th>\n",
       "      <th>obs_duration_mean</th>\n",
       "      <th>conc1_type</th>\n",
       "      <th>conc1_mean</th>\n",
       "      <th>class</th>\n",
       "      <th>tax_order</th>\n",
       "      <th>family</th>\n",
       "      <th>genus</th>\n",
       "      <th>species</th>\n",
       "      <th>organism_lifestage</th>\n",
       "      <th>organism_characteristics</th>\n",
       "      <th>ecotox_group</th>\n",
       "    </tr>\n",
       "  </thead>\n",
       "  <tbody>\n",
       "    <tr>\n",
       "      <td>737</td>\n",
       "      <td>108872</td>\n",
       "      <td>S</td>\n",
       "      <td>24.0</td>\n",
       "      <td>F</td>\n",
       "      <td>238000.0</td>\n",
       "      <td>Actinopterygii</td>\n",
       "      <td>Cypriniformes</td>\n",
       "      <td>Cyprinidae</td>\n",
       "      <td>Notemigonus</td>\n",
       "      <td>crysoleucas</td>\n",
       "      <td>NR</td>\n",
       "      <td>NR</td>\n",
       "      <td>Fish</td>\n",
       "    </tr>\n",
       "    <tr>\n",
       "      <td>3504</td>\n",
       "      <td>108872</td>\n",
       "      <td>S</td>\n",
       "      <td>24.0</td>\n",
       "      <td>F</td>\n",
       "      <td>62.0</td>\n",
       "      <td>Actinopterygii</td>\n",
       "      <td>Cypriniformes</td>\n",
       "      <td>Cyprinidae</td>\n",
       "      <td>Notemigonus</td>\n",
       "      <td>crysoleucas</td>\n",
       "      <td>NR</td>\n",
       "      <td>NR</td>\n",
       "      <td>Fish</td>\n",
       "    </tr>\n",
       "    <tr>\n",
       "      <td>3530</td>\n",
       "      <td>108872</td>\n",
       "      <td>S</td>\n",
       "      <td>24.0</td>\n",
       "      <td>F</td>\n",
       "      <td>180.0</td>\n",
       "      <td>Actinopterygii</td>\n",
       "      <td>Cypriniformes</td>\n",
       "      <td>Cyprinidae</td>\n",
       "      <td>Notemigonus</td>\n",
       "      <td>crysoleucas</td>\n",
       "      <td>NR</td>\n",
       "      <td>NR</td>\n",
       "      <td>Fish</td>\n",
       "    </tr>\n",
       "    <tr>\n",
       "      <td>25760</td>\n",
       "      <td>108872</td>\n",
       "      <td>S</td>\n",
       "      <td>24.0</td>\n",
       "      <td>F</td>\n",
       "      <td>41.0</td>\n",
       "      <td>Actinopterygii</td>\n",
       "      <td>Cypriniformes</td>\n",
       "      <td>Cyprinidae</td>\n",
       "      <td>Notemigonus</td>\n",
       "      <td>crysoleucas</td>\n",
       "      <td>NR</td>\n",
       "      <td>NR</td>\n",
       "      <td>Fish</td>\n",
       "    </tr>\n",
       "  </tbody>\n",
       "</table>\n",
       "</div>"
      ],
      "text/plain": [
       "       test_cas exposure_type  obs_duration_mean conc1_type  conc1_mean  \\\n",
       "737      108872             S               24.0          F    238000.0   \n",
       "3504     108872             S               24.0          F        62.0   \n",
       "3530     108872             S               24.0          F       180.0   \n",
       "25760    108872             S               24.0          F        41.0   \n",
       "\n",
       "                class      tax_order      family        genus      species  \\\n",
       "737    Actinopterygii  Cypriniformes  Cyprinidae  Notemigonus  crysoleucas   \n",
       "3504   Actinopterygii  Cypriniformes  Cyprinidae  Notemigonus  crysoleucas   \n",
       "3530   Actinopterygii  Cypriniformes  Cyprinidae  Notemigonus  crysoleucas   \n",
       "25760  Actinopterygii  Cypriniformes  Cyprinidae  Notemigonus  crysoleucas   \n",
       "\n",
       "      organism_lifestage organism_characteristics ecotox_group  \n",
       "737                   NR                       NR         Fish  \n",
       "3504                  NR                       NR         Fish  \n",
       "3530                  NR                       NR         Fish  \n",
       "25760                 NR                       NR         Fish  "
      ]
     },
     "execution_count": 72,
     "metadata": {},
     "output_type": "execute_result"
    }
   ],
   "source": [
    "base_db[(base_db.obs_duration_mean==24) & (base_db.test_cas==108872) & (base_db.species==\"crysoleucas\")]"
   ]
  },
  {
   "cell_type": "code",
   "execution_count": 77,
   "metadata": {},
   "outputs": [
    {
     "data": {
      "text/html": [
       "<div>\n",
       "<style scoped>\n",
       "    .dataframe tbody tr th:only-of-type {\n",
       "        vertical-align: middle;\n",
       "    }\n",
       "\n",
       "    .dataframe tbody tr th {\n",
       "        vertical-align: top;\n",
       "    }\n",
       "\n",
       "    .dataframe thead th {\n",
       "        text-align: right;\n",
       "    }\n",
       "</style>\n",
       "<table border=\"1\" class=\"dataframe\">\n",
       "  <thead>\n",
       "    <tr style=\"text-align: right;\">\n",
       "      <th></th>\n",
       "      <th>conc1_mean</th>\n",
       "      <th>conc1_unit</th>\n",
       "    </tr>\n",
       "  </thead>\n",
       "  <tbody>\n",
       "    <tr>\n",
       "      <td>892</td>\n",
       "      <td>238000000*</td>\n",
       "      <td>ug/L</td>\n",
       "    </tr>\n",
       "    <tr>\n",
       "      <td>4098</td>\n",
       "      <td>62000*</td>\n",
       "      <td>ug/L</td>\n",
       "    </tr>\n",
       "    <tr>\n",
       "      <td>4125</td>\n",
       "      <td>180000*</td>\n",
       "      <td>ug/L</td>\n",
       "    </tr>\n",
       "    <tr>\n",
       "      <td>29491</td>\n",
       "      <td>41000*</td>\n",
       "      <td>ug/L</td>\n",
       "    </tr>\n",
       "  </tbody>\n",
       "</table>\n",
       "</div>"
      ],
      "text/plain": [
       "       conc1_mean conc1_unit\n",
       "892    238000000*       ug/L\n",
       "4098       62000*       ug/L\n",
       "4125      180000*       ug/L\n",
       "29491      41000*       ug/L"
      ]
     },
     "execution_count": 77,
     "metadata": {},
     "output_type": "execute_result"
    }
   ],
   "source": [
    "t2 = results_final[(results_final.obs_duration_mean==\"24\") & (results_final.test_cas==108872) & (results_final.species==\"crysoleucas\")]\n",
    "t2[[\"conc1_mean\", \"conc1_unit\"]]"
   ]
  },
  {
   "cell_type": "code",
   "execution_count": 78,
   "metadata": {},
   "outputs": [
    {
     "data": {
      "text/plain": [
       "<matplotlib.axes._subplots.AxesSubplot at 0x20a49eb5f48>"
      ]
     },
     "execution_count": 78,
     "metadata": {},
     "output_type": "execute_result"
    },
    {
     "data": {
      "image/png": "[encoded data removed]",
      "text/plain": [
       "<Figure size 1080x576 with 1 Axes>"
      ]
     },
     "metadata": {
      "needs_background": "light"
     },
     "output_type": "display_data"
    }
   ],
   "source": [
    "grouped_24h.conc1_mean.hist(bins=100)"
   ]
  },
  {
   "cell_type": "code",
   "execution_count": 80,
   "metadata": {},
   "outputs": [
    {
     "data": {
      "text/plain": [
       "1891"
      ]
     },
     "execution_count": 80,
     "metadata": {},
     "output_type": "execute_result"
    }
   ],
   "source": [
    "grouped_24h.index.size"
   ]
  },
  {
   "cell_type": "code",
   "execution_count": 83,
   "metadata": {},
   "outputs": [
    {
     "data": {
      "text/html": [
       "<div>\n",
       "<style scoped>\n",
       "    .dataframe tbody tr th:only-of-type {\n",
       "        vertical-align: middle;\n",
       "    }\n",
       "\n",
       "    .dataframe tbody tr th {\n",
       "        vertical-align: top;\n",
       "    }\n",
       "\n",
       "    .dataframe thead th {\n",
       "        text-align: right;\n",
       "    }\n",
       "</style>\n",
       "<table border=\"1\" class=\"dataframe\">\n",
       "  <thead>\n",
       "    <tr style=\"text-align: right;\">\n",
       "      <th></th>\n",
       "      <th>obs_duration_mean</th>\n",
       "      <th>test_cas</th>\n",
       "      <th>species</th>\n",
       "      <th>conc1_mean</th>\n",
       "    </tr>\n",
       "  </thead>\n",
       "  <tbody>\n",
       "    <tr>\n",
       "      <td>0</td>\n",
       "      <td>24.0</td>\n",
       "      <td>50000</td>\n",
       "      <td>carolinus</td>\n",
       "      <td>3.579572</td>\n",
       "    </tr>\n",
       "    <tr>\n",
       "      <td>1</td>\n",
       "      <td>24.0</td>\n",
       "      <td>50000</td>\n",
       "      <td>latipes</td>\n",
       "      <td>27.300794</td>\n",
       "    </tr>\n",
       "    <tr>\n",
       "      <td>2</td>\n",
       "      <td>24.0</td>\n",
       "      <td>50000</td>\n",
       "      <td>mykiss</td>\n",
       "      <td>30.405592</td>\n",
       "    </tr>\n",
       "    <tr>\n",
       "      <td>3</td>\n",
       "      <td>24.0</td>\n",
       "      <td>50000</td>\n",
       "      <td>punctatus</td>\n",
       "      <td>28.867513</td>\n",
       "    </tr>\n",
       "    <tr>\n",
       "      <td>4</td>\n",
       "      <td>24.0</td>\n",
       "      <td>50000</td>\n",
       "      <td>saxatilis</td>\n",
       "      <td>44.353880</td>\n",
       "    </tr>\n",
       "    <tr>\n",
       "      <td>...</td>\n",
       "      <td>...</td>\n",
       "      <td>...</td>\n",
       "      <td>...</td>\n",
       "      <td>...</td>\n",
       "    </tr>\n",
       "    <tr>\n",
       "      <td>1886</td>\n",
       "      <td>24.0</td>\n",
       "      <td>96352691</td>\n",
       "      <td>mykiss</td>\n",
       "      <td>0.000000</td>\n",
       "    </tr>\n",
       "    <tr>\n",
       "      <td>1887</td>\n",
       "      <td>24.0</td>\n",
       "      <td>100473083</td>\n",
       "      <td>macrochirus</td>\n",
       "      <td>0.611010</td>\n",
       "    </tr>\n",
       "    <tr>\n",
       "      <td>1888</td>\n",
       "      <td>24.0</td>\n",
       "      <td>100473083</td>\n",
       "      <td>mykiss</td>\n",
       "      <td>0.707107</td>\n",
       "    </tr>\n",
       "    <tr>\n",
       "      <td>1889</td>\n",
       "      <td>24.0</td>\n",
       "      <td>107534963</td>\n",
       "      <td>rerio</td>\n",
       "      <td>12.586501</td>\n",
       "    </tr>\n",
       "    <tr>\n",
       "      <td>1890</td>\n",
       "      <td>24.0</td>\n",
       "      <td>120068373</td>\n",
       "      <td>promelas</td>\n",
       "      <td>0.013308</td>\n",
       "    </tr>\n",
       "  </tbody>\n",
       "</table>\n",
       "<p>1856 rows × 4 columns</p>\n",
       "</div>"
      ],
      "text/plain": [
       "      obs_duration_mean   test_cas      species  conc1_mean\n",
       "0                  24.0      50000    carolinus    3.579572\n",
       "1                  24.0      50000      latipes   27.300794\n",
       "2                  24.0      50000       mykiss   30.405592\n",
       "3                  24.0      50000    punctatus   28.867513\n",
       "4                  24.0      50000    saxatilis   44.353880\n",
       "...                 ...        ...          ...         ...\n",
       "1886               24.0   96352691       mykiss    0.000000\n",
       "1887               24.0  100473083  macrochirus    0.611010\n",
       "1888               24.0  100473083       mykiss    0.707107\n",
       "1889               24.0  107534963        rerio   12.586501\n",
       "1890               24.0  120068373     promelas    0.013308\n",
       "\n",
       "[1856 rows x 4 columns]"
      ]
     },
     "execution_count": 83,
     "metadata": {},
     "output_type": "execute_result"
    }
   ],
   "source": [
    "grouped_24h[~(grouped_24h.conc1_mean>1000)]"
   ]
  },
  {
   "cell_type": "code",
   "execution_count": null,
   "metadata": {},
   "outputs": [],
   "source": []
  },
  {
   "cell_type": "code",
   "execution_count": null,
   "metadata": {},
   "outputs": [],
   "source": []
  }
 ],
 "metadata": {
  "kernelspec": {
   "display_name": "Python 3",
   "language": "python",
   "name": "python3"
  },
  "language_info": {
   "codemirror_mode": {
    "name": "ipython",
    "version": 3
   },
   "file_extension": ".py",
   "mimetype": "text/x-python",
   "name": "python",
   "nbconvert_exporter": "python",
   "pygments_lexer": "ipython3",
   "version": "3.7.4"
  },
  "latex_envs": {
   "LaTeX_envs_menu_present": true,
   "autoclose": false,
   "autocomplete": true,
   "bibliofile": "biblio.bib",
   "cite_by": "apalike",
   "current_citInitial": 1,
   "eqLabelWithNumbers": true,
   "eqNumInitial": 1,
   "hotkeys": {
    "equation": "Ctrl-E",
    "itemize": "Ctrl-I"
   },
   "labels_anchors": false,
   "latex_user_defs": false,
   "report_style_numbering": false,
   "user_envs_cfg": false
  },
  "varInspector": {
   "cols": {
    "lenName": 16,
    "lenType": 16,
    "lenVar": 40
   },
   "kernels_config": {
    "python": {
     "delete_cmd_postfix": "",
     "delete_cmd_prefix": "del ",
     "library": "var_list.py",
     "varRefreshCmd": "print(var_dic_list())"
    },
    "r": {
     "delete_cmd_postfix": ") ",
     "delete_cmd_prefix": "rm(",
     "library": "var_list.r",
     "varRefreshCmd": "cat(var_dic_list()) "
    }
   },
   "types_to_exclude": [
    "module",
    "function",
    "builtin_function_or_method",
    "instance",
    "_Feature"
   ],
   "window_display": false
  }
 },
 "nbformat": 4,
 "nbformat_minor": 4
}
